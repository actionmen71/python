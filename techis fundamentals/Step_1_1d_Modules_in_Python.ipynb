{
  "nbformat": 4,
  "nbformat_minor": 0,
  "metadata": {
    "colab": {
      "provenance": []
    },
    "kernelspec": {
      "name": "python3",
      "display_name": "Python 3"
    }
  },
  "cells": [
    {
      "cell_type": "markdown",
      "metadata": {
        "id": "NwjbaRC06MLz"
      },
      "source": [
        "# Python Module\n",
        "\n",
        "- modules are files that have python code in them\n",
        "  - and can be imported into other code files\n",
        "\n",
        "- a module is a file containing a set of functions you want to include in your application\n",
        "  - a module is the same as a code library\n",
        "\n",
        "- to create a module, just save the code you want in a file with the file extension `.py`"
      ]
    },
    {
      "cell_type": "markdown",
      "metadata": {
        "id": "7q48e0c860X3"
      },
      "source": [
        "### Create a Module\n",
        "\n",
        "- make a file called `mymodule.py` and put the following code in it\n",
        "\n",
        "```python\n",
        "def greeting(name):\n",
        "  print(\"Hello, \" + name)\n",
        "```"
      ]
    },
    {
      "cell_type": "markdown",
      "metadata": {
        "id": "GFtmeyLT7aGm"
      },
      "source": [
        "- then, we can import the module we created using the import statement"
      ]
    },
    {
      "cell_type": "markdown",
      "metadata": {
        "id": "6P7dp9Kp9mfK"
      },
      "source": [
        "### Use a Module"
      ]
    },
    {
      "cell_type": "code",
      "metadata": {
        "id": "HWaYkuC65gcP",
        "colab": {
          "base_uri": "https://localhost:8080/",
          "height": 34
        },
        "outputId": "b4573ab6-d541-4f69-af8d-35c79ec05d12"
      },
      "source": [
        "# import model\n",
        "import mymodule\n",
        "\n",
        "# use the function greeting from mymodule\n",
        "mymodule.greeting(\"Jill\")"
      ],
      "execution_count": null,
      "outputs": [
        {
          "output_type": "stream",
          "text": [
            "Hello, Jill\n"
          ],
          "name": "stdout"
        }
      ]
    },
    {
      "cell_type": "markdown",
      "metadata": {
        "id": "SwaRtZUtD88U"
      },
      "source": [
        "### Aliasing a Module\n",
        "\n",
        "- you can create an alias when you import a module, using the `as` keyword"
      ]
    },
    {
      "cell_type": "code",
      "metadata": {
        "id": "gfp9929ND9f0",
        "colab": {
          "base_uri": "https://localhost:8080/",
          "height": 34
        },
        "outputId": "18418203-3b67-4200-8d8d-ee13feffe700"
      },
      "source": [
        "# import mymodule with alias 'mm'\n",
        "import mymodule as mm\n",
        "\n",
        "# call the function greeting from alias 'mm'\n",
        "mm.greeting(\"Jill\")"
      ],
      "execution_count": null,
      "outputs": [
        {
          "output_type": "stream",
          "text": [
            "Hello, Jill\n"
          ],
          "name": "stdout"
        }
      ]
    },
    {
      "cell_type": "markdown",
      "metadata": {
        "id": "VKw5cYJs7pMz"
      },
      "source": [
        "# Built-in Modules\n"
      ]
    },
    {
      "cell_type": "markdown",
      "metadata": {
        "id": "Pzg0y0hajpQs"
      },
      "source": [
        "### Datetime module - Built-in Module\n",
        "\n",
        "- a date in Python is not a data type of its own, but we can import a module named `datetime` to work with dates as date objects"
      ]
    },
    {
      "cell_type": "markdown",
      "metadata": {
        "id": "UZ5GFJyotG6Z"
      },
      "source": [
        "##### Python Date - `.now()`"
      ]
    },
    {
      "cell_type": "code",
      "metadata": {
        "id": "mgn1QyuM7o0T",
        "colab": {
          "base_uri": "https://localhost:8080/",
          "height": 68
        },
        "outputId": "b7f04f46-c7d8-4172-88f2-92e3c0ef7157"
      },
      "source": [
        "# import datetime module\n",
        "import datetime\n",
        "\n",
        "# .now() is a built-in datetime function\n",
        "time_now = datetime.datetime.now()\n",
        "\n",
        "# print time now\n",
        "print(time_now)\n",
        "\n",
        "# print year only\n",
        "print(time_now.year)\n",
        "\n",
        "# print day only\n",
        "print(time_now.strftime(\"%A\"))"
      ],
      "execution_count": null,
      "outputs": [
        {
          "output_type": "stream",
          "text": [
            "2020-07-08 18:35:07.432575\n",
            "2020\n",
            "Wednesday\n"
          ],
          "name": "stdout"
        }
      ]
    },
    {
      "cell_type": "markdown",
      "metadata": {
        "id": "MiHDGfzQy1N2"
      },
      "source": [
        "##### Create a Datetime Object"
      ]
    },
    {
      "cell_type": "code",
      "metadata": {
        "id": "3BDawcrCy0tm",
        "colab": {
          "base_uri": "https://localhost:8080/",
          "height": 34
        },
        "outputId": "d63102a2-df1e-49e7-b390-9d21725cb298"
      },
      "source": [
        "new_date = datetime.datetime(2020, 5, 17)\n",
        "\n",
        "print(new_date)"
      ],
      "execution_count": null,
      "outputs": [
        {
          "output_type": "stream",
          "text": [
            "2020-05-17 00:00:00\n"
          ],
          "name": "stdout"
        }
      ]
    },
    {
      "cell_type": "markdown",
      "metadata": {
        "id": "ayvgLfA7tIxG"
      },
      "source": [
        "##### String format Time - `strftime()`\n",
        "\n",
        "- the `datetime` object has a method for formatting date objects into readable strings\n",
        "\n",
        "- the method is called `strftime()`, and takes one parameter, format, to specify the format of the returned string"
      ]
    },
    {
      "cell_type": "code",
      "metadata": {
        "id": "U-fzM2Yszzje",
        "colab": {
          "base_uri": "https://localhost:8080/",
          "height": 85
        },
        "outputId": "26069868-7316-4157-8f57-1bdedcab37e5"
      },
      "source": [
        "# Create a Data\n",
        "x = datetime.datetime(2018, 6, 1)\n",
        "\n",
        "# Get the Weekday name\n",
        "print(x.strftime(\"%A\"))\n",
        "\n",
        "# Get the Month name\n",
        "print(x.strftime(\"%B\"))\n",
        "\n",
        "# Get the Weekday name\n",
        "print(x.strftime(\"%d\"))\n",
        "\n",
        "# Get the Weekday name\n",
        "print(x.strftime(\"%Y\"))"
      ],
      "execution_count": null,
      "outputs": [
        {
          "output_type": "stream",
          "text": [
            "Friday\n",
            "June\n",
            "01\n",
            "2018\n"
          ],
          "name": "stdout"
        }
      ]
    },
    {
      "cell_type": "markdown",
      "metadata": {
        "id": "tQ0drE-s0mD9"
      },
      "source": [
        "### Math module - Built-in Module\n",
        "\n",
        "- Python has also a built-in module called `math`, which extends the list of mathematical functions\n",
        "\n",
        "- When you have imported the `math` module, you can start using methods and constants of the module"
      ]
    },
    {
      "cell_type": "code",
      "metadata": {
        "id": "DdpzvXiG1DM8"
      },
      "source": [
        "# import math module\n",
        "import math"
      ],
      "execution_count": null,
      "outputs": []
    },
    {
      "cell_type": "markdown",
      "metadata": {
        "id": "wrfMrEwM1iVL"
      },
      "source": [
        "##### Square Root"
      ]
    },
    {
      "cell_type": "code",
      "metadata": {
        "id": "WPrWnUez1kvO",
        "colab": {
          "base_uri": "https://localhost:8080/",
          "height": 34
        },
        "outputId": "4d057d15-2f2b-464f-8cb1-9cb03b21b805"
      },
      "source": [
        "sq_root = math.sqrt(64) # finds the square root\n",
        "\n",
        "print(sq_root)"
      ],
      "execution_count": null,
      "outputs": [
        {
          "output_type": "stream",
          "text": [
            "8.0\n"
          ],
          "name": "stdout"
        }
      ]
    },
    {
      "cell_type": "markdown",
      "metadata": {
        "id": "FIGgQ6so1qHD"
      },
      "source": [
        "##### Math Ceil and Floor\n",
        "\n",
        "- the `math.ceil()` method rounds a number *upwards* to nearest integer\n",
        "- the `math.floor()` method rounds a number *downwards* to nearest integer"
      ]
    },
    {
      "cell_type": "code",
      "metadata": {
        "id": "G8VO2-5K10a4",
        "colab": {
          "base_uri": "https://localhost:8080/",
          "height": 51
        },
        "outputId": "de6a56ca-114c-4f15-9d57-972890dd2524"
      },
      "source": [
        "round_higher = math.ceil(1.4) # round up\n",
        "round_lower = math.floor(1.4) # round down\n",
        "\n",
        "print(round_higher)\n",
        "print(round_lower)"
      ],
      "execution_count": null,
      "outputs": [
        {
          "output_type": "stream",
          "text": [
            "2\n",
            "1\n"
          ],
          "name": "stdout"
        }
      ]
    },
    {
      "cell_type": "markdown",
      "metadata": {
        "id": "aDfcKDIJ3fCN"
      },
      "source": [
        "##### Math Constant\n",
        "\n"
      ]
    },
    {
      "cell_type": "code",
      "metadata": {
        "id": "dH3mjsnB3v9E",
        "colab": {
          "base_uri": "https://localhost:8080/",
          "height": 34
        },
        "outputId": "40a3b022-57b6-436b-b82e-4d4085938f68"
      },
      "source": [
        "pi_value = math.pi # get the pi constant\n",
        "\n",
        "print(pi_value)"
      ],
      "execution_count": null,
      "outputs": [
        {
          "output_type": "stream",
          "text": [
            "3.141592653589793\n"
          ],
          "name": "stdout"
        }
      ]
    },
    {
      "cell_type": "markdown",
      "metadata": {
        "id": "iLnpVVlH4HCg"
      },
      "source": [
        "### Random module - Built-in Module\n",
        "\n"
      ]
    },
    {
      "cell_type": "markdown",
      "metadata": {
        "id": "mgU2vaMc5a1F"
      },
      "source": [
        "- Python has a built-in module that you can use to make random numbers\n",
        "- it is called `random`"
      ]
    },
    {
      "cell_type": "code",
      "metadata": {
        "id": "Blha5oFb4Gij",
        "colab": {
          "base_uri": "https://localhost:8080/",
          "height": 34
        },
        "outputId": "d328ee28-32c6-40d3-f65d-443ad45afd69"
      },
      "source": [
        "# import the random module\n",
        "import random\n",
        "\n",
        "# generate random integer between 0 and 9\n",
        "random_integer = random.randint(0,9)\n",
        "print(random_integer)"
      ],
      "execution_count": null,
      "outputs": [
        {
          "output_type": "stream",
          "text": [
            "4\n"
          ],
          "name": "stdout"
        }
      ]
    },
    {
      "cell_type": "code",
      "metadata": {
        "id": "tNjvw3zH6cwl",
        "colab": {
          "base_uri": "https://localhost:8080/",
          "height": 34
        },
        "outputId": "da885fb0-6cde-4c0f-faec-d40a573b10e6"
      },
      "source": [
        "# generate random number between 0 and 9\n",
        "random_number = random.randrange(9)\n",
        "print(random_number)"
      ],
      "execution_count": null,
      "outputs": [
        {
          "output_type": "stream",
          "text": [
            "6\n"
          ],
          "name": "stdout"
        }
      ]
    },
    {
      "cell_type": "markdown",
      "metadata": {
        "id": "-v30NNV34I92"
      },
      "source": [
        "# Reference\n",
        "\n",
        "- [Python Datetime Module](https://docs.python.org/3/library/datetime.html?highlight=date%20time#module-datetime)\n",
        "- [Python Math Module](https://docs.python.org/3/library/math.html)\n",
        "- [Python Random Module](https://docs.python.org/3/library/random.html?highlight=random#module-random)\n"
      ]
    }
  ]
}