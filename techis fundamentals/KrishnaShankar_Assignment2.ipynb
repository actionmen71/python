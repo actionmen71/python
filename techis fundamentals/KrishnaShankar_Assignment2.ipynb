{
  "nbformat": 4,
  "nbformat_minor": 0,
  "metadata": {
    "colab": {
      "provenance": []
    },
    "kernelspec": {
      "name": "python3",
      "display_name": "Python 3"
    },
    "language_info": {
      "name": "python"
    }
  },
  "cells": [
    {
      "cell_type": "markdown",
      "source": [
        "# 1. Write a program to show slicing method in list."
      ],
      "metadata": {
        "id": "xOZC4bJ1pFVh"
      }
    },
    {
      "cell_type": "code",
      "execution_count": null,
      "metadata": {
        "colab": {
          "base_uri": "https://localhost:8080/"
        },
        "id": "LoD1zGGXo6Rv",
        "outputId": "52e271b3-cbf3-4d91-b5f8-678c17491ed4"
      },
      "outputs": [
        {
          "output_type": "stream",
          "name": "stdout",
          "text": [
            "['apple', 'banana', 'black', 57, 60, 100]\n",
            "['banana', 'black', 57]\n",
            "['banana', 'black', 57, 60, 100]\n"
          ]
        }
      ],
      "source": [
        "my_list = [\"apple\",\"banana\",\"black\",57,60,100]\n",
        "\n",
        "print(my_list[:]) # all the elements in the list\n",
        "\n",
        "print(my_list[1:4]) # second index to fourth index\n",
        "\n",
        "print(my_list[1:]) # second index to last\n",
        "\n",
        "\n"
      ]
    },
    {
      "cell_type": "markdown",
      "source": [
        "# 2. Write a program to concatinate two strings."
      ],
      "metadata": {
        "id": "0rdmxeajrMxF"
      }
    },
    {
      "cell_type": "code",
      "source": [
        "str1 = \"Live Life\"\n",
        "str2 = \" \"\n",
        "str3 = \"happily\"\n",
        "\n",
        "str3 = str1+str2+str3 #string concatination\n",
        "\n",
        "print(str3)\n"
      ],
      "metadata": {
        "colab": {
          "base_uri": "https://localhost:8080/"
        },
        "id": "e8LOdp7hrPMr",
        "outputId": "56ba1eb0-c974-4302-b65c-bc2c2ed8a4cf"
      },
      "execution_count": null,
      "outputs": [
        {
          "output_type": "stream",
          "name": "stdout",
          "text": [
            "Live Life happily\n"
          ]
        }
      ]
    },
    {
      "cell_type": "markdown",
      "source": [
        "# 3. Write the program to sort a List."
      ],
      "metadata": {
        "id": "H6xwnlUTrQKX"
      }
    },
    {
      "cell_type": "code",
      "source": [
        "my_list = [9,8,7,6,5,4,3,2,1]\n",
        "\n",
        "my_new_list = sorted(my_list)\n",
        "\n",
        "print(my_new_list)"
      ],
      "metadata": {
        "id": "EK3WRPu0rTi7",
        "colab": {
          "base_uri": "https://localhost:8080/"
        },
        "outputId": "98e7f6f6-a30a-42b7-aa29-dddc01f00d9d"
      },
      "execution_count": null,
      "outputs": [
        {
          "output_type": "stream",
          "name": "stdout",
          "text": [
            "[1, 2, 3, 4, 5, 6, 7, 8, 9]\n"
          ]
        }
      ]
    },
    {
      "cell_type": "markdown",
      "source": [
        "# 4. Perform Append, Extend, Insert, Remove, Pop using If else function."
      ],
      "metadata": {
        "id": "gMb1NCTYrT1M"
      }
    },
    {
      "cell_type": "markdown",
      "source": [
        "append"
      ],
      "metadata": {
        "id": "c7iXhTfJvFNa"
      }
    },
    {
      "cell_type": "code",
      "source": [
        "my_list = [\"how\",\"are\",\"you\",\"?\"] #to check remove ? from the list\n",
        "if (my_list[-1] != \"?\"):\n",
        "  my_list.append(\"?\")\n",
        "  print(my_list)\n",
        "else:\n",
        "  print(\"No Editing required\")\n",
        "\n",
        "\n",
        "\n"
      ],
      "metadata": {
        "colab": {
          "base_uri": "https://localhost:8080/"
        },
        "id": "lcVmJohJ1R19",
        "outputId": "31f87ba8-e3ef-4fab-91b3-b27f9aea972e"
      },
      "execution_count": null,
      "outputs": [
        {
          "output_type": "stream",
          "name": "stdout",
          "text": [
            "No Editing required\n"
          ]
        }
      ]
    },
    {
      "cell_type": "markdown",
      "source": [
        "Extend"
      ],
      "metadata": {
        "id": "4lmqeEWqw83P"
      }
    },
    {
      "cell_type": "code",
      "source": [
        "my_list = []\n",
        "if not my_list:\n",
        "  my_list.extend([\"I\",\"am\",\"fine.\"])\n",
        "  print(my_list)\n",
        "else:\n",
        "  print(\"No Editing required\")\n",
        "\n"
      ],
      "metadata": {
        "colab": {
          "base_uri": "https://localhost:8080/"
        },
        "id": "QwCsLZXTw8AW",
        "outputId": "6c3828d7-0955-4417-db6d-7fdf46b6d802"
      },
      "execution_count": null,
      "outputs": [
        {
          "output_type": "stream",
          "name": "stdout",
          "text": [
            "['I', 'am', 'fine.']\n"
          ]
        }
      ]
    },
    {
      "cell_type": "markdown",
      "source": [
        "insert"
      ],
      "metadata": {
        "id": "zZFDOGgX0KU9"
      }
    },
    {
      "cell_type": "code",
      "source": [
        "my_list = [\"Today\",\"is\",\"good day.\"]\n",
        "if (my_list[2] != \"a\"):\n",
        "  my_list.insert(2,\"a\")\n",
        "  print(my_list)\n",
        "else:\n",
        "  print(\"No Editing required\")"
      ],
      "metadata": {
        "colab": {
          "base_uri": "https://localhost:8080/"
        },
        "id": "UMRfwkiAyLo-",
        "outputId": "ee23cdc5-36ef-42e7-b00f-7a926e5ea239"
      },
      "execution_count": null,
      "outputs": [
        {
          "output_type": "stream",
          "name": "stdout",
          "text": [
            "['Today', 'is', 'a', 'good day.']\n"
          ]
        }
      ]
    },
    {
      "cell_type": "markdown",
      "source": [
        "pop"
      ],
      "metadata": {
        "id": "zp8r8hx_zcBY"
      }
    },
    {
      "cell_type": "code",
      "source": [
        "my_list = [\"how\",\"are\",\"you\",\"?\"]\n",
        "if (len(my_list) == 4):\n",
        "  my_list.pop(3)\n",
        "  print(my_list)\n",
        "else:\n",
        "  print(\"No Editing required\")"
      ],
      "metadata": {
        "colab": {
          "base_uri": "https://localhost:8080/"
        },
        "id": "FvUNZW07zboa",
        "outputId": "d1d3d394-346c-411d-ceb1-ad49f4f0b153"
      },
      "execution_count": null,
      "outputs": [
        {
          "output_type": "stream",
          "name": "stdout",
          "text": [
            "['how', 'are', 'you']\n"
          ]
        }
      ]
    },
    {
      "cell_type": "markdown",
      "source": [
        "remove"
      ],
      "metadata": {
        "id": "X8ISPcXpzx04"
      }
    },
    {
      "cell_type": "code",
      "source": [
        "my_list = [\"how\",\"are\",\"you\",\"not\",\"?\"]\n",
        "if (my_list[3] == \"not\"):\n",
        "  my_list.remove(\"not\")\n",
        "  print(my_list)\n",
        "else:\n",
        "  print(\"No Editing required\")"
      ],
      "metadata": {
        "colab": {
          "base_uri": "https://localhost:8080/"
        },
        "id": "MhpzyxpPzzeK",
        "outputId": "25044b87-6a43-41b0-876d-b9cde378a8dd"
      },
      "execution_count": null,
      "outputs": [
        {
          "output_type": "stream",
          "name": "stdout",
          "text": [
            "['how', 'are', 'you', '?']\n"
          ]
        }
      ]
    }
  ]
}