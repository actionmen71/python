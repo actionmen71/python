{
  "nbformat": 4,
  "nbformat_minor": 0,
  "metadata": {
    "colab": {
      "provenance": []
    },
    "kernelspec": {
      "name": "python3",
      "display_name": "Python 3"
    },
    "language_info": {
      "name": "python"
    }
  },
  "cells": [
    {
      "cell_type": "markdown",
      "source": [
        "# Classes and Objects"
      ],
      "metadata": {
        "id": "oNx1M-P-ONu4"
      }
    },
    {
      "cell_type": "markdown",
      "source": [
        "Properties - Data fields - variables - state of real world objects\n",
        "\n",
        "\n",
        "\n",
        "\n",
        "\n",
        "\n",
        "Methods - behaviour - real world objects\n"
      ],
      "metadata": {
        "id": "4mTIRQVYOTwg"
      }
    },
    {
      "cell_type": "code",
      "source": [
        "class Person: #class\n",
        "  pass\n",
        "\n",
        "p=Person()  #object\n",
        "\n",
        "print(p)\n"
      ],
      "metadata": {
        "colab": {
          "base_uri": "https://localhost:8080/"
        },
        "id": "-9HDYjziPEjL",
        "outputId": "361182fa-ffdb-47f6-ab1a-fc054d767a1f"
      },
      "execution_count": null,
      "outputs": [
        {
          "output_type": "stream",
          "name": "stdout",
          "text": [
            "<__main__.Person object at 0x7f4c87fda710>\n"
          ]
        }
      ]
    },
    {
      "cell_type": "code",
      "source": [
        "class Person: #class\n",
        "  def say_hi(self): #this is a class method\n",
        "  # the self parameter has made this method a class method otherwise it's a normal method\n",
        "    print(\"hello\")\n",
        "\n",
        "p=Person()  #object created from above class\n",
        "\n",
        "print(p) # it will show \"<__main__.Person object at 0x7f4c85520d90>\"\n",
        "p.say_hi() # running method from object which was instantiated from class"
      ],
      "metadata": {
        "colab": {
          "base_uri": "https://localhost:8080/"
        },
        "id": "xlHmXRRKP0Fd",
        "outputId": "97343e8c-e61b-465c-bc18-603f40483685"
      },
      "execution_count": null,
      "outputs": [
        {
          "output_type": "stream",
          "name": "stdout",
          "text": [
            "<__main__.Person object at 0x7f4c85520d90>\n",
            "hello\n"
          ]
        }
      ]
    },
    {
      "cell_type": "code",
      "source": [
        "class Person:\n",
        "  def __init__(self,name): #__init__ constructor function\n",
        "    self.name = name       #object variable\n",
        "\n",
        "  def say_hi(self):\n",
        "    print(\"hello\",self.name)\n",
        "\n",
        "p = Person(\"jill\")\n",
        "\n",
        "p.say_high()"
      ],
      "metadata": {
        "id": "LCr7l410Rclr"
      },
      "execution_count": null,
      "outputs": []
    },
    {
      "cell_type": "markdown",
      "source": [
        "# Class Variable vs Object variable"
      ],
      "metadata": {
        "id": "ZD9lqVaAT9To"
      }
    },
    {
      "cell_type": "markdown",
      "source": [
        "Class variable accessible to all the objects and changes seen by all.\n",
        " teacher on a black board.\n",
        "\n",
        " object variable accessbile to only that object and not seen by all.\n",
        " student writing in his own notebook."
      ],
      "metadata": {
        "id": "3YYPdoPOUQ-w"
      }
    },
    {
      "cell_type": "code",
      "source": [
        "def is_even(num):\n",
        "  #docstring only in triple quotes, and first line after the definition\n",
        "  ''' This is a docstring section where you will get all the help.'''\n",
        "  return num%2==0\n",
        "  ''' This is new.'''\n",
        "\n",
        "help(is_even)"
      ],
      "metadata": {
        "colab": {
          "base_uri": "https://localhost:8080/"
        },
        "id": "Os6_UMlrT6Ke",
        "outputId": "7fc36385-97ce-43eb-8fdc-3a5361fa5c8d"
      },
      "execution_count": null,
      "outputs": [
        {
          "output_type": "stream",
          "name": "stdout",
          "text": [
            "Help on function is_even in module __main__:\n",
            "\n",
            "is_even(num)\n",
            "    This is a docstring section where you will get all the help.\n",
            "\n"
          ]
        }
      ]
    },
    {
      "cell_type": "code",
      "source": [
        "pi_value = 3.14\n",
        "print(\"The value of PI is {}\".format (pi_value))"
      ],
      "metadata": {
        "colab": {
          "base_uri": "https://localhost:8080/"
        },
        "id": "E_uD1YyHmVZj",
        "outputId": "0bcb6a7f-17cc-477d-c221-b23b5b34bc6d"
      },
      "execution_count": null,
      "outputs": [
        {
          "output_type": "stream",
          "name": "stdout",
          "text": [
            "The value of PI is 3.14\n"
          ]
        }
      ]
    },
    {
      "cell_type": "markdown",
      "source": [
        "ROBOT CLASS"
      ],
      "metadata": {
        "id": "QCyVvx9MmuVW"
      }
    },
    {
      "cell_type": "code",
      "source": [
        "class Robot: #class name Robot\n",
        "  ''' Represents a robot,with a name.''' #this is docstring\n",
        "\n",
        "  population = 0 #class variable or field or data field\n",
        "\n",
        "  def __init__(self,name):\n",
        "    ''' class method docstring '''\n",
        "    self.name = name #object variable\n",
        "    print(\"(Initializing{}\".format(self.name))\n",
        "\n",
        "  def die(self):\n",
        "    print(\"{} is being destroyed!\".format(self.name))\n",
        "    Robot.population -= 1\n",
        "\n",
        "    if Robot.populaion == 0:\n",
        "      print(\"{} was the last one.\".format(self.name))\n",
        "    else:\n",
        "      print(\"There are still {:d} robots working.\".format(Robot.population))\n",
        "\n",
        "  def say_hi(self):\n",
        "    ''' Greeting by the robot.\n",
        "    yeah, they can do that.'''\n",
        "    print(\"Greetings, my masters call me {}.\".format(self.name))\n",
        "\n",
        "  @classmethod\n",
        "  def how_many(cls):\n",
        "    ''' Prints the current population'''\n",
        "    print(\"we have {:d} robots.\".format(cls.population))\n",
        "\n",
        "\n",
        "# Accessing the docstrings\n",
        "# print(\"using __doc__\")\n",
        "# print(Robot.__doc__)\n",
        "# print(Robot.__init__.__doc__)\n",
        "# print(Robot.say_hi.__doc__)\n",
        "# print(Robot.how_many.__doc__)\n",
        "# print(\"using help()\")\n",
        "help(Robot)\n",
        "\n",
        "\n",
        "\n"
      ],
      "metadata": {
        "colab": {
          "base_uri": "https://localhost:8080/"
        },
        "id": "zfdy9yeymwfb",
        "outputId": "2541adc6-3433-4060-a66f-34beadc8dd3c"
      },
      "execution_count": null,
      "outputs": [
        {
          "output_type": "stream",
          "name": "stdout",
          "text": [
            "Help on class Robot in module __main__:\n",
            "\n",
            "class Robot(builtins.object)\n",
            " |  Robot(name)\n",
            " |  \n",
            " |  Represents a robot,with a name.\n",
            " |  \n",
            " |  Methods defined here:\n",
            " |  \n",
            " |  __init__(self, name)\n",
            " |      class method docstring\n",
            " |  \n",
            " |  die(self)\n",
            " |  \n",
            " |  say_hi(self)\n",
            " |      Greeting by the robot.\n",
            " |      yeah, they can do that.\n",
            " |  \n",
            " |  ----------------------------------------------------------------------\n",
            " |  Class methods defined here:\n",
            " |  \n",
            " |  how_many() from builtins.type\n",
            " |      Prints the current population\n",
            " |  \n",
            " |  ----------------------------------------------------------------------\n",
            " |  Data descriptors defined here:\n",
            " |  \n",
            " |  __dict__\n",
            " |      dictionary for instance variables (if defined)\n",
            " |  \n",
            " |  __weakref__\n",
            " |      list of weak references to the object (if defined)\n",
            " |  \n",
            " |  ----------------------------------------------------------------------\n",
            " |  Data and other attributes defined here:\n",
            " |  \n",
            " |  population = 0\n",
            "\n"
          ]
        }
      ]
    },
    {
      "cell_type": "code",
      "source": [
        "class Pam():\n",
        "  clri = 100         #class variable\n",
        "  name1 = \"class variable\"  #class variable\n",
        "  roll = 21\n",
        "\n",
        "  def __init__(self):\n",
        "    self.name = \"constructor object variable\"   #object variables\n",
        "\n",
        "\n",
        "  @classmethod\n",
        "  def my_class(cls):\n",
        "    return name1\n",
        "\n",
        "\n",
        "  @staticmethod\n",
        "  def my_static():\n",
        "    return self.name\n",
        "\n",
        "\n",
        "\n",
        "  def print_name(self):     #object method\n",
        "    return \"method\",self.clri\n",
        "\n",
        "  def print_2(self):       #object method\n",
        "    name = \"normal object variable\"     #object variable\n",
        "    clri = 400          #object variable\n",
        "    return self.name,name,self.clri,clri,self.roll\n",
        "\n",
        "\n",
        "a= Pam()\n",
        "\n",
        "# print(a.name)\n",
        "# print(a.clri)\n",
        "# print(a.name)\n",
        "print(a.print_name())\n",
        "print(a.print_2())\n",
        "# print(Pam.my_class())\n"
      ],
      "metadata": {
        "colab": {
          "base_uri": "https://localhost:8080/"
        },
        "id": "Tt4DswWPw7W6",
        "outputId": "9865a8fd-6e1b-4e88-b1a8-045254c36763"
      },
      "execution_count": null,
      "outputs": [
        {
          "output_type": "stream",
          "name": "stdout",
          "text": [
            "('method', 100)\n",
            "('constructor object variable', 'normal object variable', 100, 400, 21)\n"
          ]
        }
      ]
    },
    {
      "cell_type": "markdown",
      "source": [
        "# Object variable with the same name as a class variable will hide the class variable!"
      ],
      "metadata": {
        "id": "DuqyQtzpzGJv"
      }
    },
    {
      "cell_type": "code",
      "source": [
        "class MyClass:\n",
        "    def method(self):\n",
        "        return 'instance method called',self\n",
        "\n",
        "    @classmethod\n",
        "    def classmethod(cls):\n",
        "        return 'class method called', cls\n",
        "\n",
        "    @staticmethod\n",
        "    def staticmethod():\n",
        "        return 'static method called'\n",
        "\n",
        "obj = MyClass() #object created\n",
        "\n",
        "\n",
        "# obj.method()       # ('instance method called', <__main__.MyClass at 0x7f4c853d0a10>)\n",
        "# MyClass.method(obj)\n",
        "# obj.classmethod()\n",
        "# obj.staticmethod()     #output -static method called\n",
        "MyClass.classmethod()\n",
        "# MyClass.staticmethod()\n",
        "# MyClass.method()"
      ],
      "metadata": {
        "colab": {
          "base_uri": "https://localhost:8080/"
        },
        "id": "KsnuX0sZARpu",
        "outputId": "001715c7-8aec-4cc3-b139-1215226ad97f"
      },
      "execution_count": null,
      "outputs": [
        {
          "output_type": "execute_result",
          "data": {
            "text/plain": [
              "('class method called', __main__.MyClass)"
            ]
          },
          "metadata": {},
          "execution_count": 76
        }
      ]
    },
    {
      "cell_type": "code",
      "source": [],
      "metadata": {
        "id": "HX7JIHk_1QTa"
      },
      "execution_count": null,
      "outputs": []
    },
    {
      "cell_type": "markdown",
      "source": [
        "# Inheritance"
      ],
      "metadata": {
        "id": "3sSOC0cJ1X6t"
      }
    },
    {
      "cell_type": "markdown",
      "source": [
        "this is called polymorphism where a sub-type can be substituted in any situation where a parent\n",
        "type is expected.\n",
        "i.e. the object can be treated as an instance of the parent class.  "
      ],
      "metadata": {
        "id": "SLHg23rs2At-"
      }
    },
    {
      "cell_type": "code",
      "source": [
        "#superclass\n",
        "class SchoolMember:\n",
        "  ''' Represents any school member.'''\n",
        "  def __init__(self,name,age):\n",
        "    self.name = name\n",
        "    self.age = age\n",
        "    print('(Initialized SchoolMember:{})'.format(self.name))\n",
        "  def tell(self):\n",
        "    '''tell my details'''\n",
        "    print('Nmae:\"{}\" Age:\"{}\"'.format(self.name,self.age),end=\"\")"
      ],
      "metadata": {
        "id": "biRslrjL1ahy"
      },
      "execution_count": null,
      "outputs": []
    },
    {
      "cell_type": "code",
      "source": [
        "#childclass\n",
        "class Teacher(SchoolMember):\n",
        "  '''Represents a teacher.'''\n",
        "  def __init__(self,name,age,salary):\n",
        "    SchoolMember.__init__(self,name,age)   #instead of writing name & age we inherited these\n",
        "    '''since we are defining a __init__ method in Teacher and Student subclasses, Python does not\n",
        "    automatically call the constructor of the parent-class SchoolMember , you have to explicitly call it\n",
        "    yourself\n",
        "    In contrast, if we had not defined an __init__ method in the child-classes, Python will call the\n",
        "    constructor of the parent-class automatically'''\n",
        "\n",
        "\n",
        "    self.salary = salary         # etra added which was not present in super class\n",
        "    print('(Initialized Teacher: {})'.format(self.name))\n",
        "\n",
        "  def tell(self):\n",
        "    SchoolMember.tell(self)\n",
        "    print('Salary:\"{:d}\"'.format(self.salary))"
      ],
      "metadata": {
        "id": "S_rp2Blf4Eyt"
      },
      "execution_count": null,
      "outputs": []
    },
    {
      "cell_type": "code",
      "source": [
        "class Book:\n",
        "  def __init__(self,title,page_count):\n",
        "    self.title = title\n",
        "    self.page_count = page_count\n",
        "  def show(self):\n",
        "    print(\"Book Tile:\",self.title)\n",
        "    print(\"Page count:\",self.page_count)\n",
        "\n",
        "\n",
        "my_book = Book(\"easy Python\",400)\n",
        "my_book.show()\n",
        ""
      ],
      "metadata": {
        "colab": {
          "base_uri": "https://localhost:8080/"
        },
        "id": "LRB2ewdPRP_a",
        "outputId": "f800f999-4776-407e-f8e6-23f0411c0a1f"
      },
      "execution_count": null,
      "outputs": [
        {
          "output_type": "stream",
          "name": "stdout",
          "text": [
            "Book Tile: easy Python\n",
            "Page count: 400\n"
          ]
        }
      ]
    },
    {
      "cell_type": "markdown",
      "source": [
        "# Encapsulation"
      ],
      "metadata": {
        "id": "eHAYGhvqFPEI"
      }
    },
    {
      "cell_type": "code",
      "source": [
        "class Robot:\n",
        "  def __init__(self):\n",
        "    self.a = 123 #public object variable\n",
        "    self._b = 124 #private object variable\n",
        "    self.__c = 125 #python forced private variable\n",
        "  def access(self):\n",
        "    print(\"Accessing Private variable\", self.__c)\n",
        "\n",
        "new = Robot()\n",
        "\n",
        "print(new.a)\n",
        "print(new._b)\n",
        "# print(new.__c)     this line will create error\n",
        "new.access()"
      ],
      "metadata": {
        "colab": {
          "base_uri": "https://localhost:8080/"
        },
        "id": "ieF5FHLTFRhI",
        "outputId": "2fa8c7d3-a31c-4f66-bece-9ab3ccf216b5"
      },
      "execution_count": null,
      "outputs": [
        {
          "output_type": "stream",
          "name": "stdout",
          "text": [
            "123\n",
            "124\n",
            "Accessing Private variable 125\n"
          ]
        }
      ]
    },
    {
      "cell_type": "markdown",
      "source": [
        "We can access private variable of a class using a method already defined in the same class."
      ],
      "metadata": {
        "id": "8MgUR-Q8vMCF"
      }
    },
    {
      "cell_type": "code",
      "source": [
        "class Robot:\n",
        "  def __init__(self):\n",
        "    self.__version =22\n",
        "\n",
        "  def getVersion(self):  #getter function\n",
        "      print(self.__version)\n",
        "\n",
        "  def setVersion(self, version):   #setter function\n",
        "      self.__version = version\n",
        "\n",
        "new_robot = Robot()\n",
        "\n",
        "new_robot.getVersion()  #using getter function\n",
        "new_robot.setVersion(23)\n",
        "new_robot.getVersion()\n",
        "print(new_robot.__version) #it will throw error without getter and setter access"
      ],
      "metadata": {
        "id": "lKGCOjBcL2T7"
      },
      "execution_count": null,
      "outputs": []
    },
    {
      "cell_type": "markdown",
      "source": [
        "## Abstract Classes\n",
        "\n",
        "By default pythod doesn't provide abstract class.\n",
        "we use module ABC.\n",
        "Abstract base class"
      ],
      "metadata": {
        "id": "x69HZtxaM8dO"
      }
    },
    {
      "cell_type": "code",
      "source": [
        "from abc import ABC, abstractmethod\n",
        "\n",
        "class Polygon(ABC):\n",
        "  '''now using ABC this class becomes abstract class'''\n",
        "  def noofsides(self):\n",
        "    pass\n",
        "\n",
        "\n",
        "class Triangle(Polygon):\n",
        "  def noofsides(self):  #overriding abstract method\n",
        "    print(\"I have 3 sides\")\n",
        "\n",
        "class Pentagon(Polygon):\n",
        "  def noofsides(self):\n",
        "    print(\"I have 5 sides\")\n",
        "\n",
        "class Hexagon(Polygon):\n",
        "  def noofsides(self):\n",
        "    print(\"I have six sides\")\n",
        "\n",
        "class Quadrilateral(Polygon):\n",
        "  def noofsides(self):\n",
        "    print(\"I have 4 sides\")\n",
        "\n",
        "T = Triangle()\n",
        "T.noofsides()\n",
        "\n",
        "Q = Quadrilateral()\n",
        "Q.noofsides()\n",
        "\n",
        "P = Pentagon()\n",
        "P.noofsides()\n",
        "\n",
        "H = Hexagon()\n",
        "H.noofsides()\n",
        "\n"
      ],
      "metadata": {
        "colab": {
          "base_uri": "https://localhost:8080/"
        },
        "id": "PBiS_TBLNGqb",
        "outputId": "12693236-cfa8-4ace-f48c-69770c3563f3"
      },
      "execution_count": null,
      "outputs": [
        {
          "output_type": "stream",
          "name": "stdout",
          "text": [
            "I have 3 sides\n",
            "I have 4 sides\n",
            "I have 5 sides\n",
            "I have six sides\n"
          ]
        }
      ]
    },
    {
      "cell_type": "markdown",
      "source": [
        "Concrete methods in ABC"
      ],
      "metadata": {
        "id": "Aw23Zu9F0IKU"
      }
    },
    {
      "cell_type": "code",
      "source": [
        "from abc import ABC, abstractmethod\n",
        "\n",
        "class Parent(ABC):\n",
        "  def rk(self):\n",
        "    print(\"Abstract Base Class\")\n",
        "\n",
        "class Child(Parent):\n",
        "  def rk(self):\n",
        "    super().rk()     #using super() we are accessing rk method of parent class.\n",
        "    print(\"subclass\")\n",
        "\n",
        "new_object = Child()\n",
        "new_object.rk()"
      ],
      "metadata": {
        "colab": {
          "base_uri": "https://localhost:8080/"
        },
        "id": "0BE7elcg0K9r",
        "outputId": "50e030f5-9e16-49dd-d7ae-b4f8426f5558"
      },
      "execution_count": null,
      "outputs": [
        {
          "output_type": "stream",
          "name": "stdout",
          "text": [
            "Abstract Base Class\n",
            "subclass\n"
          ]
        }
      ]
    },
    {
      "cell_type": "markdown",
      "source": [
        "Abstract attributes"
      ],
      "metadata": {
        "id": "H5g5mHkh1r1U"
      }
    },
    {
      "cell_type": "code",
      "source": [
        "import abc\n",
        "from abc import ABC, abstractmethod\n",
        "\n",
        "class Parent(ABC):\n",
        "\n",
        "  @abc.abstractproperty #abstract property        #????\n",
        "  def geeks(self):\n",
        "    return \"parent class\"\n",
        "\n",
        "class child(Parent):\n",
        "  @property        #reference abstract property\n",
        "  def geeks(self):\n",
        "    return \"child class\"\n",
        "\n",
        "try:\n",
        "  new_object = Parent()\n",
        "  print(new_object.geeks)\n",
        "except Exception as err:\n",
        "  print(err)\n",
        "\n",
        "new_object = child()\n",
        "print(new_object.geeks)\n"
      ],
      "metadata": {
        "colab": {
          "base_uri": "https://localhost:8080/"
        },
        "id": "lBkV2smc1qzH",
        "outputId": "8b089661-b5ba-4f28-cd2b-2e2516c787b3"
      },
      "execution_count": null,
      "outputs": [
        {
          "output_type": "stream",
          "name": "stdout",
          "text": [
            "Can't instantiate abstract class Parent with abstract methods geeks\n",
            "child class\n"
          ]
        }
      ]
    },
    {
      "cell_type": "code",
      "source": [
        "from abc import ABC, abstractmethod\n",
        "\n",
        "class Animal(ABC):\n",
        "  @abstractmethod\n",
        "  def move(self):\n",
        "    pass\n",
        "\n",
        "class Human(Animal):\n",
        "  def move(self):\n",
        "    print(\"I can walk\")\n",
        "\n",
        "class Snake(Animal):\n",
        "  def move(self):\n",
        "    print(\"I can crawl\")\n",
        "\n",
        "cat = Snake()\n",
        "# cat = Animal()      error since its abstract class"
      ],
      "metadata": {
        "id": "768cALrY5jbU"
      },
      "execution_count": null,
      "outputs": []
    },
    {
      "cell_type": "markdown",
      "source": [
        "# Interface"
      ],
      "metadata": {
        "id": "zS03VevW8QHS"
      }
    },
    {
      "cell_type": "code",
      "source": [
        "#informal interface\n",
        "class Team:\n",
        "\n",
        "  def __init__(self, members):\n",
        "    self.__members = members\n",
        "\n",
        "  def __len__(self):\n",
        "    return len(self.__members)\n",
        "\n",
        "  def __contains__(self, member):\n",
        "    return member in self.__members\n",
        "\n",
        "justice_league_fav = Team([\"batman\",\"Wonder woman\",\"flash\"])\n",
        "\n",
        "print(len(justice_league_fav))\n",
        "\n",
        "print(\"batman\" in justice_league_fav)\n",
        "print(\"superman\" in justice_league_fav)\n",
        "print(\"cyborg\" not in justice_league_fav)"
      ],
      "metadata": {
        "id": "yVI1xcr28SRr"
      },
      "execution_count": null,
      "outputs": []
    },
    {
      "cell_type": "code",
      "source": [
        "#formal interface\n",
        "\n",
        "import abc\n",
        "\n",
        "class Bird(abc.ABC):\n",
        "  @abc.abstractmethod\n",
        "  def fly(self):\n",
        "    pass\n",
        "\n",
        "class Parrot(Bird):\n",
        "  def fly(self):\n",
        "    print(\"Flying\")\n",
        "\n",
        "p = Parrot()\n",
        "\n",
        "print(isinstance(p,Bird))\n",
        "class Aeroplane(abc.ABC):\n",
        "  @abc.abstractmethod\n",
        "  def fly(self):\n",
        "    pass\n",
        "\n",
        "class Boeing(Aeroplane):\n",
        "  def fly(self):\n",
        "    print(\"Flying!\")\n",
        "\n",
        "b = Boeing()\n",
        "\n",
        "print(isinstance(b, Aeroplane))\n",
        "print(isinstance(p,Bird))\n"
      ],
      "metadata": {
        "colab": {
          "base_uri": "https://localhost:8080/"
        },
        "id": "b0XGAtmDAYxW",
        "outputId": "5ff1a880-0ba1-4e7f-852d-60f01d7dab02"
      },
      "execution_count": null,
      "outputs": [
        {
          "output_type": "stream",
          "name": "stdout",
          "text": [
            "True\n",
            "True\n",
            "True\n"
          ]
        }
      ]
    },
    {
      "cell_type": "code",
      "source": [
        "#interface with multiple Base classes\n",
        "\n",
        "class Apple(abc.ABC):\n",
        "  @abc.abstractmethod\n",
        "  def apple_one(self):\n",
        "    pass\n",
        "\n",
        "\n",
        "class Banana(abc.ABC):\n",
        "  @abc.abstractmethod\n",
        "  def banana_one(self):\n",
        "    pass\n",
        "\n",
        "\n",
        "class Fruits(Apple,Banana):\n",
        "  def apple_one(self):\n",
        "    print(\"Child class - apple\")\n",
        "\n",
        "  def banana_one(self):\n",
        "    print(\"Child class - Banana\")\n",
        "\n",
        "\n",
        "fruit_bowl = Fruits()\n",
        "fruit_bowl.apple_one()\n",
        "\n",
        "fruit_bowl.banana_one()"
      ],
      "metadata": {
        "colab": {
          "base_uri": "https://localhost:8080/"
        },
        "id": "IFshforVAYnV",
        "outputId": "c29fec02-29dc-4675-fd65-e0350ce00e1c"
      },
      "execution_count": null,
      "outputs": [
        {
          "output_type": "stream",
          "name": "stdout",
          "text": [
            "Child class - apple\n",
            "Child class - Banana\n"
          ]
        }
      ]
    },
    {
      "cell_type": "markdown",
      "source": [
        "abstractproperty\n",
        "\n",
        "the Parent class cannot be instantiated because it has only an abstract version of the\n",
        "property getter method"
      ],
      "metadata": {
        "id": "zJSGSmAH5G8T"
      }
    }
  ]
}