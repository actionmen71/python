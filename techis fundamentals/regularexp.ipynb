{
  "nbformat": 4,
  "nbformat_minor": 0,
  "metadata": {
    "colab": {
      "provenance": []
    },
    "kernelspec": {
      "name": "python3",
      "display_name": "Python 3"
    },
    "language_info": {
      "name": "python"
    }
  },
  "cells": [
    {
      "cell_type": "code",
      "source": [
        "a= input(\"enter your name\")\n",
        "\n"
      ],
      "metadata": {
        "id": "z8xFpNYV964E"
      },
      "execution_count": null,
      "outputs": []
    },
    {
      "cell_type": "markdown",
      "source": [
        "Re"
      ],
      "metadata": {
        "id": "il-6emMyNrrU"
      }
    },
    {
      "cell_type": "code",
      "source": [
        "import re\n",
        "string = \" This is regular coding example\"\n",
        "match = re.search(r\"regular\",string)\n",
        "print(\"start ind\",match.start())\n",
        "print(\"end ind\",match.end())"
      ],
      "metadata": {
        "colab": {
          "base_uri": "https://localhost:8080/"
        },
        "id": "HkAhB6sbNrP0",
        "outputId": "9df6d39b-7777-4f56-e0d0-ff8052e14a17"
      },
      "execution_count": null,
      "outputs": [
        {
          "output_type": "stream",
          "name": "stdout",
          "text": [
            "start ind 9\n",
            "end ind 16\n"
          ]
        }
      ]
    },
    {
      "cell_type": "markdown",
      "source": [
        "regular string vs regular or normal string\n",
        "\n",
        "escape character of regex is different from python.\n",
        "escape sequence is not executed when taken as raw string."
      ],
      "metadata": {
        "id": "-NVUR7dgPTZv"
      }
    },
    {
      "cell_type": "markdown",
      "source": [
        "metacharacters"
      ],
      "metadata": {
        "id": "SSisiJ7yQFCI"
      }
    },
    {
      "cell_type": "code",
      "source": [
        "strings = \"hello my name is krishna and my phone no is 912024489\"\n",
        "\n",
        "regex = '\\d+'  #d for digits and + for more than one occurences\n",
        "match = re.findall(regex,strings)\n",
        "print(match)"
      ],
      "metadata": {
        "colab": {
          "base_uri": "https://localhost:8080/"
        },
        "id": "NIHrm1ChPERs",
        "outputId": "3e819e86-7d3b-4b1f-c55c-251b02e4e78c"
      },
      "execution_count": null,
      "outputs": [
        {
          "output_type": "stream",
          "name": "stdout",
          "text": [
            "['912024489']\n"
          ]
        }
      ]
    },
    {
      "cell_type": "code",
      "source": [
        "import re\n",
        "\n",
        "s= 'geeks.for geeks'\n",
        "match = re.search(r'.',s)\n",
        "\n",
        "match1 = re.search(r'\\.',s)\n",
        "print(match)\n",
        "print(match1)"
      ],
      "metadata": {
        "colab": {
          "base_uri": "https://localhost:8080/"
        },
        "id": "3mNpd8tUTd0a",
        "outputId": "594c7989-d746-41ea-dcb4-8d311d73014b"
      },
      "execution_count": null,
      "outputs": [
        {
          "output_type": "stream",
          "name": "stdout",
          "text": [
            "<re.Match object; span=(0, 1), match='g'>\n",
            "<re.Match object; span=(5, 6), match='.'>\n"
          ]
        }
      ]
    },
    {
      "cell_type": "code",
      "source": [
        "import re\n",
        "\n",
        "p = re.compile('[a-e]')       # compile is used to make regular expression\n",
        "\n",
        "print(p.findall(\"Aye, said Mr. Gibenson Stark\"))\n"
      ],
      "metadata": {
        "colab": {
          "base_uri": "https://localhost:8080/"
        },
        "id": "Ga-Cp8gFghDZ",
        "outputId": "fa7dea0e-a0a6-494c-b245-014a36b0a03a"
      },
      "execution_count": null,
      "outputs": [
        {
          "output_type": "stream",
          "name": "stdout",
          "text": [
            "['e', 'a', 'd', 'b', 'e', 'a']\n"
          ]
        }
      ]
    },
    {
      "cell_type": "code",
      "source": [
        "import re\n",
        "\n",
        "p = re.compile('\\d') #gives single digits\n",
        "print(p.findall(\"I went to him at 11 A.M. on 4th July 1886\"))\n",
        "\n",
        "p= re.compile('\\d+')  #gives us group of digits\n",
        "print(p.findall(\"I went to him at 11 A.M. on 4th July 1886\"))"
      ],
      "metadata": {
        "colab": {
          "base_uri": "https://localhost:8080/"
        },
        "id": "OvUH5cUvh7kp",
        "outputId": "6074b37a-beef-4381-e3de-7c484aaeacf6"
      },
      "execution_count": null,
      "outputs": [
        {
          "output_type": "stream",
          "name": "stdout",
          "text": [
            "['1', '1', '4', '1', '8', '8', '6']\n",
            "['11', '4', '1886']\n"
          ]
        }
      ]
    },
    {
      "cell_type": "code",
      "source": [
        "import re\n",
        "\n",
        "p=re.compile('\\w')  #capitalletters,smallletter,digits    [a-zA-Z0-9]\n",
        "\n",
        "print(p.findall(\"He said * in some_lang.\"))\n",
        "\n",
        "p = re.compile('\\w+') #alphanumeric  group\n",
        "print(p.findall(\"I went to him at 11 A.M., he\\ said *** in some_language.\"))\n",
        "\n",
        "p = re.compile('\\W')  #\\W non alphanumeric\n",
        "\n",
        "print(p.findall(\"he said *** in some_language.\"))   #in the output four spaces three stars and one full stop.\n"
      ],
      "metadata": {
        "colab": {
          "base_uri": "https://localhost:8080/"
        },
        "id": "tTHqRrsciqS2",
        "outputId": "2a4ea118-9232-4cc8-8991-351e303f9d4d"
      },
      "execution_count": null,
      "outputs": [
        {
          "output_type": "stream",
          "name": "stdout",
          "text": [
            "['H', 'e', 's', 'a', 'i', 'd', 'i', 'n', 's', 'o', 'm', 'e', '_', 'l', 'a', 'n', 'g']\n",
            "['I', 'went', 'to', 'him', 'at', '11', 'A', 'M', 'he', 'said', 'in', 'some_language']\n",
            "[' ', ' ', '*', '*', '*', ' ', ' ', '.']\n"
          ]
        }
      ]
    },
    {
      "cell_type": "code",
      "source": [
        "import re\n",
        "\n",
        "p = re.compile('ab*')\n",
        "print(p.findall(\"ababbaabbb\"))"
      ],
      "metadata": {
        "colab": {
          "base_uri": "https://localhost:8080/"
        },
        "id": "N0iMSn0Uknj8",
        "outputId": "d9038133-7b2c-4d5e-d2f0-ae02a148dd9d"
      },
      "execution_count": null,
      "outputs": [
        {
          "output_type": "stream",
          "name": "stdout",
          "text": [
            "['ab', 'abb', 'a', 'abbb']\n"
          ]
        }
      ]
    },
    {
      "cell_type": "markdown",
      "source": [
        "\\A \\b    \\w are special sequences"
      ],
      "metadata": {
        "id": "KFIavEbPqjY8"
      }
    },
    {
      "cell_type": "code",
      "source": [
        "# we are using special sequences to split here\n",
        "from re import split\n",
        "\n",
        "print(split('\\W+','Words, words, Words'))\n",
        "print(split('\\W+',\"Word's words Words\"))\n",
        "\n",
        "print(split('\\W+','On 12th Jan 2016, at 11:02 AM'))\n",
        "\n",
        "print(split('\\d+','On 12th Jan 2016, at 11:02 AM'))"
      ],
      "metadata": {
        "colab": {
          "base_uri": "https://localhost:8080/"
        },
        "id": "ew9hE6t-mJOU",
        "outputId": "b8aa9d03-6990-4738-f069-47c8823553df"
      },
      "execution_count": null,
      "outputs": [
        {
          "output_type": "stream",
          "name": "stdout",
          "text": [
            "['Words', 'words', 'Words']\n",
            "['Word', 's', 'words', 'Words']\n",
            "['On', '12th', 'Jan', '2016', 'at', '11', '02', 'AM']\n",
            "['On ', 'th Jan ', ', at ', ':', ' AM']\n"
          ]
        }
      ]
    },
    {
      "cell_type": "code",
      "source": [
        "# we use regular expression re to split here.\n",
        "import re\n",
        "\n",
        "print(re.split('\\d+','On 12th Jan 2016, at 11:02 AM',1)) # here 1 denotes that splitting will occur once\n",
        "\n",
        "print(re.split('[a-f]+','Aey, Boy oh boy, come here',flags = re.IGNORECASE))\n",
        "print(re.split('[a-f]+','Aey, Boy oh boy, come here'))"
      ],
      "metadata": {
        "colab": {
          "base_uri": "https://localhost:8080/"
        },
        "id": "kJQZXADLnGPI",
        "outputId": "cc40f27d-9dd8-40a9-fc91-e5bfb5667309"
      },
      "execution_count": null,
      "outputs": [
        {
          "output_type": "stream",
          "name": "stdout",
          "text": [
            "['On ', 'th Jan 2016, at 11:02 AM']\n",
            "['', 'y, ', 'oy oh ', 'oy, ', 'om', ' h', 'r', '']\n",
            "['A', 'y, Boy oh ', 'oy, ', 'om', ' h', 'r', '']\n"
          ]
        }
      ]
    },
    {
      "cell_type": "code",
      "source": [
        "import re\n",
        "print(re.sub('ub','~*','Subject has uber booked already',flags=re.IGNORECASE))\n",
        "print(re.sub('ub','~*','Subject has Uber booked already'))\n",
        "print(re.sub('ub','~@','Subject has Uber booked already'))\n",
        "print(re.sub(r'\\sAND\\s','&','Baked Beans And Spam',flags=re.IGNORECASE))\n",
        "# \\s  \\s   now any characters between these 2 start and stop s will be matched.\n"
      ],
      "metadata": {
        "colab": {
          "base_uri": "https://localhost:8080/"
        },
        "id": "5Yzj4gAFtbo1",
        "outputId": "c3cfdbc4-a095-45f1-df14-6f4645aa2b40"
      },
      "execution_count": null,
      "outputs": [
        {
          "output_type": "stream",
          "name": "stdout",
          "text": [
            "S~*ject has ~*er booked already\n",
            "S~*ject has Uber booked already\n",
            "S~@ject has Uber booked already\n",
            "Baked Beans&Spam\n"
          ]
        }
      ]
    },
    {
      "cell_type": "code",
      "source": [
        "import re  #re.subn returns tuple and inside tuple it will give count of\n",
        "#replacements\n",
        "\n",
        "print(re.subn('ub','~*','Subject has Uber booked already'))\n",
        "t= re.subn('ub','~*','Subject has Uber booked already',flags =re.IGNORECASE)\n",
        "print(t)\n",
        "print(len(t))\n",
        "\n",
        "print(t[0])\n"
      ],
      "metadata": {
        "colab": {
          "base_uri": "https://localhost:8080/"
        },
        "id": "KR6_OrDpyAyG",
        "outputId": "c39dc70b-5f52-426b-9d6f-56786c2ff1e4"
      },
      "execution_count": null,
      "outputs": [
        {
          "output_type": "stream",
          "name": "stdout",
          "text": [
            "('S~*ject has Uber booked already', 1)\n",
            "('S~*ject has ~*er booked already', 2)\n",
            "2\n",
            "S~*ject has ~*er booked already\n"
          ]
        }
      ]
    },
    {
      "cell_type": "code",
      "source": [
        "import re\n",
        "\n",
        "#return every non alphanumeric with backslash\n",
        "\n",
        "\n",
        "\n",
        "print(re.escape(\"This is Awesome even 1 AM\"))\n",
        "print(re.escape(\"I Asked what is this [a-9], he said \\t ^WoW\"))"
      ],
      "metadata": {
        "colab": {
          "base_uri": "https://localhost:8080/"
        },
        "id": "2Nar3M_Ly-IX",
        "outputId": "e402c379-a9ba-44d2-c50b-f95ae4a01ae8"
      },
      "execution_count": null,
      "outputs": [
        {
          "output_type": "stream",
          "name": "stdout",
          "text": [
            "This\\ is\\ Awesome\\ even\\ 1\\ AM\n",
            "I\\ Asked\\ what\\ is\\ this\\ \\[a\\-9\\],\\ he\\ said\\ \\\t\\ \\^WoW\n"
          ]
        }
      ]
    },
    {
      "cell_type": "code",
      "source": [
        "import re\n",
        "\n",
        "\n",
        "regex = r\"([a-zA-Z]+) (\\d+)\"\n",
        "\n",
        "match = re.search(regex,\"I was born on June 24\")\n",
        "\n",
        "if match != None:\n",
        "  print(\"Match at index %s, %s\" % (match.start(),match.end()))\n",
        "  print(\"Full match: %s\" % (match.group(0)))\n",
        "  print(\"Day: %s\" % (match.group(2)))\n",
        "\n",
        "else:\n",
        "  print(\"The regex pattern does not match.\")"
      ],
      "metadata": {
        "colab": {
          "base_uri": "https://localhost:8080/"
        },
        "id": "9nHj-UpYDdIG",
        "outputId": "0f805928-98c6-4d9a-bb9b-f6918ad2601a"
      },
      "execution_count": null,
      "outputs": [
        {
          "output_type": "stream",
          "name": "stdout",
          "text": [
            "Match at index 14, 21\n",
            "Full match: June 24\n",
            "Day: 24\n"
          ]
        }
      ]
    },
    {
      "cell_type": "markdown",
      "source": [
        "Match object"
      ],
      "metadata": {
        "id": "DXmZvszqGf7D"
      }
    },
    {
      "cell_type": "code",
      "source": [
        "import re\n",
        "\n",
        "s= \"Welcome to GeeksForGeeks\"\n",
        "\n",
        "res = re.search(r\"\\bG\",s)\n",
        "\n",
        "print(res.re)\n",
        "print(res.string)\n",
        "#string and regex of the matched object"
      ],
      "metadata": {
        "colab": {
          "base_uri": "https://localhost:8080/"
        },
        "id": "8hvA3OiAGe6E",
        "outputId": "8a0963dd-a029-4579-89a6-d1a9de8f934d"
      },
      "execution_count": null,
      "outputs": [
        {
          "output_type": "stream",
          "name": "stdout",
          "text": [
            "re.compile('\\\\bG')\n",
            "Welcome to GeeksForGeeks\n"
          ]
        }
      ]
    },
    {
      "cell_type": "code",
      "source": [
        "import sys\n",
        "import re\n",
        "\n",
        "s = \"Welcome to GeekForGeeks\"\n",
        "\n",
        "res = re.search(r\"\\bGee\",s)\n",
        "\n",
        "print(res.start())\n",
        "print(res.end())\n",
        "print(res.span())\n",
        "\n"
      ],
      "metadata": {
        "colab": {
          "base_uri": "https://localhost:8080/"
        },
        "id": "NN3mTleUHFBj",
        "outputId": "7c534b5a-8335-4858-85c4-05a2b4cee5c8"
      },
      "execution_count": null,
      "outputs": [
        {
          "output_type": "stream",
          "name": "stdout",
          "text": [
            "11\n",
            "14\n",
            "(11, 14)\n"
          ]
        }
      ]
    },
    {
      "cell_type": "markdown",
      "source": [],
      "metadata": {
        "id": "4plttuKENk-E"
      }
    },
    {
      "cell_type": "code",
      "source": [
        "#How does this code works\n",
        "\n",
        "import re\n",
        "\n",
        "s = \"Welcome to GeeksForGeeks\"\n",
        "\n",
        "res = re.search(r\"\\D{2} t\", s)\n",
        "\n",
        "print(res.group())"
      ],
      "metadata": {
        "colab": {
          "base_uri": "https://localhost:8080/"
        },
        "id": "Y3Zg_Me9Jbem",
        "outputId": "7ba1dcdd-1165-4605-e1ff-71191370834b"
      },
      "execution_count": null,
      "outputs": [
        {
          "output_type": "stream",
          "name": "stdout",
          "text": [
            "me t\n"
          ]
        }
      ]
    }
  ]
}