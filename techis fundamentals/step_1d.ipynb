{
  "nbformat": 4,
  "nbformat_minor": 0,
  "metadata": {
    "colab": {
      "provenance": []
    },
    "kernelspec": {
      "name": "python3",
      "display_name": "Python 3"
    },
    "language_info": {
      "name": "python"
    }
  },
  "cells": [
    {
      "cell_type": "code",
      "execution_count": null,
      "metadata": {
        "colab": {
          "base_uri": "https://localhost:8080/"
        },
        "id": "0iPGzXimihbw",
        "outputId": "e3f7d6e4-ab03-46a7-8b2e-a2b3231bca32"
      },
      "outputs": [
        {
          "output_type": "stream",
          "name": "stdout",
          "text": [
            "hello krishna \n"
          ]
        }
      ],
      "source": [
        "import name\n",
        "\n",
        "\n",
        "name.greeting(\" krishna \")\n"
      ]
    },
    {
      "cell_type": "code",
      "source": [
        "import name as nm\n",
        "nm.greeting(\" krish\")"
      ],
      "metadata": {
        "colab": {
          "base_uri": "https://localhost:8080/"
        },
        "id": "mupUqI5nkT5f",
        "outputId": "acacae4b-a47b-49b7-832f-b739bc089269"
      },
      "execution_count": null,
      "outputs": [
        {
          "output_type": "stream",
          "name": "stdout",
          "text": [
            "hello krish\n"
          ]
        }
      ]
    },
    {
      "cell_type": "code",
      "source": [
        "import datetime\n",
        "\n",
        "time_now = datetime.datetime.now()\n",
        "print(time_now)\n",
        "print(time_now.year)\n",
        "print(time_now.month)\n",
        "print(time_now.day)\n",
        "print(time_now.strftime(\"%A\"))"
      ],
      "metadata": {
        "colab": {
          "base_uri": "https://localhost:8080/"
        },
        "id": "w0ZTuUkKkyua",
        "outputId": "1447ce14-765b-45bb-8ccc-a9781800e6cf"
      },
      "execution_count": null,
      "outputs": [
        {
          "output_type": "stream",
          "name": "stdout",
          "text": [
            "2022-06-13 05:42:56.886800\n",
            "2022\n",
            "6\n",
            "13\n",
            "Monday\n"
          ]
        }
      ]
    },
    {
      "cell_type": "code",
      "source": [
        "new_date = datetime.datetime(2020,5,17)\n",
        "\n",
        "print(new_date)"
      ],
      "metadata": {
        "colab": {
          "base_uri": "https://localhost:8080/"
        },
        "id": "ZzqHHoeSlt7e",
        "outputId": "04dfef8e-d5f9-4337-9b4e-58367b93268e"
      },
      "execution_count": null,
      "outputs": [
        {
          "output_type": "stream",
          "name": "stdout",
          "text": [
            "2020-05-17 00:00:00\n"
          ]
        }
      ]
    },
    {
      "cell_type": "markdown",
      "source": [
        "strftime = string format time"
      ],
      "metadata": {
        "id": "AA1Us1kY_O1y"
      }
    },
    {
      "cell_type": "code",
      "source": [
        "x = datetime.datetime(2018,6,1)\n",
        "\n",
        "print(x.strftime(\"%A\"))  #name of day\n",
        "\n",
        "print(x.strftime(\"%B\"))  #month\n",
        "\n",
        "print(x.strftime(\"%d\"))  #date\n",
        "\n",
        "print(x.strftime(\"%Y\"))  #year"
      ],
      "metadata": {
        "colab": {
          "base_uri": "https://localhost:8080/"
        },
        "id": "_D6D5YBcl98e",
        "outputId": "07b6e3fd-8b02-470f-ccb7-7c0af9398038"
      },
      "execution_count": null,
      "outputs": [
        {
          "output_type": "stream",
          "name": "stdout",
          "text": [
            "Friday\n",
            "June\n",
            "01\n",
            "2018\n"
          ]
        }
      ]
    },
    {
      "cell_type": "code",
      "source": [
        "import math\n",
        "sq_root = math.sqrt(64)\n",
        "\n",
        "print(sq_root)"
      ],
      "metadata": {
        "colab": {
          "base_uri": "https://localhost:8080/"
        },
        "id": "wEn1-EsimmiI",
        "outputId": "d6977ba1-30d3-43f8-9315-b7923e17310f"
      },
      "execution_count": null,
      "outputs": [
        {
          "output_type": "stream",
          "name": "stdout",
          "text": [
            "8.0\n"
          ]
        }
      ]
    },
    {
      "cell_type": "code",
      "source": [
        "round_high = math.ceil(1.4)\n",
        "round_low = math.floor(1.4)\n",
        "\n",
        "print(round_high)\n",
        "print(round_low)"
      ],
      "metadata": {
        "colab": {
          "base_uri": "https://localhost:8080/"
        },
        "id": "dP9tsiZQoZpY",
        "outputId": "f6834c47-7cc0-41b1-d022-a29964629f7a"
      },
      "execution_count": null,
      "outputs": [
        {
          "output_type": "stream",
          "name": "stdout",
          "text": [
            "2\n",
            "1\n"
          ]
        }
      ]
    },
    {
      "cell_type": "code",
      "source": [
        "pi_value = math.pi\n",
        "print(pi_value)"
      ],
      "metadata": {
        "colab": {
          "base_uri": "https://localhost:8080/"
        },
        "id": "dcIJcuWlowc8",
        "outputId": "3304a114-1b70-4bdc-8bd0-da22db757642"
      },
      "execution_count": null,
      "outputs": [
        {
          "output_type": "stream",
          "name": "stdout",
          "text": [
            "3.141592653589793\n"
          ]
        }
      ]
    },
    {
      "cell_type": "code",
      "source": [
        "import random\n",
        "\n",
        "random_integer = random.randint(0,9)\n",
        "print(random_integer)"
      ],
      "metadata": {
        "colab": {
          "base_uri": "https://localhost:8080/"
        },
        "id": "QPyEHBKvpX8u",
        "outputId": "88d58a8b-0fc9-40e6-8326-60e7da6fdaa7"
      },
      "execution_count": null,
      "outputs": [
        {
          "output_type": "stream",
          "name": "stdout",
          "text": [
            "3\n"
          ]
        }
      ]
    },
    {
      "cell_type": "code",
      "source": [
        "random_number = random.randrange(9)\n",
        "print(random_number)"
      ],
      "metadata": {
        "colab": {
          "base_uri": "https://localhost:8080/"
        },
        "id": "HtKL8xbKpkfr",
        "outputId": "5ecb4b2c-4e07-4d54-ee6c-137faaeba7d4"
      },
      "execution_count": null,
      "outputs": [
        {
          "output_type": "stream",
          "name": "stdout",
          "text": [
            "7\n"
          ]
        }
      ]
    },
    {
      "cell_type": "markdown",
      "source": [
        "working with files"
      ],
      "metadata": {
        "id": "7okz_NFFqcqk"
      }
    },
    {
      "cell_type": "markdown",
      "source": [
        "In this method when we open the file then we have to close it ourselves."
      ],
      "metadata": {
        "id": "kR6padeAGPxJ"
      }
    },
    {
      "cell_type": "code",
      "source": [
        "file_path = \"/content/Machine_Learning_AI.txt\"\n",
        "\n",
        "our_text_file = open(file_path,'r')\n",
        "\n",
        "print(our_text_file.name) #printing the name of the file\n",
        "print(our_text_file.mode) #print the mode of the file, the permission we have\n",
        "our_text_file.close() # compulsory to close the file each time when we open\n",
        "print(our_text_file) #this will just return the object"
      ],
      "metadata": {
        "colab": {
          "base_uri": "https://localhost:8080/"
        },
        "id": "WB56-IUy3DwH",
        "outputId": "1a0031af-d250-4689-ea21-54b2f44d7a27"
      },
      "execution_count": null,
      "outputs": [
        {
          "output_type": "stream",
          "name": "stdout",
          "text": [
            "/content/Machine_Learning_AI.txt\n",
            "r\n",
            "<_io.TextIOWrapper name='/content/Machine_Learning_AI.txt' mode='r' encoding='UTF-8'>\n"
          ]
        }
      ]
    },
    {
      "cell_type": "code",
      "source": [
        "my_file_path = \"/content/Machine_Learning_AI.txt\"\n",
        "my_file = open(my_file_path,'r')\n",
        "print(my_file.read())            #read() will read the whole file\n",
        "my_file.close()"
      ],
      "metadata": {
        "colab": {
          "base_uri": "https://localhost:8080/"
        },
        "id": "dTgdGq8xBzEG",
        "outputId": "70c66203-1c60-4b1a-a106-7783f4869450"
      },
      "execution_count": null,
      "outputs": [
        {
          "output_type": "stream",
          "name": "stdout",
          "text": [
            "Unit 1: Introduction To Python - \n",
            "\n",
            "Intro to the Python Programming language\n",
            "Control structures and functions\n",
            "Importing libraries - Numpy and Pandas Basics\n",
            "Data wrangling and cleaning\n",
            "Exploratory Data Analysis and descriptive statistics\n",
            "\n",
            "Unit 2: Database Management - \n",
            "\n",
            "Introduction to Databases and SQL\n",
            "Retrieving data with SQL\n",
            "Writing SQL Queries\n",
            "Functions and aggregations\n",
            "Joins in SQL\n",
            "\n",
            "Unit 3: Statistics and Data Visualisation - \n",
            "\n",
            "Data Visualisation using matplotlib/seaborn\n",
            "Plotting Data distributions\n",
            "Introduction to probability\n",
            "Discrete and Continuous probability distributions\n",
            "Inferential Statistics and Hypothesis testing\n",
            "\n",
            "Unit 4: Machine Learning:\n",
            "\n",
            "Introduction to machine learning models \n",
            "Simple and Multiple Regression Models\n",
            "Logistic Regression\n",
            "ROC and AUC analysis\n",
            "KNN and Naive Bayes classifier\n",
            "SVM Classification and Regression\n",
            "Tree Based models:\n",
            "- Decision trees\n",
            "- Truncation and pruning\n",
            "- Random Forests and Bagged models\n",
            "- Gradient Boosted models\n",
            "Feature selection methods \n",
            "Model evaluation and hyper parameter tuning \n",
            "Unsupervised Learning:\n",
            "- Clustering (K means and Hierarchical)\n",
            "- Principal Component Analysis\n",
            "Recommender Systems\n",
            "\n",
            "Unit 5 - Artificial Intelligence:\n",
            "\n",
            "Intro to Neural Networks\n",
            "Types of Neural Networks\n",
            "Image classification\n",
            "Deep Learning Neural Networks\n",
            "\n",
            "Intro to NLP\n",
            "Basic Lexical processing\n",
            "Text classification / Topic modelling / Document summarisation\n",
            "Reinforcement Learning Models\n",
            "\n",
            "Notes:\n",
            "\n",
            "Unit 5 could probability be split in 2 depending on how comprehensive the coverage is\n",
            "\n",
            "\n"
          ]
        }
      ]
    },
    {
      "cell_type": "code",
      "source": [
        "my_file_path = \"/content/Machine_Learning_AI.txt\"\n",
        "my_file = open(my_file_path,'r')\n",
        "print(my_file.read(25))        #reading limited characters from the file (25 to be exact)\n",
        "my_file.close()"
      ],
      "metadata": {
        "colab": {
          "base_uri": "https://localhost:8080/"
        },
        "id": "Y0XMB4LrD_AI",
        "outputId": "39619081-797d-4906-ab51-05b2bd659950"
      },
      "execution_count": null,
      "outputs": [
        {
          "output_type": "stream",
          "name": "stdout",
          "text": [
            "Unit 1: Introduction To P\n"
          ]
        }
      ]
    },
    {
      "cell_type": "code",
      "source": [
        "my_file_path = \"/content/Machine_Learning_AI.txt\"\n",
        "my_file = open(my_file_path,'r')\n",
        "for c in my_file:\n",
        "  print(c)\n",
        "my_file.close()"
      ],
      "metadata": {
        "colab": {
          "base_uri": "https://localhost:8080/"
        },
        "id": "tOHj7887DMd3",
        "outputId": "9ce606b3-6ee0-4455-dd49-34289ae28b1d"
      },
      "execution_count": null,
      "outputs": [
        {
          "output_type": "stream",
          "name": "stdout",
          "text": [
            "Unit 1: Introduction To Python - \n",
            "\n",
            "\n",
            "\n",
            "Intro to the Python Programming language\n",
            "\n",
            "Control structures and functions\n",
            "\n",
            "Importing libraries - Numpy and Pandas Basics\n",
            "\n",
            "Data wrangling and cleaning\n",
            "\n",
            "Exploratory Data Analysis and descriptive statistics\n",
            "\n",
            "\n",
            "\n",
            "Unit 2: Database Management - \n",
            "\n",
            "\n",
            "\n",
            "Introduction to Databases and SQL\n",
            "\n",
            "Retrieving data with SQL\n",
            "\n",
            "Writing SQL Queries\n",
            "\n",
            "Functions and aggregations\n",
            "\n",
            "Joins in SQL\n",
            "\n",
            "\n",
            "\n",
            "Unit 3: Statistics and Data Visualisation - \n",
            "\n",
            "\n",
            "\n",
            "Data Visualisation using matplotlib/seaborn\n",
            "\n",
            "Plotting Data distributions\n",
            "\n",
            "Introduction to probability\n",
            "\n",
            "Discrete and Continuous probability distributions\n",
            "\n",
            "Inferential Statistics and Hypothesis testing\n",
            "\n",
            "\n",
            "\n",
            "Unit 4: Machine Learning:\n",
            "\n",
            "\n",
            "\n",
            "Introduction to machine learning models \n",
            "\n",
            "Simple and Multiple Regression Models\n",
            "\n",
            "Logistic Regression\n",
            "\n",
            "ROC and AUC analysis\n",
            "\n",
            "KNN and Naive Bayes classifier\n",
            "\n",
            "SVM Classification and Regression\n",
            "\n",
            "Tree Based models:\n",
            "\n",
            "- Decision trees\n",
            "\n",
            "- Truncation and pruning\n",
            "\n",
            "- Random Forests and Bagged models\n",
            "\n",
            "- Gradient Boosted models\n",
            "\n",
            "Feature selection methods \n",
            "\n",
            "Model evaluation and hyper parameter tuning \n",
            "\n",
            "Unsupervised Learning:\n",
            "\n",
            "- Clustering (K means and Hierarchical)\n",
            "\n",
            "- Principal Component Analysis\n",
            "\n",
            "Recommender Systems\n",
            "\n",
            "\n",
            "\n",
            "Unit 5 - Artificial Intelligence:\n",
            "\n",
            "\n",
            "\n",
            "Intro to Neural Networks\n",
            "\n",
            "Types of Neural Networks\n",
            "\n",
            "Image classification\n",
            "\n",
            "Deep Learning Neural Networks\n",
            "\n",
            "\n",
            "\n",
            "Intro to NLP\n",
            "\n",
            "Basic Lexical processing\n",
            "\n",
            "Text classification / Topic modelling / Document summarisation\n",
            "\n",
            "Reinforcement Learning Models\n",
            "\n",
            "\n",
            "\n",
            "Notes:\n",
            "\n",
            "\n",
            "\n",
            "Unit 5 could probability be split in 2 depending on how comprehensive the coverage is\n",
            "\n",
            "\n",
            "\n"
          ]
        }
      ]
    },
    {
      "cell_type": "code",
      "source": [
        "my_file_path = \"/content/file.txt\"\n",
        "new = open(my_file_path,'w')\n",
        "new.write(\"what the hell are \")\n",
        "new.close()\n"
      ],
      "metadata": {
        "id": "SksgBgkHHtyy"
      },
      "execution_count": null,
      "outputs": []
    },
    {
      "cell_type": "markdown",
      "source": [
        "In this method, the file is of active object type and the file will remain open in the body of with function. After exiting the body of the function the file will close itself automatically.\n",
        "\n",
        "So we don't have to close files each time we are opening it."
      ],
      "metadata": {
        "id": "wV5LsgK6GVkz"
      }
    },
    {
      "cell_type": "code",
      "source": [
        "with open(\"/content/Machine_Learning_AI.txt\") as active_file:\n",
        "  file_content = active_file.read()\n",
        "  print(file_content)\n",
        "\n",
        "print()\n",
        "print(len(file_content)) #no of characters in the file\n",
        ""
      ],
      "metadata": {
        "colab": {
          "base_uri": "https://localhost:8080/"
        },
        "id": "lROpTMmt44Gm",
        "outputId": "b678e711-6426-46c4-a0fb-8e103aefb0f3"
      },
      "execution_count": null,
      "outputs": [
        {
          "output_type": "stream",
          "name": "stdout",
          "text": [
            "Unit 1: Introduction To Python - \n",
            "\n",
            "Intro to the Python Programming language\n",
            "Control structures and functions\n",
            "Importing libraries - Numpy and Pandas Basics\n",
            "Data wrangling and cleaning\n",
            "Exploratory Data Analysis and descriptive statistics\n",
            "\n",
            "Unit 2: Database Management - \n",
            "\n",
            "Introduction to Databases and SQL\n",
            "Retrieving data with SQL\n",
            "Writing SQL Queries\n",
            "Functions and aggregations\n",
            "Joins in SQL\n",
            "\n",
            "Unit 3: Statistics and Data Visualisation - \n",
            "\n",
            "Data Visualisation using matplotlib/seaborn\n",
            "Plotting Data distributions\n",
            "Introduction to probability\n",
            "Discrete and Continuous probability distributions\n",
            "Inferential Statistics and Hypothesis testing\n",
            "\n",
            "Unit 4: Machine Learning:\n",
            "\n",
            "Introduction to machine learning models \n",
            "Simple and Multiple Regression Models\n",
            "Logistic Regression\n",
            "ROC and AUC analysis\n",
            "KNN and Naive Bayes classifier\n",
            "SVM Classification and Regression\n",
            "Tree Based models:\n",
            "- Decision trees\n",
            "- Truncation and pruning\n",
            "- Random Forests and Bagged models\n",
            "- Gradient Boosted models\n",
            "Feature selection methods \n",
            "Model evaluation and hyper parameter tuning \n",
            "Unsupervised Learning:\n",
            "- Clustering (K means and Hierarchical)\n",
            "- Principal Component Analysis\n",
            "Recommender Systems\n",
            "\n",
            "Unit 5 - Artificial Intelligence:\n",
            "\n",
            "Intro to Neural Networks\n",
            "Types of Neural Networks\n",
            "Image classification\n",
            "Deep Learning Neural Networks\n",
            "\n",
            "Intro to NLP\n",
            "Basic Lexical processing\n",
            "Text classification / Topic modelling / Document summarisation\n",
            "Reinforcement Learning Models\n",
            "\n",
            "Notes:\n",
            "\n",
            "Unit 5 could probability be split in 2 depending on how comprehensive the coverage is\n",
            "\n",
            "\n",
            "\n",
            "1517\n"
          ]
        }
      ]
    },
    {
      "cell_type": "code",
      "source": [
        "with open(\"/content/Machine_Learning_AI.txt\") as active_file:\n",
        "  file_content_list = active_file.readlines()\n",
        "  print(file_content_list)\n",
        "  print(len(file_content_list)) #it will give no of lines present in the list."
      ],
      "metadata": {
        "colab": {
          "base_uri": "https://localhost:8080/"
        },
        "id": "-WxJZd_Z-3Dp",
        "outputId": "7319af2c-d46c-4132-de1a-d8ef3d29be03"
      },
      "execution_count": null,
      "outputs": [
        {
          "output_type": "stream",
          "name": "stdout",
          "text": [
            "['Unit 1: Introduction To Python - \\n', '\\n', 'Intro to the Python Programming language\\n', 'Control structures and functions\\n', 'Importing libraries - Numpy and Pandas Basics\\n', 'Data wrangling and cleaning\\n', 'Exploratory Data Analysis and descriptive statistics\\n', '\\n', 'Unit 2: Database Management - \\n', '\\n', 'Introduction to Databases and SQL\\n', 'Retrieving data with SQL\\n', 'Writing SQL Queries\\n', 'Functions and aggregations\\n', 'Joins in SQL\\n', '\\n', 'Unit 3: Statistics and Data Visualisation - \\n', '\\n', 'Data Visualisation using matplotlib/seaborn\\n', 'Plotting Data distributions\\n', 'Introduction to probability\\n', 'Discrete and Continuous probability distributions\\n', 'Inferential Statistics and Hypothesis testing\\n', '\\n', 'Unit 4: Machine Learning:\\n', '\\n', 'Introduction to machine learning models \\n', 'Simple and Multiple Regression Models\\n', 'Logistic Regression\\n', 'ROC and AUC analysis\\n', 'KNN and Naive Bayes classifier\\n', 'SVM Classification and Regression\\n', 'Tree Based models:\\n', '- Decision trees\\n', '- Truncation and pruning\\n', '- Random Forests and Bagged models\\n', '- Gradient Boosted models\\n', 'Feature selection methods \\n', 'Model evaluation and hyper parameter tuning \\n', 'Unsupervised Learning:\\n', '- Clustering (K means and Hierarchical)\\n', '- Principal Component Analysis\\n', 'Recommender Systems\\n', '\\n', 'Unit 5 - Artificial Intelligence:\\n', '\\n', 'Intro to Neural Networks\\n', 'Types of Neural Networks\\n', 'Image classification\\n', 'Deep Learning Neural Networks\\n', '\\n', 'Intro to NLP\\n', 'Basic Lexical processing\\n', 'Text classification / Topic modelling / Document summarisation\\n', 'Reinforcement Learning Models\\n', '\\n', 'Notes:\\n', '\\n', 'Unit 5 could probability be split in 2 depending on how comprehensive the coverage is\\n', '\\n']\n",
            "60\n"
          ]
        }
      ]
    },
    {
      "cell_type": "markdown",
      "source": [
        "readlines() will read the file and convert it into the list to be more manageable as you can see in the output is that it's a list.\n",
        "\n",
        "1. It will automatically put /n and count as a single line and put all the lines in a single list.\n",
        "\n",
        "2. we can access single list with index values."
      ],
      "metadata": {
        "id": "p7ciRFe7L50q"
      }
    },
    {
      "cell_type": "code",
      "source": [
        "for line in file_content_list:\n",
        "  print(len(line)). # prints no of characters present in each line of file."
      ],
      "metadata": {
        "colab": {
          "base_uri": "https://localhost:8080/"
        },
        "id": "84b9_0ZvEWKG",
        "outputId": "89df9089-9ac1-4726-d2a7-bdf664b1c11f"
      },
      "execution_count": null,
      "outputs": [
        {
          "output_type": "stream",
          "name": "stdout",
          "text": [
            "34\n",
            "1\n",
            "41\n",
            "33\n",
            "46\n",
            "28\n",
            "53\n",
            "1\n",
            "31\n",
            "1\n",
            "34\n",
            "25\n",
            "20\n",
            "27\n",
            "13\n",
            "1\n",
            "45\n",
            "1\n",
            "44\n",
            "28\n",
            "28\n",
            "50\n",
            "46\n",
            "1\n",
            "26\n",
            "1\n",
            "41\n",
            "38\n",
            "20\n",
            "21\n",
            "31\n",
            "34\n",
            "19\n",
            "17\n",
            "25\n",
            "35\n",
            "26\n",
            "27\n",
            "45\n",
            "23\n",
            "40\n",
            "31\n",
            "20\n",
            "1\n",
            "34\n",
            "1\n",
            "25\n",
            "25\n",
            "21\n",
            "30\n",
            "1\n",
            "13\n",
            "25\n",
            "63\n",
            "30\n",
            "1\n",
            "7\n",
            "1\n",
            "86\n",
            "1\n"
          ]
        }
      ]
    },
    {
      "cell_type": "code",
      "source": [
        "with open(\"new_file.txt\",'x') as file_to_write:\n",
        "  file_to_write.write(\"this is line 0 \\n\")\n",
        "  file_to_write.write(\"this is line 1 \\n\")\n",
        "\n",
        ""
      ],
      "metadata": {
        "id": "xlTRvanPEpOS",
        "colab": {
          "base_uri": "https://localhost:8080/",
          "height": 276
        },
        "outputId": "7b027eb3-9436-414d-b694-f69a35f3b5be"
      },
      "execution_count": null,
      "outputs": [
        {
          "output_type": "error",
          "ename": "FileExistsError",
          "evalue": "ignored",
          "traceback": [
            "\u001b[0;31m---------------------------------------------------------------------------\u001b[0m",
            "\u001b[0;31mFileExistsError\u001b[0m                           Traceback (most recent call last)",
            "\u001b[0;32m<ipython-input-16-0bc26b738b7e>\u001b[0m in \u001b[0;36m<module>\u001b[0;34m()\u001b[0m\n\u001b[0;32m----> 1\u001b[0;31m \u001b[0;32mwith\u001b[0m \u001b[0mopen\u001b[0m\u001b[0;34m(\u001b[0m\u001b[0;34m\"new_file.txt\"\u001b[0m\u001b[0;34m,\u001b[0m\u001b[0;34m'x'\u001b[0m\u001b[0;34m)\u001b[0m \u001b[0;32mas\u001b[0m \u001b[0mfile_to_write\u001b[0m\u001b[0;34m:\u001b[0m\u001b[0;34m\u001b[0m\u001b[0;34m\u001b[0m\u001b[0m\n\u001b[0m\u001b[1;32m      2\u001b[0m   \u001b[0mfile_to_write\u001b[0m\u001b[0;34m.\u001b[0m\u001b[0mwrite\u001b[0m\u001b[0;34m(\u001b[0m\u001b[0;34m\"this is line 0 \\n\"\u001b[0m\u001b[0;34m)\u001b[0m\u001b[0;34m\u001b[0m\u001b[0;34m\u001b[0m\u001b[0m\n\u001b[1;32m      3\u001b[0m   \u001b[0mfile_to_write\u001b[0m\u001b[0;34m.\u001b[0m\u001b[0mwrite\u001b[0m\u001b[0;34m(\u001b[0m\u001b[0;34m\"this is line 1 \\n\"\u001b[0m\u001b[0;34m)\u001b[0m\u001b[0;34m\u001b[0m\u001b[0;34m\u001b[0m\u001b[0m\n\u001b[1;32m      4\u001b[0m \u001b[0;34m\u001b[0m\u001b[0m\n\u001b[1;32m      5\u001b[0m \u001b[0;34m\u001b[0m\u001b[0m\n",
            "\u001b[0;31mFileExistsError\u001b[0m: [Errno 17] File exists: 'new_file.txt'"
          ]
        }
      ]
    },
    {
      "cell_type": "markdown",
      "source": [
        "with files access mode 'x', if file already"
      ],
      "metadata": {
        "id": "a7pl-PF6Pkd9"
      }
    },
    {
      "cell_type": "code",
      "source": [],
      "metadata": {
        "id": "qdHlGS5fPKVB"
      },
      "execution_count": null,
      "outputs": []
    }
  ]
}