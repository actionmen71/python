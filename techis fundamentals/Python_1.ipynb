{
  "nbformat": 4,
  "nbformat_minor": 0,
  "metadata": {
    "colab": {
      "provenance": []
    },
    "kernelspec": {
      "name": "python3",
      "display_name": "Python 3"
    },
    "language_info": {
      "name": "python"
    }
  },
  "cells": [
    {
      "cell_type": "markdown",
      "source": [
        "#Python Introduction and Basics\n",
        "\n",
        "#### Interpreter vs Compiler\n",
        "#### print method - end, sep, flush, file\n",
        "#### Comments - single line comment, multiline comment\n",
        "#### Strings -\n",
        "\n",
        "1.   Anything inside quotes(single quotes, double quotes, triple quotes)\n",
        "2.   triple quoted string works as a string or as a multiline comment\n",
        "\n",
        "\n",
        "\n",
        "\n",
        "\n",
        "\n"
      ],
      "metadata": {
        "id": "h0ZW4grCDnBA"
      }
    },
    {
      "cell_type": "code",
      "source": [
        "print(\"hello world\") #first program"
      ],
      "metadata": {
        "colab": {
          "base_uri": "https://localhost:8080/"
        },
        "id": "7qOeQNHz_4ZP",
        "outputId": "5c9d38a2-fd7d-4a0a-911c-9f4e11def36c"
      },
      "execution_count": null,
      "outputs": [
        {
          "output_type": "stream",
          "name": "stdout",
          "text": [
            "hello world\n"
          ]
        }
      ]
    },
    {
      "cell_type": "code",
      "source": [
        "!python --version #terminal command to check python version on google colab"
      ],
      "metadata": {
        "colab": {
          "base_uri": "https://localhost:8080/"
        },
        "id": "Tlwa-tr-BbjO",
        "outputId": "9b526533-14ec-476b-8483-a85746426c69"
      },
      "execution_count": null,
      "outputs": [
        {
          "output_type": "stream",
          "name": "stdout",
          "text": [
            "Python 3.10.12\n"
          ]
        }
      ]
    },
    {
      "cell_type": "code",
      "source": [
        "#Interpreter vs Compiler\n",
        "\n",
        "#Interpreter - line by line translation\n",
        "#compiler - all program at once\n",
        "\n",
        "\n",
        "#python - interpreter language\n",
        "#Clanguage - compiler language\n"
      ],
      "metadata": {
        "id": "oCfFaIc6EVAx"
      },
      "execution_count": null,
      "outputs": []
    },
    {
      "cell_type": "code",
      "source": [
        "print(\"Hello\")\n"
      ],
      "metadata": {
        "colab": {
          "base_uri": "https://localhost:8080/"
        },
        "id": "q1hxVIpyFTuY",
        "outputId": "7a8c7798-f736-4dae-e27f-14b59b4c59e1"
      },
      "execution_count": null,
      "outputs": [
        {
          "output_type": "stream",
          "name": "stdout",
          "text": [
            "Hello\n",
            "9\n",
            "bye\n"
          ]
        }
      ]
    },
    {
      "cell_type": "code",
      "source": [
        "print(\"Hello\" + \"Hi\" + \"bye\")\n",
        "print(\"hi\")\n",
        "\n",
        "\n"
      ],
      "metadata": {
        "colab": {
          "base_uri": "https://localhost:8080/"
        },
        "id": "1__kuDMRGlBr",
        "outputId": "b9d2f501-5a19-46b9-e2ae-3505595cc978"
      },
      "execution_count": null,
      "outputs": [
        {
          "output_type": "stream",
          "name": "stdout",
          "text": [
            "HelloHibye\n",
            "hi\n"
          ]
        }
      ]
    },
    {
      "cell_type": "code",
      "source": [
        "print(\"What is your name?\", end=\" \") #this is a comment\n",
        "\n",
        "#Here this string is workings as a mulitline comment\n",
        "\"\"\"this is\n",
        "multiline\n",
        "commment\"\"\"\n",
        "\n",
        "print(\"Adam\")\n"
      ],
      "metadata": {
        "colab": {
          "base_uri": "https://localhost:8080/"
        },
        "id": "SvlatZvLGumR",
        "outputId": "c824786e-2d38-4f7e-bb56-e3c99a3f6646"
      },
      "execution_count": null,
      "outputs": [
        {
          "output_type": "stream",
          "name": "stdout",
          "text": [
            "What is your name? Adam\n"
          ]
        }
      ]
    },
    {
      "cell_type": "code",
      "source": [
        "# Here this string is working as proper string\n",
        "\"\"\"this is\n",
        "multiline\n",
        "commment\"\"\""
      ],
      "metadata": {
        "colab": {
          "base_uri": "https://localhost:8080/",
          "height": 35
        },
        "id": "siNolXsbN2KG",
        "outputId": "a7f667fd-9a91-4e61-994d-be3de63dce7d"
      },
      "execution_count": null,
      "outputs": [
        {
          "output_type": "execute_result",
          "data": {
            "text/plain": [
              "'this is \\nmultiline\\ncommment'"
            ],
            "application/vnd.google.colaboratory.intrinsic+json": {
              "type": "string"
            }
          },
          "metadata": {},
          "execution_count": 84
        }
      ]
    },
    {
      "cell_type": "code",
      "source": [
        "\"hi\" #string"
      ],
      "metadata": {
        "colab": {
          "base_uri": "https://localhost:8080/",
          "height": 35
        },
        "id": "E49zS6qqPRzh",
        "outputId": "c564a84c-9251-4794-c443-27ba5b0add28"
      },
      "execution_count": null,
      "outputs": [
        {
          "output_type": "execute_result",
          "data": {
            "text/plain": [
              "'hi'"
            ],
            "application/vnd.google.colaboratory.intrinsic+json": {
              "type": "string"
            }
          },
          "metadata": {},
          "execution_count": 85
        }
      ]
    },
    {
      "cell_type": "code",
      "source": [
        "print('hi') #single quotes\n",
        "print(\"bye\") #double quotes\n",
        "print('''see you''') #single triple quotes or triple single quotes\n",
        "print(\"\"\"again\"\"\")  #double triple quotes or triple double quotes"
      ],
      "metadata": {
        "colab": {
          "base_uri": "https://localhost:8080/"
        },
        "id": "ZjwS_9wZPbM5",
        "outputId": "81ba931b-00e1-49c9-c5d2-6b6663fb5829"
      },
      "execution_count": null,
      "outputs": [
        {
          "output_type": "stream",
          "name": "stdout",
          "text": [
            "hi\n",
            "bye\n",
            "see you\n",
            "again\n"
          ]
        }
      ]
    },
    {
      "cell_type": "code",
      "source": [
        "34+23 #numbers - integers (int)"
      ],
      "metadata": {
        "colab": {
          "base_uri": "https://localhost:8080/"
        },
        "id": "fMneSYe8R8v7",
        "outputId": "209a074f-f5e5-4766-b452-4e96e0f9251b"
      },
      "execution_count": null,
      "outputs": [
        {
          "output_type": "execute_result",
          "data": {
            "text/plain": [
              "57"
            ]
          },
          "metadata": {},
          "execution_count": 95
        }
      ]
    },
    {
      "cell_type": "code",
      "source": [
        "print(34+\"12\")"
      ],
      "metadata": {
        "colab": {
          "base_uri": "https://localhost:8080/",
          "height": 177
        },
        "id": "OZyUANHfSI56",
        "outputId": "b72c883b-d683-4954-80fb-82ec39542176"
      },
      "execution_count": null,
      "outputs": [
        {
          "output_type": "error",
          "ename": "TypeError",
          "evalue": "ignored",
          "traceback": [
            "\u001b[0;31m---------------------------------------------------------------------------\u001b[0m",
            "\u001b[0;31mTypeError\u001b[0m                                 Traceback (most recent call last)",
            "\u001b[0;32m<ipython-input-3-9e21db756538>\u001b[0m in \u001b[0;36m<cell line: 1>\u001b[0;34m()\u001b[0m\n\u001b[0;32m----> 1\u001b[0;31m \u001b[0mprint\u001b[0m\u001b[0;34m(\u001b[0m\u001b[0;36m34\u001b[0m\u001b[0;34m+\u001b[0m\u001b[0;34m\"12\"\u001b[0m\u001b[0;34m)\u001b[0m\u001b[0;34m\u001b[0m\u001b[0;34m\u001b[0m\u001b[0m\n\u001b[0m",
            "\u001b[0;31mTypeError\u001b[0m: unsupported operand type(s) for +: 'int' and 'str'"
          ]
        }
      ]
    },
    {
      "cell_type": "markdown",
      "source": [
        "### Any operation like addition, mulitplication will work differently depending upon the datatype\n",
        "\n",
        "### type() - With the help of type() function we can check the datatype\n",
        "### len() - With the help of len() function we can check len of datatype\n",
        "\n",
        "1.   Numerical datatypes don't have any length. len() will not work here.\n",
        "\n",
        "\n",
        "\n",
        "\n",
        "#### String operations\n",
        "\n",
        "\n",
        "1.   Concatenation (+) - This will merge the strings together. Requires all operands to be of string datatype.\n",
        "2.   Multiplication(*) - This will multiply the string term with numerical term. Requires string data and numerical datatypes.\n",
        "\n",
        "#### Numerical operations\n",
        "\n",
        "\n",
        "1.   Addition\n",
        "2.   Subtraction\n",
        "3.   Multiplication\n",
        "4.   Division\n",
        "\n",
        "\n",
        "\n",
        "\n",
        "\n",
        "\n"
      ],
      "metadata": {
        "id": "pnDZmro4hzgg"
      }
    },
    {
      "cell_type": "code",
      "source": [
        "#Concatenation of strings\n",
        "print(\"34\"+\"43\")\n",
        "print(\"ab\"+\"cd\")\n",
        "\n"
      ],
      "metadata": {
        "colab": {
          "base_uri": "https://localhost:8080/"
        },
        "id": "4CHu84g2SY4N",
        "outputId": "2f3ab64e-4e2f-432c-b7db-17c2b3640949"
      },
      "execution_count": null,
      "outputs": [
        {
          "output_type": "stream",
          "name": "stdout",
          "text": [
            "3443\n",
            "abcd\n"
          ]
        }
      ]
    },
    {
      "cell_type": "code",
      "source": [
        "#Multiplication on strings\n",
        "print(2 * 3 * \"a\")"
      ],
      "metadata": {
        "colab": {
          "base_uri": "https://localhost:8080/"
        },
        "id": "aUO7mGiahS4F",
        "outputId": "517aafc7-0852-485f-f4d9-8fa0eafcfe75"
      },
      "execution_count": null,
      "outputs": [
        {
          "output_type": "stream",
          "name": "stdout",
          "text": [
            "aaaaaa\n"
          ]
        }
      ]
    },
    {
      "cell_type": "code",
      "source": [
        "#Addition\n",
        "print(45+23)"
      ],
      "metadata": {
        "id": "ILtrEWmrSkrS",
        "outputId": "38266822-872b-4d08-acea-9b2bf82174de",
        "colab": {
          "base_uri": "https://localhost:8080/"
        }
      },
      "execution_count": null,
      "outputs": [
        {
          "output_type": "stream",
          "name": "stdout",
          "text": [
            "68\n"
          ]
        }
      ]
    },
    {
      "cell_type": "code",
      "source": [
        "print(type(60))"
      ],
      "metadata": {
        "colab": {
          "base_uri": "https://localhost:8080/"
        },
        "id": "ABGO7OV8ftFR",
        "outputId": "39e0e812-52d1-426f-cc76-e983329f8cab"
      },
      "execution_count": null,
      "outputs": [
        {
          "output_type": "stream",
          "name": "stdout",
          "text": [
            "<class 'int'>\n"
          ]
        }
      ]
    },
    {
      "cell_type": "code",
      "source": [
        "print(type(\"60\"))"
      ],
      "metadata": {
        "colab": {
          "base_uri": "https://localhost:8080/"
        },
        "id": "xDxKyPI-gctb",
        "outputId": "d6f88ca9-0a3e-486d-f048-b7f96a8e050a"
      },
      "execution_count": null,
      "outputs": [
        {
          "output_type": "stream",
          "name": "stdout",
          "text": [
            "<class 'str'>\n"
          ]
        }
      ]
    },
    {
      "cell_type": "code",
      "source": [
        "type(\"/@adfjkfasd678678\")"
      ],
      "metadata": {
        "colab": {
          "base_uri": "https://localhost:8080/"
        },
        "id": "MicdrmAIj261",
        "outputId": "40ebc293-3c4f-4780-a297-9c35ec4b8111"
      },
      "execution_count": null,
      "outputs": [
        {
          "output_type": "execute_result",
          "data": {
            "text/plain": [
              "str"
            ]
          },
          "metadata": {},
          "execution_count": 19
        }
      ]
    },
    {
      "cell_type": "code",
      "source": [
        "type(314143)"
      ],
      "metadata": {
        "colab": {
          "base_uri": "https://localhost:8080/"
        },
        "id": "oV2eZaHlkTqs",
        "outputId": "0f23bf05-5289-46c7-e7b1-bbf5053145f6"
      },
      "execution_count": null,
      "outputs": [
        {
          "output_type": "execute_result",
          "data": {
            "text/plain": [
              "int"
            ]
          },
          "metadata": {},
          "execution_count": 20
        }
      ]
    },
    {
      "cell_type": "code",
      "source": [
        "type(4.6)"
      ],
      "metadata": {
        "colab": {
          "base_uri": "https://localhost:8080/"
        },
        "id": "t0KWeiaDkWCX",
        "outputId": "fc3df32e-c9ee-42b4-96f0-3ecc2bfa86ec"
      },
      "execution_count": null,
      "outputs": [
        {
          "output_type": "execute_result",
          "data": {
            "text/plain": [
              "float"
            ]
          },
          "metadata": {},
          "execution_count": 21
        }
      ]
    },
    {
      "cell_type": "code",
      "source": [
        "len(\"abcd234234@ .\")"
      ],
      "metadata": {
        "colab": {
          "base_uri": "https://localhost:8080/"
        },
        "id": "2A_sy-ewkcTt",
        "outputId": "d9940355-8c01-421a-a447-3c800553e22b"
      },
      "execution_count": null,
      "outputs": [
        {
          "output_type": "execute_result",
          "data": {
            "text/plain": [
              "13"
            ]
          },
          "metadata": {},
          "execution_count": 27
        }
      ]
    },
    {
      "cell_type": "code",
      "source": [
        "len(12)"
      ],
      "metadata": {
        "colab": {
          "base_uri": "https://localhost:8080/",
          "height": 177
        },
        "id": "1JANX1Ixk5ty",
        "outputId": "67acf232-5278-4b6e-9acc-a061263daa3d"
      },
      "execution_count": null,
      "outputs": [
        {
          "output_type": "error",
          "ename": "TypeError",
          "evalue": "ignored",
          "traceback": [
            "\u001b[0;31m---------------------------------------------------------------------------\u001b[0m",
            "\u001b[0;31mTypeError\u001b[0m                                 Traceback (most recent call last)",
            "\u001b[0;32m<ipython-input-28-55ac7f9ce5db>\u001b[0m in \u001b[0;36m<cell line: 1>\u001b[0;34m()\u001b[0m\n\u001b[0;32m----> 1\u001b[0;31m \u001b[0mlen\u001b[0m\u001b[0;34m(\u001b[0m\u001b[0;36m12\u001b[0m\u001b[0;34m)\u001b[0m\u001b[0;34m\u001b[0m\u001b[0;34m\u001b[0m\u001b[0m\n\u001b[0m",
            "\u001b[0;31mTypeError\u001b[0m: object of type 'int' has no len()"
          ]
        }
      ]
    },
    {
      "cell_type": "markdown",
      "source": [
        "##Variables\n",
        "\n",
        "\n",
        "1.   Variables are containers which stores actual data\n",
        "2.   Variables assume the datatype of the stored value\n",
        "     eg:-  \n",
        "    `num = 23 (integer variable)`\n",
        "\n",
        "    `name = \"abc\" (string variable)`\n",
        "\n",
        "\n",
        "\n",
        "\n"
      ],
      "metadata": {
        "id": "_CHWo1A0llvV"
      }
    },
    {
      "cell_type": "code",
      "source": [
        "number1 = 78 #using assignment operator here\n",
        "number2 = 100"
      ],
      "metadata": {
        "id": "xxmRDwHhlpcS"
      },
      "execution_count": null,
      "outputs": []
    },
    {
      "cell_type": "code",
      "source": [
        "name = \"Adam\"\n",
        "age = 30"
      ],
      "metadata": {
        "id": "JTOb5cSTmmhE"
      },
      "execution_count": null,
      "outputs": []
    },
    {
      "cell_type": "code",
      "source": [
        "#using variables\n",
        "\n",
        "number1 + age"
      ],
      "metadata": {
        "colab": {
          "base_uri": "https://localhost:8080/"
        },
        "id": "fNGpvOqem9gJ",
        "outputId": "475842a6-09fa-4243-97d0-2e8fd7cb50ac"
      },
      "execution_count": null,
      "outputs": [
        {
          "output_type": "execute_result",
          "data": {
            "text/plain": [
              "108"
            ]
          },
          "metadata": {},
          "execution_count": 36
        }
      ]
    },
    {
      "cell_type": "markdown",
      "source": [
        "### Variable naming conventions/standard/rules\n",
        "\n",
        "\n",
        "(A-z, 0-9, and _) are used to create variable name.\n",
        "\n",
        "exercise :- Learn about different naming conventions used in different programming languages? Camel Case, Snake Case etc.\n",
        "\n",
        "\n",
        "https://visualgit.readthedocs.io/en/latest/pages/naming_convention.html\n",
        "\n",
        "\n",
        "https://www.w3schools.com/python/python_variables_names.asp"
      ],
      "metadata": {
        "id": "Azmp4-f3p5hm"
      }
    },
    {
      "cell_type": "code",
      "source": [
        "1name = 78 #cannot start variable name with a number"
      ],
      "metadata": {
        "id": "zzNMB81cp6Ue"
      },
      "execution_count": null,
      "outputs": []
    },
    {
      "cell_type": "code",
      "source": [
        "n1ame = 32"
      ],
      "metadata": {
        "id": "q8Cjun1WqKJW"
      },
      "execution_count": null,
      "outputs": []
    },
    {
      "cell_type": "code",
      "source": [
        "@name = 32 #variable names cannot contains special characters exept underscore(_)"
      ],
      "metadata": {
        "id": "-Tw3tlfoqQS0"
      },
      "execution_count": null,
      "outputs": []
    },
    {
      "cell_type": "code",
      "source": [
        "_nmec = 23"
      ],
      "metadata": {
        "id": "Wv1yQUw8qZk2"
      },
      "execution_count": null,
      "outputs": []
    },
    {
      "cell_type": "code",
      "source": [
        "First_Name = \"Ram\""
      ],
      "metadata": {
        "id": "p5FzmJXkq62T"
      },
      "execution_count": null,
      "outputs": []
    },
    {
      "cell_type": "code",
      "source": [
        "luck = 23\n",
        "Luck = 50"
      ],
      "metadata": {
        "id": "yrbUiUlKsjnx"
      },
      "execution_count": null,
      "outputs": []
    },
    {
      "cell_type": "code",
      "source": [
        "\"luck\" == \"luck\""
      ],
      "metadata": {
        "colab": {
          "base_uri": "https://localhost:8080/"
        },
        "id": "Iax5mAMisqcv",
        "outputId": "67f7f48a-b022-4ca5-cd4a-8105de4676f3"
      },
      "execution_count": null,
      "outputs": [
        {
          "output_type": "execute_result",
          "data": {
            "text/plain": [
              "True"
            ]
          },
          "metadata": {},
          "execution_count": 59
        }
      ]
    },
    {
      "cell_type": "markdown",
      "source": [
        "#keywords are special words that are used in python for special purposes.\n",
        "https://www.w3schools.com/python/python_ref_keywords.asp\n",
        "\n",
        "\n",
        "\n",
        "`type = 78 # wrong, avoid using these special words as variable names`\n",
        "\n",
        "`print_my_name = \"adf\"`\n"
      ],
      "metadata": {
        "id": "MXdAtdFrt_SK"
      }
    },
    {
      "cell_type": "code",
      "source": [
        "and = 234"
      ],
      "metadata": {
        "colab": {
          "base_uri": "https://localhost:8080/",
          "height": 142
        },
        "id": "GRuzLWa2vgPH",
        "outputId": "a2daa288-bb04-4278-f531-cb2a8522e5e2"
      },
      "execution_count": null,
      "outputs": [
        {
          "output_type": "error",
          "ename": "SyntaxError",
          "evalue": "ignored",
          "traceback": [
            "\u001b[0;36m  File \u001b[0;32m\"<ipython-input-65-8da623f1ce55>\"\u001b[0;36m, line \u001b[0;32m1\u001b[0m\n\u001b[0;31m    and = 234\u001b[0m\n\u001b[0m    ^\u001b[0m\n\u001b[0;31mSyntaxError\u001b[0m\u001b[0;31m:\u001b[0m invalid syntax\n"
          ]
        }
      ]
    },
    {
      "cell_type": "markdown",
      "source": [
        "#Assigning values to variables"
      ],
      "metadata": {
        "id": "xptV9lBwwGqy"
      }
    },
    {
      "cell_type": "code",
      "source": [
        "a = 1\n",
        "b = 2\n",
        "c = 3"
      ],
      "metadata": {
        "id": "5yPCYhQAwLTw"
      },
      "execution_count": null,
      "outputs": []
    },
    {
      "cell_type": "code",
      "source": [
        "print(a,b,c)"
      ],
      "metadata": {
        "colab": {
          "base_uri": "https://localhost:8080/"
        },
        "id": "_m8Q2fhXxUSY",
        "outputId": "82c38ca1-76f4-4870-fa5c-0c834e85b666"
      },
      "execution_count": null,
      "outputs": [
        {
          "output_type": "stream",
          "name": "stdout",
          "text": [
            "1 2 3\n"
          ]
        }
      ]
    },
    {
      "cell_type": "code",
      "source": [
        "c = \"hi\"\n",
        "d = \"bye\"\n",
        "e = \"soon\""
      ],
      "metadata": {
        "id": "e3NOsFDUwrWZ"
      },
      "execution_count": null,
      "outputs": []
    },
    {
      "cell_type": "code",
      "source": [
        "print(c , d , e)"
      ],
      "metadata": {
        "colab": {
          "base_uri": "https://localhost:8080/"
        },
        "id": "f8fr3hmQw1MZ",
        "outputId": "c1d39122-f58e-4f75-a4a0-113bf2fdf58f"
      },
      "execution_count": null,
      "outputs": [
        {
          "output_type": "stream",
          "name": "stdout",
          "text": [
            "hi bye soon\n"
          ]
        }
      ]
    },
    {
      "cell_type": "code",
      "source": [
        "ab, cd, ef = 23, \"tell\", 23\n",
        "print(ab,cd,ef)"
      ],
      "metadata": {
        "colab": {
          "base_uri": "https://localhost:8080/"
        },
        "id": "MmstXtD6xxN7",
        "outputId": "458665bf-1b5d-4647-a899-8c8a23f62d1c"
      },
      "execution_count": null,
      "outputs": [
        {
          "output_type": "stream",
          "name": "stdout",
          "text": [
            "23 tell 23\n"
          ]
        }
      ]
    },
    {
      "cell_type": "code",
      "source": [
        "my_name = \"Amit\"\n",
        "print(my_name)"
      ],
      "metadata": {
        "colab": {
          "base_uri": "https://localhost:8080/"
        },
        "id": "LlHsdv-dx_8T",
        "outputId": "01006849-1058-4059-f414-c7b4d1b01da2"
      },
      "execution_count": null,
      "outputs": [
        {
          "output_type": "stream",
          "name": "stdout",
          "text": [
            "Amit\n"
          ]
        }
      ]
    },
    {
      "cell_type": "code",
      "source": [
        "my_name = \"Akash\"\n",
        "print(my_name)"
      ],
      "metadata": {
        "colab": {
          "base_uri": "https://localhost:8080/"
        },
        "id": "RFRs2rJ_yHJk",
        "outputId": "d2713afd-1cd6-474a-a961-e0d7e74cbdca"
      },
      "execution_count": null,
      "outputs": [
        {
          "output_type": "stream",
          "name": "stdout",
          "text": [
            "Akash\n"
          ]
        }
      ]
    },
    {
      "cell_type": "code",
      "source": [
        "x = y = z = \"Orange\"\n",
        "print(x)\n",
        "print(y)\n",
        "print(z)"
      ],
      "metadata": {
        "colab": {
          "base_uri": "https://localhost:8080/"
        },
        "id": "OeEOC16By2T1",
        "outputId": "3727d646-b171-480b-d9cd-a86e1b087d16"
      },
      "execution_count": null,
      "outputs": [
        {
          "output_type": "stream",
          "name": "stdout",
          "text": [
            "Orange\n",
            "Orange\n",
            "Orange\n"
          ]
        }
      ]
    },
    {
      "cell_type": "code",
      "source": [
        "first_name = \"Adam\"\n",
        "second_name = \"Eve\"\n",
        "print(first_name +\" \"+ second_name) #usin space string"
      ],
      "metadata": {
        "colab": {
          "base_uri": "https://localhost:8080/"
        },
        "id": "MS3-X3hqzIHA",
        "outputId": "c4ffe9e8-a853-4eb6-c332-98926dcaa547"
      },
      "execution_count": null,
      "outputs": [
        {
          "output_type": "stream",
          "name": "stdout",
          "text": [
            "Adam Eve\n"
          ]
        }
      ]
    },
    {
      "cell_type": "code",
      "source": [
        "print(len(\" \"))  #even space has string datatype and length 1\n",
        "print(type(\" \"))"
      ],
      "metadata": {
        "colab": {
          "base_uri": "https://localhost:8080/"
        },
        "id": "7XX8tevgzz39",
        "outputId": "8ad945ce-4e7f-4428-cffd-89081bd2509d"
      },
      "execution_count": null,
      "outputs": [
        {
          "output_type": "stream",
          "name": "stdout",
          "text": [
            "1\n",
            "<class 'str'>\n"
          ]
        }
      ]
    },
    {
      "cell_type": "code",
      "source": [
        "print(len(\"\")) #empty string\n",
        "print(type(\"\"))"
      ],
      "metadata": {
        "colab": {
          "base_uri": "https://localhost:8080/"
        },
        "id": "tgjfeGyG0IBI",
        "outputId": "f5591969-5743-4c6b-b4c6-ec64750bbbcf"
      },
      "execution_count": null,
      "outputs": [
        {
          "output_type": "stream",
          "name": "stdout",
          "text": [
            "0\n",
            "<class 'str'>\n"
          ]
        }
      ]
    },
    {
      "cell_type": "markdown",
      "source": [
        "Exercise:-\n",
        "\n",
        "\n",
        "1.   Take the input from the user using input function and store it in a variable.\n",
        "2.   print the value from the variable and check its length and datatype.\n",
        "\n"
      ],
      "metadata": {
        "id": "juEvLDJQ0nS2"
      }
    },
    {
      "cell_type": "code",
      "source": [],
      "metadata": {
        "id": "SF0K81H21OjB"
      },
      "execution_count": null,
      "outputs": []
    }
  ]
}