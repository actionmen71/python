{
  "nbformat": 4,
  "nbformat_minor": 0,
  "metadata": {
    "colab": {
      "provenance": []
    },
    "kernelspec": {
      "name": "python3",
      "display_name": "Python 3"
    },
    "language_info": {
      "name": "python"
    }
  },
  "cells": [
    {
      "cell_type": "code",
      "execution_count": null,
      "metadata": {
        "id": "2rvbvwsHbjYr"
      },
      "outputs": [],
      "source": []
    },
    {
      "cell_type": "markdown",
      "source": [
        "<html>\n",
        "<head>\n",
        "  <title>form designing</title>\n",
        "  </head>\n",
        "  <body>\n",
        "    <h1> My form </h1>\n",
        "    <form action =\"#\">\n",
        "      <fieldset>\n",
        "        <legend>Personal Details</legend>\n",
        "        <p>\n",
        "          <label>First name: <input name =\"firstName\" /></label></p>\n",
        "        <p>\n",
        "          <label>Last name: <input name = \"lastName\" /></label></p>\n",
        "        <p>\n",
        "          Gender:\n",
        "          <label><input type=\"radio\" name = \"gender\" value =\"male\" />Male</label>\n",
        "          <label><input type=\"radio\" name = \"gender\" value =\"female\" />Female</label></p>\n",
        "        \n",
        "        \n",
        "        <p>\n",
        "          <label>Email: <input type =\"email\" name=\"email\"/></label></p>\n",
        "        \n",
        "        <p>\n",
        "          <label>Date of Birth: <input type = \"date\" name = \"birthdate\" ></label></p>\n",
        "        \n",
        "        <p><label>Address:<br> <textarea name = \"address\" cols ='30' rows ='3'></textarea></label></p>\n",
        "        \n",
        "        <p>\n",
        "          <button type = \"submit\" > Submit</button></p>\n",
        "      </fieldset>\n",
        "    </form>\n",
        "    </body>\n",
        "</html>\n",
        "          "
      ],
      "metadata": {
        "id": "T4WWoZ9gbloY"
      }
    },
    {
      "cell_type": "markdown",
      "source": [
        "<html>\n",
        "  <head>\n",
        "    <title>\n",
        "      HTML</title>\n",
        "    <style>h1{color:#009900;}\n",
        "      <!--   This is a single line comment -->\n",
        "    </style>\n",
        "    <!-- This is a multiline comment -->\n",
        "  </head>\n",
        "  <comment> This is a comment using comment tag but it is no longer supported</comment>\n",
        "  <body>\n",
        "    <h1>Geek</h1>\n",
        "    <h2>Geek</h2>\n",
        "    <h3>Geek</h2>\n",
        "    <h4>Geek</h4>\n",
        "    <h5>Geek</h5>\n",
        "    <h6>Geek</h6>\n",
        "    <h7>Geek7</h7>\n",
        "    <h8>Invalid</h8>\n",
        "    <p>This a paragraph</p>\n",
        "    <p>This is another paragraph.<br> Now I will be using br tag to break sentence to new line.</p>\n",
        "    \n",
        "    \n",
        "    <hr>\n",
        "    <p>This is a paragraph after hr tag which creates a horizontal rule.</p>\n",
        "      \n",
        "    <p>\n",
        "    <hr>\n",
        "    <p>Now we are going to insert some image here.</p>\n",
        "    <img src = \"https://media.geeksforgeeks.org/wp-content/cdn-uploads/Geek_logi_-low_res.png\">\n",
        "  </body>\n",
        "</html>"
      ],
      "metadata": {
        "id": "sX2bj7JimXGz"
      }
    },
    {
      "cell_type": "markdown",
      "source": [],
      "metadata": {
        "id": "s3Ce0KxmmYyV"
      }
    }
  ]
}