{
  "nbformat": 4,
  "nbformat_minor": 0,
  "metadata": {
    "colab": {
      "provenance": []
    },
    "kernelspec": {
      "name": "python3",
      "display_name": "Python 3"
    },
    "language_info": {
      "name": "python"
    }
  },
  "cells": [
    {
      "cell_type": "code",
      "source": [
        "def addition(n):\n",
        "  return n+n\n",
        "\n",
        "numbers = (1,2,3,4)\n",
        "result = map(addition, numbers)\n",
        "print(list(result))\n"
      ],
      "metadata": {
        "colab": {
          "base_uri": "https://localhost:8080/"
        },
        "id": "ZGjXBR6dOJLb",
        "outputId": "1c3e5883-3921-41b6-cdc8-8e873480e588"
      },
      "execution_count": null,
      "outputs": [
        {
          "output_type": "stream",
          "name": "stdout",
          "text": [
            "[2, 4, 6, 8]\n"
          ]
        }
      ]
    },
    {
      "cell_type": "code",
      "source": [
        "numbers = (1,2,3,4)\n",
        "result = map(lambda x: x+x,numbers)\n",
        "print(list(result))"
      ],
      "metadata": {
        "colab": {
          "base_uri": "https://localhost:8080/"
        },
        "id": "okznOvsIOJXE",
        "outputId": "e92dd540-7b90-4cce-c19a-d7046fa462f8"
      },
      "execution_count": null,
      "outputs": [
        {
          "output_type": "stream",
          "name": "stdout",
          "text": [
            "[2, 4, 6, 8]\n"
          ]
        }
      ]
    },
    {
      "cell_type": "code",
      "source": [
        "numbers = (4,5,6,7,8)\n",
        "numbers2 = (1,2,3,4,5)\n",
        "\n",
        "result = map(lambda x,y:x+y,numbers,numbers2)\n",
        "print(list(result))"
      ],
      "metadata": {
        "colab": {
          "base_uri": "https://localhost:8080/"
        },
        "id": "G_MDX3krPlD3",
        "outputId": "10aace7d-75d5-4d8a-f450-95a9fd46e98c"
      },
      "execution_count": null,
      "outputs": [
        {
          "output_type": "stream",
          "name": "stdout",
          "text": [
            "[5, 7, 9, 11, 13]\n"
          ]
        }
      ]
    },
    {
      "cell_type": "code",
      "source": [
        "l = ['sat','bat','cat','mat']\n",
        "\n",
        "test = list(map(list,l))\n",
        "print(test)"
      ],
      "metadata": {
        "colab": {
          "base_uri": "https://localhost:8080/"
        },
        "id": "1B7xzaaSP_gc",
        "outputId": "a0ecd7d2-a07f-442e-d3ea-c32122460665"
      },
      "execution_count": null,
      "outputs": [
        {
          "output_type": "stream",
          "name": "stdout",
          "text": [
            "[['s', 'a', 't'], ['b', 'a', 't'], ['c', 'a', 't'], ['m', 'a', 't']]\n"
          ]
        }
      ]
    },
    {
      "cell_type": "code",
      "source": [
        "import datetime\n",
        "\n",
        "time_now = datetime.datetime.now()\n",
        "print(time_now)\n",
        "print(time_now.strftime(\"%A\"))"
      ],
      "metadata": {
        "colab": {
          "base_uri": "https://localhost:8080/"
        },
        "id": "gKs-KvFDMdpM",
        "outputId": "8889f18c-665e-4ad3-80c8-511380501d6c"
      },
      "execution_count": null,
      "outputs": [
        {
          "output_type": "stream",
          "name": "stdout",
          "text": [
            "2022-06-16 06:28:33.401934\n",
            "Thursday\n"
          ]
        }
      ]
    }
  ]
}