{
  "nbformat": 4,
  "nbformat_minor": 0,
  "metadata": {
    "colab": {
      "provenance": []
    },
    "kernelspec": {
      "name": "python3",
      "display_name": "Python 3"
    },
    "language_info": {
      "name": "python"
    }
  },
  "cells": [
    {
      "cell_type": "markdown",
      "source": [
        "# OOPs Concept"
      ],
      "metadata": {
        "id": "R4DvcjfN1uju"
      }
    },
    {
      "cell_type": "markdown",
      "source": [
        "# 1. Inheritance\n",
        "#  Organization : Teacher\n",
        "#              Student"
      ],
      "metadata": {
        "id": "0d-jz7c01mY1"
      }
    },
    {
      "cell_type": "code",
      "execution_count": null,
      "metadata": {
        "colab": {
          "base_uri": "https://localhost:8080/"
        },
        "id": "kApySzjN1dwx",
        "outputId": "4a381bcb-f241-40f7-b493-92bc55fd294d"
      },
      "outputs": [
        {
          "output_type": "stream",
          "name": "stdout",
          "text": [
            "(Initialized Student: Manisha)\n",
            "Name:\"Manisha\" Age:\"20\" marks:\"69\"\n",
            "(Initialized Teacher: Prakash)\n",
            "Name:\"Prakash\" Age:\"26\" salary: \"67000\"\n"
          ]
        }
      ],
      "source": [
        "class Schoolmember:\n",
        "    def __init__(self, name, age):\n",
        "      self.name = name\n",
        "      self.age = age\n",
        "    def tell(self):\n",
        "      print('Name:\"{}\" Age:\"{}\"'.format(self.name, self.age), end=\" \")\n",
        "\n",
        "class Student(Schoolmember):\n",
        "  def __init__(self, name, age, marks):\n",
        "    Schoolmember.__init__(self ,name, age)\n",
        "    self.marks = marks\n",
        "    print('(Initialized Student: {})'.format(self.name))\n",
        "  def tell(self):\n",
        "    Schoolmember.tell(self)\n",
        "    print('marks:\"{}\"'.format(self.marks))\n",
        "\n",
        "s = Student(\"Manisha\", 20, 69)\n",
        "\n",
        "s.tell()\n",
        "\n",
        "class Teacher(Schoolmember):\n",
        "  def __init__(self, name, age, salary):\n",
        "    Schoolmember.__init__(self ,name, age)\n",
        "    self.salary = salary\n",
        "    print('(Initialized Teacher: {})'.format(self.name))\n",
        "  def tell(self):\n",
        "    Schoolmember.tell(self)\n",
        "    print('salary: \"{:d}\"'.format(self.salary))\n",
        "\n",
        "t = Teacher(\"Prakash\", 26, 67000)\n",
        "\n",
        "t.tell()"
      ]
    },
    {
      "cell_type": "markdown",
      "source": [
        "# 2. Classes and Objects\n",
        "#  University : Add student\n",
        "#            Delete Student\n",
        "#            Count Student"
      ],
      "metadata": {
        "id": "I4IVwkI71zUP"
      }
    },
    {
      "cell_type": "code",
      "source": [
        "class University:\n",
        "  count = 0\n",
        "\n",
        "  def __init__(self,name):\n",
        "    self.name = name\n",
        "\n",
        "\n",
        "  def add_student(self):\n",
        "     University.count +=1\n",
        "     print(\"{} just joined the University\".format(self.name))\n",
        "\n",
        "\n",
        "\n",
        "  def delete_student(self):\n",
        "    University.count -= 1\n",
        "    print(\"{} has left the univeristy\".format(self.name))\n",
        "\n",
        "    if (University.count == 0):\n",
        "      print(\"no more student in University\")\n",
        "    else:\n",
        "      print(\"there are {:d} student remaining\".format(University.count))\n",
        "\n",
        "\n",
        "  @classmethod\n",
        "  def population(cls):\n",
        "    print(\"Univeristy Board: Total students are {}\".format(cls.count))\n",
        "\n",
        "  @staticmethod\n",
        "  def stat():\n",
        "    print(\"I am static\")\n",
        "\n",
        "\n",
        "student1 = University(\"Krishna\")\n",
        "student1.add_student()\n",
        "student1.population()\n",
        "student2 = University(\"Madhav\")\n",
        "student2.add_student()\n",
        "student2.population()\n",
        "student3 = University(\"Parimal\")\n",
        "student3.add_student()\n",
        "student3.population()\n",
        "student3.stat()\n",
        "\n",
        "student1.delete_student()\n",
        "student2.delete_student()\n",
        "student3.delete_student()\n",
        "student3.population()\n",
        "\n",
        ""
      ],
      "metadata": {
        "colab": {
          "base_uri": "https://localhost:8080/"
        },
        "id": "AnC3ZwZ_1979",
        "outputId": "be774c16-d645-4641-cded-b997fabd4f35"
      },
      "execution_count": null,
      "outputs": [
        {
          "output_type": "stream",
          "name": "stdout",
          "text": [
            "Krishna just joined the University\n",
            "Univeristy Board: Total students are 1\n",
            "Madhav just joined the University\n",
            "Univeristy Board: Total students are 2\n",
            "Parimal just joined the University\n",
            "Univeristy Board: Total students are 3\n",
            "I am static\n",
            "Krishna has left the univeristy\n",
            "there are 2 student remaining\n",
            "Madhav has left the univeristy\n",
            "there are 1 student remaining\n",
            "Parimal has left the univeristy\n",
            "no more student in University\n",
            "Univeristy Board: Total students are 0\n"
          ]
        }
      ]
    },
    {
      "cell_type": "markdown",
      "source": [
        "# 3.Abstract Method:\n",
        "#  Using different Toys names."
      ],
      "metadata": {
        "id": "FGbtECf91-eC"
      }
    },
    {
      "cell_type": "code",
      "source": [
        "#Using Concrete method and abstract method in this program\n",
        "from typing import Collection\n",
        "from abc import ABC,abstractmethod\n",
        "\n",
        "class Toys(ABC):\n",
        "    # abstract method\n",
        "  def players_allowed(self):\n",
        "      pass\n",
        "\n",
        "  def min_age(self):\n",
        "    #concrete method\n",
        "    print(\"Minimum playing age is 3,\",end=\" \")\n",
        "\n",
        "class Ludo(Toys):\n",
        "  def players_allowed(self):\n",
        "    print(\"four members allowed in ludo\")\n",
        "  def min_age(self):\n",
        "    super().min_age()\n",
        "    print( \"for Ludo.\")\n",
        "\n",
        "class Chess(Toys):\n",
        "  def players_allowed(self):\n",
        "    print(\"two members allowed in chess \")\n",
        "  def min_age(self):\n",
        "    super().min_age()\n",
        "    print( \"for Chess.\")\n",
        "\n",
        "class SnakesLadder(Toys):\n",
        "  def players_allowed(self):\n",
        "    print(\"four members allowed in snakes and ladder\")\n",
        "  def min_age(self):\n",
        "    super().min_age()\n",
        "    print(\"for Snakes and ladder\")\n",
        "\n",
        "L = Ludo()\n",
        "C = Chess()\n",
        "SL = SnakesLadder()\n",
        "\n",
        "L.players_allowed()\n",
        "C.players_allowed()\n",
        "SL.players_allowed()\n",
        "L.min_age()\n",
        "C.min_age()\n",
        "SL.min_age()\n",
        "\n",
        ""
      ],
      "metadata": {
        "colab": {
          "base_uri": "https://localhost:8080/"
        },
        "id": "fuCI43wg2Daa",
        "outputId": "06a5a0f7-281f-4b71-c260-723af77a2073"
      },
      "execution_count": null,
      "outputs": [
        {
          "output_type": "stream",
          "name": "stdout",
          "text": [
            "four members allowed in ludo\n",
            "two members allowed in chess \n",
            "four members allowed in snakes and ladder\n",
            "Minimum playing age is 3, for Ludo.\n",
            "Minimum playing age is 3, for Chess.\n",
            "Minimum playing age is 3, for Snakes and ladder\n"
          ]
        }
      ]
    }
  ]
}