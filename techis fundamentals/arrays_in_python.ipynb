{
  "nbformat": 4,
  "nbformat_minor": 0,
  "metadata": {
    "colab": {
      "provenance": []
    },
    "kernelspec": {
      "name": "python3",
      "display_name": "Python 3"
    },
    "language_info": {
      "name": "python"
    }
  },
  "cells": [
    {
      "cell_type": "code",
      "execution_count": null,
      "metadata": {
        "colab": {
          "base_uri": "https://localhost:8080/"
        },
        "id": "BNA5SrYOSjuc",
        "outputId": "c48771fb-684a-4394-af33-d5259f904b95"
      },
      "outputs": [
        {
          "output_type": "stream",
          "name": "stdout",
          "text": [
            "1 2 3 \n",
            "2.5 3.2 3.3 "
          ]
        }
      ],
      "source": [
        "import array as arr\n",
        "a = arr.array('i',[1,2,3])    #i for integer\n",
        "\n",
        "for i in range(0,3):\n",
        "  print(a[i], end=\" \")\n",
        "\n",
        "print()\n",
        "\n",
        "b= arr.array('d',[2.5,3.2,3.3])    #d for float\n",
        "\n",
        "for i in range(0,3):\n",
        "  print(b[i],end=\" \")"
      ]
    },
    {
      "cell_type": "code",
      "source": [
        "import array as arr\n",
        "\n",
        "a = arr.array('i',[1,2,3])\n",
        "for i in range(0,3):\n",
        "  print(a[i],end=\" \")\n",
        "print()\n",
        "\n",
        "a.insert(0,4)  # first index, second value\n",
        "\n",
        "\n",
        "\n",
        "for i in range(0,4):\n",
        "  print(a[i],end=\" \")\n",
        "print()\n",
        "\n",
        "\n",
        "a.append(10)    #adding 10 at the last of array\n",
        "\n",
        "\n",
        "for i in range(0,5):\n",
        "  print(a[i],end=\" \")\n",
        "print()"
      ],
      "metadata": {
        "colab": {
          "base_uri": "https://localhost:8080/"
        },
        "id": "zZri7ap1WUi6",
        "outputId": "41e0e477-a9f7-4669-9137-01fed574b172"
      },
      "execution_count": null,
      "outputs": [
        {
          "output_type": "stream",
          "name": "stdout",
          "text": [
            "1 2 3 \n",
            "4 1 2 3 \n",
            "4 1 2 3 10 \n"
          ]
        }
      ]
    },
    {
      "cell_type": "code",
      "source": [
        "import array\n",
        "\n",
        "arr= array.array('i',[1,2,3,4])\n",
        "\n",
        "for i in range(0,4):\n",
        "  print(arr[i],end=\" \")\n"
      ],
      "metadata": {
        "id": "Mq64yXdyX_0n",
        "colab": {
          "base_uri": "https://localhost:8080/"
        },
        "outputId": "2d5d88c4-1671-4db8-d7ae-c864ec545c1a"
      },
      "execution_count": null,
      "outputs": [
        {
          "output_type": "stream",
          "name": "stdout",
          "text": [
            "1 2 3 4 r\n"
          ]
        }
      ]
    },
    {
      "cell_type": "markdown",
      "source": [
        "Note: If we are inserting element in the first index the O(n) because all the elements of the array will have to shift. In case of inserting after the last element O(1) it won't affect the whole array."
      ],
      "metadata": {
        "id": "K_3z23janoWj"
      }
    },
    {
      "cell_type": "markdown",
      "source": [
        "Time complexity for removing elements is same for insertiion."
      ],
      "metadata": {
        "id": "bQVDLEmkrzvG"
      }
    },
    {
      "cell_type": "code",
      "source": [
        "#accessing elements from the Array\n",
        "\n",
        "import array as arr\n",
        "\n",
        "a= arr.array('i',[1,2,3,4,5,6])\n",
        "\n",
        "print(\"array is:\",end=\" \")\n",
        "for i in range(0,len(a)):\n",
        "  print(a[i],end=\" \")\n",
        "\n",
        "print()\n",
        "print(\"accessing elements:\")\n",
        "print(a[0])\n",
        "print(a[1])\n",
        "\n",
        "print(\"removing elements:\")\n",
        "a.pop(2)   #removes element by index position\n",
        "\n",
        "a.remove(1)  #removes first occurence of element by indentification\n",
        "\n",
        "print(\"The array after removing elements is:\", end=\" \")\n",
        "\n",
        "print(\"array is:\",end=\" \")\n",
        "for i in range(0,len(a)):\n",
        "  print(a[i],end=\" \")\n",
        "\n"
      ],
      "metadata": {
        "colab": {
          "base_uri": "https://localhost:8080/"
        },
        "id": "hI8moSB3nFIl",
        "outputId": "7c72b74b-85f3-456c-b09c-f1a55ad288a5"
      },
      "execution_count": null,
      "outputs": [
        {
          "output_type": "stream",
          "name": "stdout",
          "text": [
            "array is: 1 2 3 4 5 6 \n",
            "accessing elements:\n",
            "1\n",
            "2\n",
            "removing elements:\n",
            "The array after removing is: array is: 2 4 5 6 "
          ]
        }
      ]
    },
    {
      "cell_type": "code",
      "source": [
        "import array as arr\n",
        "\n",
        "l = [1,2,3,4,5,6,7,8,9,10]\n",
        "\n",
        "#here we are creating a list and converting to the arrays.\n",
        "\n",
        "a= arr.array('i',l)\n",
        "\n",
        "print(\"array is:\")\n",
        "\n",
        "for i in a:\n",
        "  print(i,end=\" \")\n",
        "\n",
        "\n",
        "sliced_array = a[3:8]\n",
        "print(\"\\nSlicing elements in a range 3-8:\")\n",
        "print(sliced_array)\n",
        "\n",
        "\n",
        "#using index to search array\n",
        "\n",
        "print(\"index of element 2 is:\",end = ' ')\n",
        "print(a.index(2))\n",
        "\n",
        "print(\"index of element 1 is:\",end=' ')\n",
        "print(a.index(1))\n",
        "\n",
        "print(\"index of element 4 is:\",end=' ')\n",
        "print(a.index(4))"
      ],
      "metadata": {
        "colab": {
          "base_uri": "https://localhost:8080/"
        },
        "id": "C2g-YuNKpp5t",
        "outputId": "20f4e825-e4fb-45f7-d1f1-8eb50cf593f3"
      },
      "execution_count": null,
      "outputs": [
        {
          "output_type": "stream",
          "name": "stdout",
          "text": [
            "array is:\n",
            "1 2 3 4 5 6 7 8 9 10 \n",
            "Slicing elements in a range 3-8:\n",
            "array('i', [4, 5, 6, 7, 8])\n",
            "index of element 2 is: 1\n",
            "index of element1 is: 0\n",
            "index of element4 is: 3\n"
          ]
        }
      ]
    },
    {
      "cell_type": "code",
      "source": [],
      "metadata": {
        "id": "cHNndZid0RwI"
      },
      "execution_count": null,
      "outputs": []
    },
    {
      "cell_type": "code",
      "source": [
        "def simple():\n",
        "  yield 1\n",
        "  yield 2\n",
        "  yield 3\n",
        "\n",
        "for i in simple():\n",
        "  print(i)\n",
        "\n",
        "x = simple()\n",
        "print(next(x))"
      ],
      "metadata": {
        "colab": {
          "base_uri": "https://localhost:8080/"
        },
        "id": "gXzn05CYz5IY",
        "outputId": "ea12b064-440c-495c-8e0f-1927a0967835"
      },
      "execution_count": null,
      "outputs": [
        {
          "output_type": "stream",
          "name": "stdout",
          "text": [
            "1\n",
            "2\n",
            "3\n",
            "1\n"
          ]
        }
      ]
    },
    {
      "cell_type": "code",
      "source": [
        "print(next(x)) #after 3 it will give error because there is no\n",
        "# generator object after 3"
      ],
      "metadata": {
        "colab": {
          "base_uri": "https://localhost:8080/",
          "height": 222
        },
        "id": "tbCNaxLx0tI-",
        "outputId": "80808e5f-e25d-4743-f70f-56b76790045d"
      },
      "execution_count": null,
      "outputs": [
        {
          "output_type": "error",
          "ename": "StopIteration",
          "evalue": "ignored",
          "traceback": [
            "\u001b[0;31m---------------------------------------------------------------------------\u001b[0m",
            "\u001b[0;31mStopIteration\u001b[0m                             Traceback (most recent call last)",
            "\u001b[0;32m<ipython-input-22-9fa2bd96e2f6>\u001b[0m in \u001b[0;36m<module>\u001b[0;34m()\u001b[0m\n\u001b[0;32m----> 1\u001b[0;31m \u001b[0mprint\u001b[0m\u001b[0;34m(\u001b[0m\u001b[0mnext\u001b[0m\u001b[0;34m(\u001b[0m\u001b[0mx\u001b[0m\u001b[0;34m)\u001b[0m\u001b[0;34m)\u001b[0m \u001b[0;31m#after 3 it will give error because there is no object\u001b[0m\u001b[0;34m\u001b[0m\u001b[0;34m\u001b[0m\u001b[0m\n\u001b[0m",
            "\u001b[0;31mStopIteration\u001b[0m: "
          ]
        }
      ]
    },
    {
      "cell_type": "code",
      "source": [
        "import greet_py as po"
      ],
      "metadata": {
        "id": "VKQfOZ6R4dnK"
      },
      "execution_count": null,
      "outputs": []
    },
    {
      "cell_type": "code",
      "source": [
        "po.greetings(\"k\")"
      ],
      "metadata": {
        "colab": {
          "base_uri": "https://localhost:8080/"
        },
        "id": "gFqwaiZ45Yzq",
        "outputId": "8d0cd423-be9b-41f6-de0f-1608cc60ff87"
      },
      "execution_count": null,
      "outputs": [
        {
          "output_type": "stream",
          "name": "stdout",
          "text": [
            "hi k\n"
          ]
        }
      ]
    },
    {
      "cell_type": "code",
      "source": [
        "po.printbb(\"k\")"
      ],
      "metadata": {
        "id": "O95dwfat508c",
        "outputId": "43c46038-2d37-4663-978d-75e094cdee3d",
        "colab": {
          "base_uri": "https://localhost:8080/"
        }
      },
      "execution_count": null,
      "outputs": [
        {
          "output_type": "stream",
          "name": "stdout",
          "text": [
            "bye k\n"
          ]
        }
      ]
    },
    {
      "cell_type": "code",
      "source": [
        "c=\"afs\"\n",
        "print(\"hi\"+c)"
      ],
      "metadata": {
        "colab": {
          "base_uri": "https://localhost:8080/"
        },
        "id": "G5oQhEZPi5aT",
        "outputId": "06683f45-3b15-4f21-d80c-039d1650bcec"
      },
      "execution_count": null,
      "outputs": [
        {
          "output_type": "stream",
          "name": "stdout",
          "text": [
            "hiafs\n"
          ]
        }
      ]
    },
    {
      "cell_type": "code",
      "source": [
        "def sum(a,b):\n",
        "  print(a+b)\n",
        "\n",
        "\n",
        "\n",
        "def sub(d):\n",
        "  c = sum(4,5)\n",
        "  return c-d\n",
        "\n",
        "sub(3)\n",
        "\n",
        "\n",
        "\n",
        "\n",
        "\n",
        "\n",
        "\n",
        "\n",
        "\n"
      ],
      "metadata": {
        "colab": {
          "base_uri": "https://localhost:8080/",
          "height": 374
        },
        "id": "PhT0wxNVl7ff",
        "outputId": "0522f1fa-81d5-4612-e1c3-1369a37a53a9"
      },
      "execution_count": null,
      "outputs": [
        {
          "output_type": "stream",
          "name": "stdout",
          "text": [
            "9\n"
          ]
        },
        {
          "output_type": "error",
          "ename": "TypeError",
          "evalue": "ignored",
          "traceback": [
            "\u001b[0;31m---------------------------------------------------------------------------\u001b[0m",
            "\u001b[0;31mTypeError\u001b[0m                                 Traceback (most recent call last)",
            "\u001b[0;32m<ipython-input-41-127217875d11>\u001b[0m in \u001b[0;36m<module>\u001b[0;34m\u001b[0m\n\u001b[1;32m      8\u001b[0m   \u001b[0;32mreturn\u001b[0m \u001b[0mc\u001b[0m\u001b[0;34m-\u001b[0m\u001b[0md\u001b[0m\u001b[0;34m\u001b[0m\u001b[0;34m\u001b[0m\u001b[0m\n\u001b[1;32m      9\u001b[0m \u001b[0;34m\u001b[0m\u001b[0m\n\u001b[0;32m---> 10\u001b[0;31m \u001b[0msub\u001b[0m\u001b[0;34m(\u001b[0m\u001b[0;36m3\u001b[0m\u001b[0;34m)\u001b[0m\u001b[0;34m\u001b[0m\u001b[0;34m\u001b[0m\u001b[0m\n\u001b[0m\u001b[1;32m     11\u001b[0m \u001b[0;34m\u001b[0m\u001b[0m\n\u001b[1;32m     12\u001b[0m \u001b[0;34m\u001b[0m\u001b[0m\n",
            "\u001b[0;32m<ipython-input-41-127217875d11>\u001b[0m in \u001b[0;36msub\u001b[0;34m(d)\u001b[0m\n\u001b[1;32m      6\u001b[0m \u001b[0;32mdef\u001b[0m \u001b[0msub\u001b[0m\u001b[0;34m(\u001b[0m\u001b[0md\u001b[0m\u001b[0;34m)\u001b[0m\u001b[0;34m:\u001b[0m\u001b[0;34m\u001b[0m\u001b[0;34m\u001b[0m\u001b[0m\n\u001b[1;32m      7\u001b[0m   \u001b[0mc\u001b[0m \u001b[0;34m=\u001b[0m \u001b[0msum\u001b[0m\u001b[0;34m(\u001b[0m\u001b[0;36m4\u001b[0m\u001b[0;34m,\u001b[0m\u001b[0;36m5\u001b[0m\u001b[0;34m)\u001b[0m\u001b[0;34m\u001b[0m\u001b[0;34m\u001b[0m\u001b[0m\n\u001b[0;32m----> 8\u001b[0;31m   \u001b[0;32mreturn\u001b[0m \u001b[0mc\u001b[0m\u001b[0;34m-\u001b[0m\u001b[0md\u001b[0m\u001b[0;34m\u001b[0m\u001b[0;34m\u001b[0m\u001b[0m\n\u001b[0m\u001b[1;32m      9\u001b[0m \u001b[0;34m\u001b[0m\u001b[0m\n\u001b[1;32m     10\u001b[0m \u001b[0msub\u001b[0m\u001b[0;34m(\u001b[0m\u001b[0;36m3\u001b[0m\u001b[0;34m)\u001b[0m\u001b[0;34m\u001b[0m\u001b[0;34m\u001b[0m\u001b[0m\n",
            "\u001b[0;31mTypeError\u001b[0m: unsupported operand type(s) for -: 'NoneType' and 'int'"
          ]
        }
      ]
    },
    {
      "cell_type": "code",
      "source": [],
      "metadata": {
        "id": "qoeaoy2mp6kB"
      },
      "execution_count": null,
      "outputs": []
    }
  ]
}