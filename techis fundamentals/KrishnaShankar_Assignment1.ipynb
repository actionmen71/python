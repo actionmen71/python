{
  "cells": [
    {
      "cell_type": "markdown",
      "metadata": {
        "id": "1Szc6YiDKxaN"
      },
      "source": [
        "# **1. A Simple Calculator**"
      ]
    },
    {
      "cell_type": "code",
      "execution_count": null,
      "metadata": {
        "colab": {
          "base_uri": "https://localhost:8080/"
        },
        "id": "6yRowAc5KsGN",
        "outputId": "0dedd479-528c-443d-97ac-6c8a512a466f"
      },
      "outputs": [
        {
          "name": "stdout",
          "output_type": "stream",
          "text": [
            "Enter the first no:3\n",
            "Enter the second no:2\n",
            "Enter the operation: 1. for addition 2.for subtraction 3. for multiplication 4. for division1\n",
            "The addition of  3.0 and 2.0 is: 5.0\n",
            "Another Calculation? (yes/no)no\n"
          ]
        }
      ],
      "source": [
        "\n",
        "while True:\n",
        "  first_num = float(input(\"Enter the first no:\"))\n",
        "  second_num = float(input(\"Enter the second no:\"))\n",
        "  operation = input(\"Enter the operation: 1. for addition 2.for subtraction 3. for multiplication 4. for division\")\n",
        "  if (operation != '1') and (operation != '2') and (operation !='3') and (operation !='4'):\n",
        "    print(\"invalid operation! Please try again!\")\n",
        "  elif( operation == '2'):\n",
        "      print(\"The subtraction of \",first_num,'and',second_num,\"is:\",first_num-second_num)\n",
        "  elif( operation == '3'):\n",
        "    print(\"The multiplication of \",first_num,'and',second_num,\"is:\",first_num*second_num)\n",
        "  elif( operation == '4'):\n",
        "    print(\"The division of \",first_num,'and',second_num,\"is:\",first_num/second_num)\n",
        "  else:\n",
        "    print(\"The addition of \",first_num,'and',second_num,\"is:\",first_num+second_num)\n",
        "  next_calculation = input(\"Another Calculation? (yes/no)\")\n",
        "  if next_calculation == 'no':\n",
        "      break\n",
        "else:\n",
        "  print(\"Invalid input\")\n"
      ]
    },
    {
      "cell_type": "markdown",
      "metadata": {
        "id": "-tDEmW-7K6Jn"
      },
      "source": [
        "# 2. **Write a program to find Area of Rectangle & Circle.**  "
      ]
    },
    {
      "cell_type": "code",
      "execution_count": null,
      "metadata": {
        "colab": {
          "base_uri": "https://localhost:8080/"
        },
        "id": "Ht_Udrc3LNn7",
        "outputId": "61deb70f-dbe1-4b00-962b-4628c9523403"
      },
      "outputs": [
        {
          "name": "stdout",
          "output_type": "stream",
          "text": [
            "Enter the lenght of Rectangle in m:5\n",
            "Enter the breadth of Rectangle in m:4\n",
            "Enter the radius of Circle in m:6\n",
            "The are of rectangle is 20.0 sqm and the area of circle is 113.04 sqm\n"
          ]
        }
      ],
      "source": [
        "pi = 3.14\n",
        "length_rectangle = float(input(\"Enter the lenght of Rectangle in m:\"))\n",
        "breadth_rectangle = float(input(\"Enter the breadth of Rectangle in m:\"))\n",
        "area_rectangle = length_rectangle * breadth_rectangle\n",
        "radius_circle = float(input(\"Enter the radius of Circle in m:\"))\n",
        "area_circle = pi*(radius_circle ** 2)\n",
        "print (\"The are of rectangle is\",area_rectangle,\"sqm and the area of circle is\",area_circle,\"sqm\")\n"
      ]
    },
    {
      "cell_type": "markdown",
      "metadata": {
        "id": "yn_VhhkDDL9r"
      },
      "source": [
        "# **3. Write a program to explain mutability in List and Tuple.**"
      ]
    },
    {
      "cell_type": "code",
      "execution_count": null,
      "metadata": {
        "id": "fIw8EgBGDQnZ"
      },
      "outputs": [],
      "source": [
        "# List\n",
        "my_list = [1,2,3,'one','two','three','four']\n",
        "\n",
        "# modifying a list\n",
        "my_list[0] = 5\n",
        "print(my_list)\n",
        "\n",
        "my_list[4] = 'seven'\n",
        "print(my_list)\n",
        "\n",
        "my_list.append('ten')\n",
        "print(my_list)\n",
        "\n",
        "my_list.remove('ten')\n",
        "print(my_list)\n",
        "\n",
        "# hence list is mutable\n",
        "\n",
        "\n",
        "# Tuple\n",
        "\n",
        "my_tuple = (1,2,3,'one','two','three','four')\n",
        "\n",
        "# modifying a tuple\n",
        "\n",
        "my_tuple[0] = 5\n",
        "print(my_tuple) #error\n",
        "\n",
        "\n",
        "my_tuple.append('ten')\n",
        "print(my_tuple) #error\n",
        "\n",
        "my_tuple.remove('two')\n",
        "print(my_tuple) #error\n",
        "\n",
        "\n",
        "#In all the above cases it throws error, so tuple is not mutable."
      ]
    },
    {
      "cell_type": "markdown",
      "metadata": {
        "id": "Kr571sdbFSlH"
      },
      "source": [
        "# **4. Write a program to make conversion from List to Tuple & Float to Integer & vice-versa.**"
      ]
    },
    {
      "cell_type": "code",
      "execution_count": null,
      "metadata": {
        "colab": {
          "base_uri": "https://localhost:8080/"
        },
        "id": "YHZS5EXEFWzr",
        "outputId": "7234059d-4ad7-4713-ad26-cc9d59eff0e1"
      },
      "outputs": [
        {
          "name": "stdout",
          "output_type": "stream",
          "text": [
            "[1, 2, 3, 'one', 'two', 'three']\n",
            "<class 'list'>\n",
            "(1, 2, 3, 'one', 'two', 'three')\n",
            "<class 'tuple'>\n",
            "3.0\n",
            "<class 'float'>\n",
            "3\n",
            "<class 'int'>\n",
            "3.0\n",
            "<class 'float'>\n"
          ]
        }
      ],
      "source": [
        "# creating a list\n",
        "my_list = [1,2,3,'one','two','three']\n",
        "print(my_list)\n",
        "print(type(my_list))\n",
        "\n",
        "# converting from list to tuple\n",
        "my_tuple = tuple(my_list)\n",
        "print(my_tuple)\n",
        "print(type(my_tuple))\n",
        "\n",
        "# Float to integer\n",
        "num = 3.0\n",
        "print(num)\n",
        "print(type(num))\n",
        "\n",
        "int_num = int(num)\n",
        "print(int_num)\n",
        "print(type(int_num))\n",
        "\n",
        "# integer to float\n",
        "fl_num = float(int_num)\n",
        "print(fl_num)\n",
        "print(type(fl_num))"
      ]
    }
  ],
  "metadata": {
    "colab": {
      "provenance": []
    },
    "kernelspec": {
      "display_name": "Python 3",
      "name": "python3"
    },
    "language_info": {
      "name": "python"
    }
  },
  "nbformat": 4,
  "nbformat_minor": 0
}