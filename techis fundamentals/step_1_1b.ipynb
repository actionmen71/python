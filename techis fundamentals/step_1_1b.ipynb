{
  "nbformat": 4,
  "nbformat_minor": 0,
  "metadata": {
    "colab": {
      "provenance": []
    },
    "kernelspec": {
      "name": "python3",
      "display_name": "Python 3"
    },
    "language_info": {
      "name": "python"
    }
  },
  "cells": [
    {
      "cell_type": "code",
      "execution_count": null,
      "metadata": {
        "colab": {
          "base_uri": "https://localhost:8080/"
        },
        "id": "bweS8oMfEzvG",
        "outputId": "3e07ee7a-9b9f-4bd4-b8e2-2de7d69efa7c"
      },
      "outputs": [
        {
          "output_type": "stream",
          "name": "stdout",
          "text": [
            "TECH I.S.\n"
          ]
        }
      ],
      "source": [
        "name_one = 'TECH I.S.'\n",
        "print(name_one)"
      ]
    },
    {
      "cell_type": "code",
      "source": [
        "name_two = \"TECH I.S.\"\n",
        "print(name_two)"
      ],
      "metadata": {
        "colab": {
          "base_uri": "https://localhost:8080/"
        },
        "id": "gQ3x0G7AFO8-",
        "outputId": "158ee4c3-9fbe-474f-964e-63756c5dbeb6"
      },
      "execution_count": null,
      "outputs": [
        {
          "output_type": "stream",
          "name": "stdout",
          "text": [
            "TECH I.S.\n"
          ]
        }
      ]
    },
    {
      "cell_type": "code",
      "source": [
        "name_three = ''' This is a long string and supports\n",
        "multiline statements as well'''\n",
        "print (name_three)"
      ],
      "metadata": {
        "colab": {
          "base_uri": "https://localhost:8080/"
        },
        "id": "fxCcWHVfFZUq",
        "outputId": "977d4435-bf20-4298-816a-ea0a54a93281"
      },
      "execution_count": null,
      "outputs": [
        {
          "output_type": "stream",
          "name": "stdout",
          "text": [
            " This is a long string and supports \n",
            "multiline statements as well\n"
          ]
        }
      ]
    },
    {
      "cell_type": "code",
      "source": [
        "name_four = 'Hello, \"TECH I.S. Student\"'\n",
        "print (name_four)"
      ],
      "metadata": {
        "colab": {
          "base_uri": "https://localhost:8080/"
        },
        "id": "J0bicll5Fsiy",
        "outputId": "24157eae-fd0f-48de-a944-c72befb086a8"
      },
      "execution_count": null,
      "outputs": [
        {
          "output_type": "stream",
          "name": "stdout",
          "text": [
            "Hello, \"TECH I.S. Student\"\n"
          ]
        }
      ]
    },
    {
      "cell_type": "code",
      "source": [
        "name_five = \"Hi, 'Single quote string here'\"\n",
        "print (name_five)"
      ],
      "metadata": {
        "colab": {
          "base_uri": "https://localhost:8080/"
        },
        "id": "qeKQAFqRGBfi",
        "outputId": "7376b96d-1094-48e7-f69e-d0eb84a24fd0"
      },
      "execution_count": null,
      "outputs": [
        {
          "output_type": "stream",
          "name": "stdout",
          "text": [
            "Hi, 'Single quote string here'\n"
          ]
        }
      ]
    },
    {
      "cell_type": "code",
      "source": [
        "first_name1 = \"Krishna\"\n",
        "last_name = \"Shankar\"\n",
        "print(first_name1,last_name)"
      ],
      "metadata": {
        "colab": {
          "base_uri": "https://localhost:8080/"
        },
        "id": "-ImSI1TpGJK2",
        "outputId": "c9e61861-f4d2-483d-bea0-523d8d702ede"
      },
      "execution_count": null,
      "outputs": [
        {
          "output_type": "stream",
          "name": "stdout",
          "text": [
            "Krishna Shankar\n"
          ]
        }
      ]
    },
    {
      "cell_type": "code",
      "source": [
        "# s = \"hello\"\n",
        "\n",
        "# s[0]= 'y'"
      ],
      "metadata": {
        "colab": {
          "base_uri": "https://localhost:8080/",
          "height": 200
        },
        "id": "L4vEZouNGlQW",
        "outputId": "b958f83f-5055-47c0-e339-63a552412e7b"
      },
      "execution_count": null,
      "outputs": [
        {
          "output_type": "error",
          "ename": "TypeError",
          "evalue": "ignored",
          "traceback": [
            "\u001b[0;31m---------------------------------------------------------------------------\u001b[0m",
            "\u001b[0;31mTypeError\u001b[0m                                 Traceback (most recent call last)",
            "\u001b[0;32m<ipython-input-7-3bfda6ad5fce>\u001b[0m in \u001b[0;36m<module>\u001b[0;34m()\u001b[0m\n\u001b[1;32m      1\u001b[0m \u001b[0ms\u001b[0m \u001b[0;34m=\u001b[0m \u001b[0;34m\"hello\"\u001b[0m\u001b[0;34m\u001b[0m\u001b[0;34m\u001b[0m\u001b[0m\n\u001b[1;32m      2\u001b[0m \u001b[0;34m\u001b[0m\u001b[0m\n\u001b[0;32m----> 3\u001b[0;31m \u001b[0ms\u001b[0m\u001b[0;34m[\u001b[0m\u001b[0;36m0\u001b[0m\u001b[0;34m]\u001b[0m\u001b[0;34m=\u001b[0m \u001b[0;34m'y'\u001b[0m\u001b[0;34m\u001b[0m\u001b[0;34m\u001b[0m\u001b[0m\n\u001b[0m",
            "\u001b[0;31mTypeError\u001b[0m: 'str' object does not support item assignment"
          ]
        }
      ]
    },
    {
      "cell_type": "code",
      "source": [
        "s = 'y' + s[1:len(s)]\n",
        "print(s)"
      ],
      "metadata": {
        "colab": {
          "base_uri": "https://localhost:8080/"
        },
        "id": "Z2QFFsdhG1Th",
        "outputId": "bfeee31b-2977-4e39-900b-703a3de9aaee"
      },
      "execution_count": null,
      "outputs": [
        {
          "output_type": "stream",
          "name": "stdout",
          "text": [
            "yello\n"
          ]
        }
      ]
    },
    {
      "cell_type": "code",
      "source": [
        "s = s[:]+'w'\n",
        "print(s)"
      ],
      "metadata": {
        "colab": {
          "base_uri": "https://localhost:8080/"
        },
        "id": "Iub2RhiaHO7O",
        "outputId": "3be1ec51-f5a3-4760-ca7d-7395230e8ebc"
      },
      "execution_count": null,
      "outputs": [
        {
          "output_type": "stream",
          "name": "stdout",
          "text": [
            "yellow\n"
          ]
        }
      ]
    },
    {
      "cell_type": "code",
      "source": [
        "first_name = \"TECH\"\n",
        "second_name = \"I.S.\"\n",
        "full_name = first_name + ' '+second_name\n",
        "print(full_name)"
      ],
      "metadata": {
        "colab": {
          "base_uri": "https://localhost:8080/"
        },
        "id": "n8T_RqCbHkjo",
        "outputId": "036a75c5-cc98-4ea1-9bf9-70e10184e956"
      },
      "execution_count": null,
      "outputs": [
        {
          "output_type": "stream",
          "name": "stdout",
          "text": [
            "TECH I.S.\n"
          ]
        }
      ]
    },
    {
      "cell_type": "code",
      "source": [
        "name = 'Hayato'\n",
        "print(name)\n",
        "name_thrice = name *3\n",
        "print(name_thrice)\n",
        "print(name *4)\n",
        "print (name *10)"
      ],
      "metadata": {
        "colab": {
          "base_uri": "https://localhost:8080/"
        },
        "id": "WJoRmrEqKGBv",
        "outputId": "8efbd503-897d-43c1-87cf-35040bd4fe89"
      },
      "execution_count": null,
      "outputs": [
        {
          "output_type": "stream",
          "name": "stdout",
          "text": [
            "Hayato\n",
            "HayatoHayatoHayato\n",
            "HayatoHayatoHayatoHayato\n",
            "HayatoHayatoHayatoHayatoHayatoHayatoHayatoHayatoHayatoHayato\n"
          ]
        }
      ]
    },
    {
      "cell_type": "code",
      "source": [
        "first_name = \"Krishna \"\n",
        "print(first_name*6)"
      ],
      "metadata": {
        "colab": {
          "base_uri": "https://localhost:8080/"
        },
        "id": "6kMV4I-IQBVT",
        "outputId": "a63d18a8-a610-4625-8741-0e6fad56cdcd"
      },
      "execution_count": null,
      "outputs": [
        {
          "output_type": "stream",
          "name": "stdout",
          "text": [
            "Krishna Krishna Krishna Krishna Krishna Krishna \n"
          ]
        }
      ]
    },
    {
      "cell_type": "code",
      "source": [
        "s = \"abc\"\n",
        "\n",
        "print(s[0])\n",
        "print(s[1])\n",
        "print(s[2])\n",
        "\n",
        "print(s[-1])\n",
        "print(s[-2])\n",
        "print(s[-3])\n",
        "\n",
        "print(s[3])#since there is no element at index 3"
      ],
      "metadata": {
        "colab": {
          "base_uri": "https://localhost:8080/",
          "height": 304
        },
        "id": "Wrr38lioQeS3",
        "outputId": "75080322-49ec-40bc-e668-225d9cd6c373"
      },
      "execution_count": null,
      "outputs": [
        {
          "output_type": "stream",
          "name": "stdout",
          "text": [
            "a\n",
            "b\n",
            "c\n",
            "c\n",
            "b\n",
            "a\n"
          ]
        },
        {
          "output_type": "error",
          "ename": "IndexError",
          "evalue": "ignored",
          "traceback": [
            "\u001b[0;31m---------------------------------------------------------------------------\u001b[0m",
            "\u001b[0;31mIndexError\u001b[0m                                Traceback (most recent call last)",
            "\u001b[0;32m<ipython-input-20-533fe8aa42ff>\u001b[0m in \u001b[0;36m<module>\u001b[0;34m()\u001b[0m\n\u001b[1;32m      9\u001b[0m \u001b[0mprint\u001b[0m\u001b[0;34m(\u001b[0m\u001b[0ms\u001b[0m\u001b[0;34m[\u001b[0m\u001b[0;34m-\u001b[0m\u001b[0;36m3\u001b[0m\u001b[0;34m]\u001b[0m\u001b[0;34m)\u001b[0m\u001b[0;34m\u001b[0m\u001b[0;34m\u001b[0m\u001b[0m\n\u001b[1;32m     10\u001b[0m \u001b[0;34m\u001b[0m\u001b[0m\n\u001b[0;32m---> 11\u001b[0;31m \u001b[0mprint\u001b[0m\u001b[0;34m(\u001b[0m\u001b[0ms\u001b[0m\u001b[0;34m[\u001b[0m\u001b[0;36m3\u001b[0m\u001b[0;34m]\u001b[0m\u001b[0;34m)\u001b[0m\u001b[0;34m\u001b[0m\u001b[0;34m\u001b[0m\u001b[0m\n\u001b[0m",
            "\u001b[0;31mIndexError\u001b[0m: string index out of range"
          ]
        }
      ]
    },
    {
      "cell_type": "markdown",
      "source": [
        "Exercise 5 or 6"
      ],
      "metadata": {
        "id": "VqvD_94kYm8e"
      }
    },
    {
      "cell_type": "code",
      "source": [
        "string1 = \"This is one sentence!\"\n",
        "print(string1[8])\n",
        "print(string1[8:11])\n",
        "list2 = list(string1)\n",
        "print(list2)\n",
        "list2.append(\"Almonds\")\n",
        "print(list2)\n",
        "list2.remove('Almonds')\n",
        "print(list2)\n"
      ],
      "metadata": {
        "colab": {
          "base_uri": "https://localhost:8080/"
        },
        "id": "p7hvAty0Revp",
        "outputId": "ce7dfba5-8e04-42cb-a682-585d7018ae3f"
      },
      "execution_count": null,
      "outputs": [
        {
          "output_type": "stream",
          "name": "stdout",
          "text": [
            "o\n",
            "one\n",
            "['T', 'h', 'i', 's', ' ', 'i', 's', ' ', 'o', 'n', 'e', ' ', 's', 'e', 'n', 't', 'e', 'n', 'c', 'e', '!']\n",
            "['T', 'h', 'i', 's', ' ', 'i', 's', ' ', 'o', 'n', 'e', ' ', 's', 'e', 'n', 't', 'e', 'n', 'c', 'e', '!', 'Almonds']\n",
            "['T', 'h', 'i', 's', ' ', 'i', 's', ' ', 'o', 'n', 'e', ' ', 's', 'e', 'n', 't', 'e', 'n', 'c', 'e', '!']\n"
          ]
        }
      ]
    },
    {
      "cell_type": "code",
      "source": [
        "s= 'abcdefgh'\n",
        "print(s[3:6])\n",
        "print(s[3:6:1])\n",
        "print(s[3:6:2])\n",
        "print(s[::])\n",
        "print(s[::-1])\n",
        "print(s[4:0:-3])"
      ],
      "metadata": {
        "colab": {
          "base_uri": "https://localhost:8080/"
        },
        "id": "QgtQVeQ6T1oc",
        "outputId": "904173da-ab84-46b1-eb16-c7e43538a65e"
      },
      "execution_count": null,
      "outputs": [
        {
          "output_type": "stream",
          "name": "stdout",
          "text": [
            "def\n",
            "def\n",
            "df\n",
            "abcdefgh\n",
            "hgfedcba\n",
            "eb\n"
          ]
        }
      ]
    },
    {
      "cell_type": "markdown",
      "source": [
        "**Lists**\n",
        "\n"
      ],
      "metadata": {
        "id": "cMVQ-WWvZTe5"
      }
    },
    {
      "cell_type": "code",
      "source": [
        "new_list = [3,7,20,'@','TECH I.S.','makes learning fun!']\n",
        "\n",
        "# print(new_list)\n",
        "# print(new_list[0])\n",
        "# print(new_list[2])\n",
        "# print(new_list[3])\n",
        "# print(new_list[4])\n",
        "\n",
        "print(new_list[-1])\n",
        "print(new_list[-2])\n",
        "print(new_list[-3])"
      ],
      "metadata": {
        "colab": {
          "base_uri": "https://localhost:8080/"
        },
        "id": "kE2eh12dWTJF",
        "outputId": "e8ba5dbd-3728-4c2e-b254-d258ec41a377"
      },
      "execution_count": null,
      "outputs": [
        {
          "output_type": "stream",
          "name": "stdout",
          "text": [
            "makes learning fun!\n",
            "TECH I.S.\n",
            "@\n"
          ]
        }
      ]
    },
    {
      "cell_type": "code",
      "source": [
        "grocery = ['Milk','Banana','eggs','sugar']\n",
        "print(grocery)\n",
        "print(grocery[1])\n",
        "grocery.pop(2)\n",
        "print(grocery)"
      ],
      "metadata": {
        "colab": {
          "base_uri": "https://localhost:8080/"
        },
        "id": "pJQ3PWi3Zvrv",
        "outputId": "8cd5731c-4a20-4756-9384-e6d80690a679"
      },
      "execution_count": null,
      "outputs": [
        {
          "output_type": "stream",
          "name": "stdout",
          "text": [
            "['Milk', 'Banana', 'eggs', 'sugar']\n",
            "Banana\n",
            "['Milk', 'Banana', 'sugar']\n"
          ]
        }
      ]
    },
    {
      "cell_type": "code",
      "source": [
        "nested_list = [[1,2,3],['a','b','c'],[True,False,7]]\n",
        "print(nested_list)"
      ],
      "metadata": {
        "colab": {
          "base_uri": "https://localhost:8080/"
        },
        "id": "6-ebR1XRaIrp",
        "outputId": "440ee61b-9d3f-484f-b6c2-012edb588575"
      },
      "execution_count": null,
      "outputs": [
        {
          "output_type": "stream",
          "name": "stdout",
          "text": [
            "[[1, 2, 3], ['a', 'b', 'c'], [True, False, 7]]\n"
          ]
        }
      ]
    },
    {
      "cell_type": "code",
      "source": [
        "mylist = [['tiger','elephant','cow','dog'],['blue','black','red'],['gasoline','island']]\n",
        "print(mylist)"
      ],
      "metadata": {
        "colab": {
          "base_uri": "https://localhost:8080/"
        },
        "id": "SFus-eSAcu5D",
        "outputId": "30911867-0b4b-459c-b822-50a83dcdcf68"
      },
      "execution_count": null,
      "outputs": [
        {
          "output_type": "stream",
          "name": "stdout",
          "text": [
            "[['tiger', 'elephant', 'cow', 'dog'], ['blue', 'black', 'red'], ['gasoline', 'island']]\n"
          ]
        }
      ]
    },
    {
      "cell_type": "code",
      "source": [
        "new_list1 = [3,7,20,'@','TECH I.S.','makes learning fun!']\n",
        "print(new_list1)\n",
        "new_list1[2]='one'\n",
        "print(new_list1)\n",
        "new_list1.append('wohoo!')\n",
        "print(new_list1)\n",
        "new_list1.extend([\"let's\",\"do\",\"this\"])\n",
        "print(new_list1)\n",
        "new_list1.remove(7)\n",
        "\n",
        "print(new_list1)"
      ],
      "metadata": {
        "colab": {
          "base_uri": "https://localhost:8080/"
        },
        "id": "YanBCMeidYGT",
        "outputId": "ad648321-24ed-4c28-fe92-c8d330446878"
      },
      "execution_count": null,
      "outputs": [
        {
          "output_type": "stream",
          "name": "stdout",
          "text": [
            "[3, 7, 20, '@', 'TECH I.S.', 'makes learning fun!']\n",
            "[3, 7, 'one', '@', 'TECH I.S.', 'makes learning fun!']\n",
            "[3, 7, 'one', '@', 'TECH I.S.', 'makes learning fun!', 'wohoo!']\n",
            "[3, 7, 'one', '@', 'TECH I.S.', 'makes learning fun!', 'wohoo!', \"let's\", 'do', 'this']\n",
            "[3, 'one', '@', 'TECH I.S.', 'makes learning fun!', 'wohoo!', \"let's\", 'do', 'this']\n"
          ]
        }
      ]
    },
    {
      "cell_type": "markdown",
      "source": [
        "Here in append function we put only the value.\n",
        "In extend function, we use list to add multiple values."
      ],
      "metadata": {
        "id": "SPiMJM1LfR0W"
      }
    },
    {
      "cell_type": "code",
      "source": [
        "new_list = [3,7,20,'@','TECH I.S.', 'makes learning fun!']\n",
        "print(new_list)\n",
        "new_list.pop(2)\n",
        "print(new_list)"
      ],
      "metadata": {
        "colab": {
          "base_uri": "https://localhost:8080/"
        },
        "id": "n1PSbkoqfhEB",
        "outputId": "f89dd72a-5b25-40af-be0b-beb48a34aeb2"
      },
      "execution_count": null,
      "outputs": [
        {
          "output_type": "stream",
          "name": "stdout",
          "text": [
            "[3, 7, 20, '@', 'TECH I.S.', 'makes learning fun!']\n",
            "[3, 7, '@', 'TECH I.S.', 'makes learning fun!']\n"
          ]
        }
      ]
    },
    {
      "cell_type": "code",
      "source": [
        "new_list = [3,7,20,'@','TECH I.S.','makes learning fun!']\n",
        "\n",
        "print(new_list[:4])\n",
        "print(new_list[2:])\n",
        "print(new_list[1:5])\n",
        "print(new_list[:])"
      ],
      "metadata": {
        "colab": {
          "base_uri": "https://localhost:8080/"
        },
        "id": "o7lDQlQqBsrY",
        "outputId": "ea20c390-f9da-47f1-f5be-819e7deca46a"
      },
      "execution_count": null,
      "outputs": [
        {
          "output_type": "stream",
          "name": "stdout",
          "text": [
            "[3, 7, 20, '@']\n",
            "[20, '@', 'TECH I.S.', 'makes learning fun!']\n",
            "[7, 20, '@', 'TECH I.S.']\n",
            "[3, 7, 20, '@', 'TECH I.S.', 'makes learning fun!']\n"
          ]
        }
      ]
    },
    {
      "cell_type": "markdown",
      "source": [
        "Reversing a list"
      ],
      "metadata": {
        "id": "0YUt_McAC5wt"
      }
    },
    {
      "cell_type": "code",
      "source": [
        "new_list = [3,7,20,'@','TECH I.S.','makes learning fun!']\n",
        "\n",
        "print(new_list[::-1])\n",
        "print(new_list)\n",
        "\n",
        "new_list.reverse()\n",
        "print(new_list)\n",
        "\n"
      ],
      "metadata": {
        "colab": {
          "base_uri": "https://localhost:8080/"
        },
        "id": "XBOS1txOCoiq",
        "outputId": "56b3f22a-8f4e-4fd1-e7be-1da8bdeec2df"
      },
      "execution_count": null,
      "outputs": [
        {
          "output_type": "stream",
          "name": "stdout",
          "text": [
            "['makes learning fun!', 'TECH I.S.', '@', 20, 7, 3]\n",
            "[3, 7, 20, '@', 'TECH I.S.', 'makes learning fun!']\n",
            "['makes learning fun!', 'TECH I.S.', '@', 20, 7, 3]\n"
          ]
        }
      ]
    },
    {
      "cell_type": "code",
      "source": [
        "new_list = [3,7,20,'@','TECH I.S.','makes learning fun!']\n",
        "len(new_list)\n"
      ],
      "metadata": {
        "colab": {
          "base_uri": "https://localhost:8080/"
        },
        "id": "3ousA4BF0ivm",
        "outputId": "215346ec-b45e-46d8-99d5-7fa449a14115"
      },
      "execution_count": null,
      "outputs": [
        {
          "output_type": "execute_result",
          "data": {
            "text/plain": [
              "6"
            ]
          },
          "metadata": {},
          "execution_count": 5
        }
      ]
    },
    {
      "cell_type": "code",
      "source": [
        "new_list = [3,7,20,'@','TECH I.S.','makes learning fun!']\n",
        "print(new_list *3)\n"
      ],
      "metadata": {
        "colab": {
          "base_uri": "https://localhost:8080/"
        },
        "id": "JmSPogYc2JzC",
        "outputId": "08aabd0a-7a33-4191-a39c-17f69e0e9495"
      },
      "execution_count": null,
      "outputs": [
        {
          "output_type": "stream",
          "name": "stdout",
          "text": [
            "[3, 7, 20, '@', 'TECH I.S.', 'makes learning fun!', 3, 7, 20, '@', 'TECH I.S.', 'makes learning fun!', 3, 7, 20, '@', 'TECH I.S.', 'makes learning fun!']\n"
          ]
        }
      ]
    },
    {
      "cell_type": "code",
      "source": [
        "list1 = [8,12,43,222,52,24,12]\n",
        "list2 = ['apple','banana','pears','z']\n",
        "\n",
        "\n",
        "print(min(list1))\n",
        "print(max(list1))\n",
        "print(min(list2))\n",
        "print(max(list2))\n",
        "print(len(list1))\n",
        "print(list1.count(12))"
      ],
      "metadata": {
        "colab": {
          "base_uri": "https://localhost:8080/"
        },
        "id": "6p1NGgWw1Cql",
        "outputId": "8f762560-850a-4794-8844-0139368d3972"
      },
      "execution_count": null,
      "outputs": [
        {
          "output_type": "stream",
          "name": "stdout",
          "text": [
            "8\n",
            "222\n",
            "apple\n",
            "z\n",
            "7\n",
            "2\n"
          ]
        }
      ]
    },
    {
      "cell_type": "code",
      "source": [
        "new_list = [3,7,20,'@','TECH I.S.','makes learning fun!']\n",
        "\n",
        "print(new_list.index('TECH I.S.')) #show index of the value\n",
        "\n",
        "# print(new_list.index('@',4,5))      here @ is not in the range of 4 to 5 so its showing error\n",
        "print(new_list.index('@',1,4))"
      ],
      "metadata": {
        "colab": {
          "base_uri": "https://localhost:8080/"
        },
        "id": "PJJFD6QJ2Sa6",
        "outputId": "4ca7163c-e3c6-442c-e177-6c1ab80d2555"
      },
      "execution_count": null,
      "outputs": [
        {
          "output_type": "stream",
          "name": "stdout",
          "text": [
            "4\n",
            "3\n"
          ]
        }
      ]
    },
    {
      "cell_type": "code",
      "source": [
        "new_list = [4,2,6,5,0,1]\n",
        "\n",
        "print(new_list)\n",
        "\n",
        "new_list.sort()\n",
        "\n",
        "print(new_list)\n",
        "\n",
        "# my_tuple = (3,1,5,7,2,0)\n",
        "# print(my_tuple)\n",
        "\n",
        "# my_tuple.sort()\n",
        "# print(my_tuple)"
      ],
      "metadata": {
        "colab": {
          "base_uri": "https://localhost:8080/",
          "height": 269
        },
        "id": "tVEF9BnkFcRF",
        "outputId": "ba2c43f1-2143-4719-a5a9-d3f0374e5d45"
      },
      "execution_count": null,
      "outputs": [
        {
          "output_type": "stream",
          "name": "stdout",
          "text": [
            "[4, 2, 6, 5, 0, 1]\n",
            "[0, 1, 2, 4, 5, 6]\n",
            "(3, 1, 5, 7, 2, 0)\n"
          ]
        },
        {
          "output_type": "error",
          "ename": "AttributeError",
          "evalue": "ignored",
          "traceback": [
            "\u001b[0;31m---------------------------------------------------------------------------\u001b[0m",
            "\u001b[0;31mAttributeError\u001b[0m                            Traceback (most recent call last)",
            "\u001b[0;32m<ipython-input-6-e8db5ea0e08e>\u001b[0m in \u001b[0;36m<module>\u001b[0;34m()\u001b[0m\n\u001b[1;32m     10\u001b[0m \u001b[0mprint\u001b[0m\u001b[0;34m(\u001b[0m\u001b[0mmy_tuple\u001b[0m\u001b[0;34m)\u001b[0m\u001b[0;34m\u001b[0m\u001b[0;34m\u001b[0m\u001b[0m\n\u001b[1;32m     11\u001b[0m \u001b[0;34m\u001b[0m\u001b[0m\n\u001b[0;32m---> 12\u001b[0;31m \u001b[0mmy_tuple\u001b[0m\u001b[0;34m.\u001b[0m\u001b[0msort\u001b[0m\u001b[0;34m(\u001b[0m\u001b[0;34m)\u001b[0m\u001b[0;34m\u001b[0m\u001b[0;34m\u001b[0m\u001b[0m\n\u001b[0m\u001b[1;32m     13\u001b[0m \u001b[0mprint\u001b[0m\u001b[0;34m(\u001b[0m\u001b[0mmy_tuple\u001b[0m\u001b[0;34m)\u001b[0m\u001b[0;34m\u001b[0m\u001b[0;34m\u001b[0m\u001b[0m\n",
            "\u001b[0;31mAttributeError\u001b[0m: 'tuple' object has no attribute 'sort'"
          ]
        }
      ]
    },
    {
      "cell_type": "markdown",
      "source": [
        "here only list can be sorted because they are mutable but not tuple. Dictionary is unordered so it doesn't matter."
      ],
      "metadata": {
        "id": "WWT0YxO4HAJs"
      }
    },
    {
      "cell_type": "code",
      "source": [
        "new_list = [4,2,6,5,0,1]\n",
        "\n",
        "print(new_list)\n",
        "\n",
        "new_sorted_list = sorted(new_list)\n",
        "\n",
        "print(new_sorted_list)"
      ],
      "metadata": {
        "colab": {
          "base_uri": "https://localhost:8080/"
        },
        "id": "qBQZ9oRqHJK8",
        "outputId": "0388736b-2834-47af-a1a5-66257227e8e9"
      },
      "execution_count": null,
      "outputs": [
        {
          "output_type": "stream",
          "name": "stdout",
          "text": [
            "[4, 2, 6, 5, 0, 1]\n",
            "[0, 1, 2, 4, 5, 6]\n"
          ]
        }
      ]
    },
    {
      "cell_type": "code",
      "source": [
        "new_list = [4,2,6,5,0,1]\n",
        "\n",
        "print(new_list)\n",
        "\n",
        "new_list.clear() #erasing list contents\n",
        "\n",
        "print(new_list)"
      ],
      "metadata": {
        "colab": {
          "base_uri": "https://localhost:8080/"
        },
        "id": "85ZojrdKKhED",
        "outputId": "b57ae119-b755-40da-dc71-5096b69fa65c"
      },
      "execution_count": null,
      "outputs": [
        {
          "output_type": "stream",
          "name": "stdout",
          "text": [
            "[4, 2, 6, 5, 0, 1]\n",
            "[]\n"
          ]
        }
      ]
    },
    {
      "cell_type": "code",
      "source": [
        "new_tuple_one = 1,2,3,4\n",
        "\n",
        "print(new_tuple_one)\n",
        "\n",
        "new_tuple_two = (5,6, \"python\",8)\n",
        "\n",
        "print(new_tuple_two)\n",
        "\n",
        "new_tuple =()\n",
        "\n",
        "print(new_tuple)\n",
        "\n",
        "new_tuple_three = tuple(('apple',\"banana\",\"cherry\"))  #doubt\n",
        "print(new_tuple_three)\n",
        "\n",
        "new_tuple_wrong = (\"apple\")\n",
        "print(type(new_tuple_wrong))\n",
        "print(new_tuple_wrong)\n",
        "\n",
        "\n",
        "new_tuple_right = (\"apple\",)\n",
        "print(type(new_tuple_right))\n",
        "print(new_tuple_right)\n",
        "\n",
        "my_tuple = \"hey\"  # this is a string\n",
        "print(type(my_tuple))\n",
        "my_tuple_1 = \"hey\",\"hi\" #this is a tuple\n",
        "print(type(my_tuple_1))\n"
      ],
      "metadata": {
        "colab": {
          "base_uri": "https://localhost:8080/"
        },
        "id": "jfWMn1M1LBhJ",
        "outputId": "70e8fd5f-1f24-4e63-c039-9e0b2ff3ea62"
      },
      "execution_count": null,
      "outputs": [
        {
          "output_type": "stream",
          "name": "stdout",
          "text": [
            "(1, 2, 3, 4)\n",
            "(5, 6, 'python', 8)\n",
            "()\n",
            "('apple', 'banana', 'cherry')\n",
            "<class 'str'>\n",
            "apple\n",
            "<class 'tuple'>\n",
            "('apple',)\n",
            "<class 'str'>\n",
            "<class 'tuple'>\n"
          ]
        }
      ]
    },
    {
      "cell_type": "code",
      "source": [
        "new_tuple = \"apple\",\"orange\",\"bannana\",\"berry\",\"mango\"\n",
        "\n",
        "print(new_tuple[0])\n",
        "print(new_tuple[4])\n",
        "\n",
        "print(new_tuple[-1])\n",
        "print(new_tuple[-4])\n",
        "print(new_tuple[-5])\n"
      ],
      "metadata": {
        "colab": {
          "base_uri": "https://localhost:8080/"
        },
        "id": "WBwaFBamPkbW",
        "outputId": "0673db1b-3b6d-42a9-ed24-7e67727782fe"
      },
      "execution_count": null,
      "outputs": [
        {
          "output_type": "stream",
          "name": "stdout",
          "text": [
            "apple\n",
            "mango\n",
            "mango\n",
            "orange\n",
            "apple\n"
          ]
        }
      ]
    },
    {
      "cell_type": "code",
      "source": [
        "# define two new tuple\n",
        "new_tuple_one = 9,5,6,4,2,1\n",
        "new_tuple_two = 'a',5,7,6,3,1\n",
        "\n",
        "print(new_tuple_one)\n",
        "print(new_tuple_two)\n",
        "\n",
        "# add a new element\n",
        "merged_tuple = new_tuple_one + new_tuple_two\n",
        "\n",
        "# check merged tuple\n",
        "print(merged_tuple)\n"
      ],
      "metadata": {
        "colab": {
          "base_uri": "https://localhost:8080/"
        },
        "id": "D99PZnyFQwps",
        "outputId": "074f0250-143e-411d-ccdb-931a51245cbb"
      },
      "execution_count": null,
      "outputs": [
        {
          "output_type": "stream",
          "name": "stdout",
          "text": [
            "(9, 5, 6, 4, 2, 1)\n",
            "('a', 5, 7, 6, 3, 1)\n",
            "(9, 5, 6, 4, 2, 1, 'a', 5, 7, 6, 3, 1)\n"
          ]
        }
      ]
    },
    {
      "cell_type": "code",
      "source": [
        "new_tuple = 'a',5,6,7,6,3,1\n",
        "\n",
        "len(new_tuple)"
      ],
      "metadata": {
        "colab": {
          "base_uri": "https://localhost:8080/"
        },
        "id": "X7f_74A7Q_DL",
        "outputId": "fbd774b9-4b4f-46e6-cedf-247866d5ba06"
      },
      "execution_count": null,
      "outputs": [
        {
          "output_type": "execute_result",
          "data": {
            "text/plain": [
              "7"
            ]
          },
          "metadata": {},
          "execution_count": 27
        }
      ]
    },
    {
      "cell_type": "code",
      "source": [
        "new_tuple = 8,12,7,10,52,33,21,99\n",
        "\n",
        "print(min(new_tuple))\n",
        "print(max(new_tuple))\n",
        "print(new_tuple.count(3))\n",
        "print(new_tuple.count(8))\n",
        "\n",
        "print(new_tuple.index(99))"
      ],
      "metadata": {
        "colab": {
          "base_uri": "https://localhost:8080/"
        },
        "id": "B-CRi3JTRMwq",
        "outputId": "67158fd8-0dcc-453d-b919-897326afc7ce"
      },
      "execution_count": null,
      "outputs": [
        {
          "output_type": "stream",
          "name": "stdout",
          "text": [
            "7\n",
            "99\n",
            "0\n",
            "1\n",
            "7\n"
          ]
        }
      ]
    },
    {
      "cell_type": "code",
      "source": [
        "new_tuple = 5,3,6,3,1,3,2,3\n",
        "\n",
        "print(new_tuple)\n",
        "\n",
        "del(new_tuple)\n",
        "\n",
        "# print(new_tuple)\n",
        "\n",
        "list1 = [1,23,4,4]\n",
        "print(list1)\n",
        "# del(list1)          del can also be used for list\n",
        "print(list1)\n"
      ],
      "metadata": {
        "colab": {
          "base_uri": "https://localhost:8080/"
        },
        "id": "I-pSJNT_TvU_",
        "outputId": "e59d4c02-ca19-4ffb-b616-a501806c5e72"
      },
      "execution_count": null,
      "outputs": [
        {
          "output_type": "stream",
          "name": "stdout",
          "text": [
            "(5, 3, 6, 3, 1, 3, 2, 3)\n",
            "[1, 23, 4, 4]\n",
            "[1, 23, 4, 4]\n"
          ]
        }
      ]
    },
    {
      "cell_type": "code",
      "source": [
        "x= [\"apple\", \"banana\" ]\n",
        "y= [\"apple\", \"banana\"]\n",
        "z=x\n",
        "\n",
        "print(x is z)\n",
        "print( x is y)\n",
        "print(x == y)\n",
        "print (x is not y)\n",
        "\n",
        "\n",
        "print(\"banana\" in x)\n",
        "print(\"pineapple\" in x)\n",
        "print(\"pineapple\" not in x)\n",
        "\n",
        "\n"
      ],
      "metadata": {
        "colab": {
          "base_uri": "https://localhost:8080/"
        },
        "id": "9wysVKj6UJwo",
        "outputId": "7a155fad-6414-4560-858b-b421b4b3bd53"
      },
      "execution_count": null,
      "outputs": [
        {
          "output_type": "stream",
          "name": "stdout",
          "text": [
            "True\n",
            "False\n",
            "True\n",
            "True\n",
            "True\n",
            "False\n",
            "True\n"
          ]
        }
      ]
    }
  ]
}