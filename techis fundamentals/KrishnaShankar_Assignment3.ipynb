{
  "nbformat": 4,
  "nbformat_minor": 0,
  "metadata": {
    "colab": {
      "provenance": []
    },
    "kernelspec": {
      "name": "python3",
      "display_name": "Python 3"
    },
    "language_info": {
      "name": "python"
    }
  },
  "cells": [
    {
      "cell_type": "markdown",
      "source": [
        "# **1. Write a program for Reverse a no.**"
      ],
      "metadata": {
        "id": "6M1wO-TS7ZrD"
      }
    },
    {
      "cell_type": "markdown",
      "source": [
        "The reverse of a no using built-in function or using index is only possible when it is converted to string."
      ],
      "metadata": {
        "id": "40WFps50EA4q"
      }
    },
    {
      "cell_type": "code",
      "execution_count": null,
      "metadata": {
        "colab": {
          "base_uri": "https://localhost:8080/"
        },
        "id": "CH4VNGZ67MHg",
        "outputId": "94df060e-239d-4ad9-9a15-1348dbc45c4c"
      },
      "outputs": [
        {
          "name": "stdout",
          "output_type": "stream",
          "text": [
            "Enter no:12345678\n"
          ]
        },
        {
          "output_type": "execute_result",
          "data": {
            "text/plain": [
              "87654321"
            ]
          },
          "metadata": {},
          "execution_count": 20
        }
      ],
      "source": [
        "number =int(input(\"Enter no:\"))\n",
        "\n",
        "def rev(number):\n",
        "  reverse = str(number)[::-1]\n",
        "  return int(reverse)\n",
        "\n",
        "rev(number)\n",
        "\n",
        "\n",
        "\n",
        ""
      ]
    },
    {
      "cell_type": "markdown",
      "source": [
        "# **2. Write a program for Armstrong no.**"
      ],
      "metadata": {
        "id": "URsJXBVi7enU"
      }
    },
    {
      "cell_type": "code",
      "source": [
        "num = int(input(\"Enter a number: \"))\n",
        "order = len(str(num))\n",
        "sum = 0\n",
        "temp = num #for comparing them later\n",
        "while temp>0:\n",
        "  digit = temp%10\n",
        "  sum = sum + digit ** order\n",
        "  temp = temp // 10\n",
        "\n",
        "if num == sum:\n",
        "  print(num,\"is armstrong no.\")\n",
        "\n",
        "else:\n",
        "  print(num,\"is not armstrong no.\")\n",
        "\n",
        "\n",
        "\n"
      ],
      "metadata": {
        "colab": {
          "base_uri": "https://localhost:8080/"
        },
        "id": "H4rn5B8DDvbE",
        "outputId": "de19feca-a2bf-4452-fc41-028b4273539c"
      },
      "execution_count": null,
      "outputs": [
        {
          "output_type": "stream",
          "name": "stdout",
          "text": [
            "Enter a number: 152\n",
            "152 is not armstrong no.\n"
          ]
        }
      ]
    },
    {
      "cell_type": "markdown",
      "source": [
        "# **3. Write a program for Palindrome no.**"
      ],
      "metadata": {
        "id": "i3qxP7r57kV2"
      }
    },
    {
      "cell_type": "code",
      "source": [
        "num=input(\"Enter number:\")\n",
        "reverse = num[::-1]\n",
        "\n",
        "if(int(num) == int(reverse)):\n",
        "  print(\"The number is palindrome!\")\n",
        "else:\n",
        "  print(\"The no is not a palindrome!\")\n",
        "\n",
        "\n",
        "\n",
        "\n",
        ""
      ],
      "metadata": {
        "colab": {
          "base_uri": "https://localhost:8080/"
        },
        "id": "CH5wDWWu9GFm",
        "outputId": "6c116298-661f-4b3d-fc57-12b8c4f90e70"
      },
      "execution_count": null,
      "outputs": [
        {
          "output_type": "stream",
          "name": "stdout",
          "text": [
            "Enter number:090\n",
            "The number is palindrome!\n"
          ]
        }
      ]
    },
    {
      "cell_type": "markdown",
      "source": [
        "# **4. Write a program for Palindrome no.**"
      ],
      "metadata": {
        "id": "_VMOcfHXF9qk"
      }
    },
    {
      "cell_type": "code",
      "source": [
        "num=int(input(\"Enter a number:\"))\n",
        "temp=num\n",
        "rev=0\n",
        "while(num>0):\n",
        "    dig=num%10\n",
        "    rev=rev*10+dig\n",
        "    num=num//10\n",
        "if(temp==rev):\n",
        "    print(\"The number is palindrome!\")\n",
        "else:\n",
        "    print(\"Not a palindrome!\")"
      ],
      "metadata": {
        "colab": {
          "base_uri": "https://localhost:8080/"
        },
        "id": "rv8_PPWfF9Ps",
        "outputId": "c8e256d2-38e3-4840-8bb3-e094b716be9b"
      },
      "execution_count": null,
      "outputs": [
        {
          "output_type": "stream",
          "name": "stdout",
          "text": [
            "Enter a number:1223\n",
            "Not a palindrome!\n"
          ]
        }
      ]
    },
    {
      "cell_type": "markdown",
      "source": [
        "# **5. Write a program for Fibonacci Series.**"
      ],
      "metadata": {
        "id": "C_oGRryJ7pNq"
      }
    },
    {
      "cell_type": "code",
      "source": [
        "nterms = int(input(\"How many terms? \"))\n",
        "first_term, second_term = 0, 1\n",
        "count = 0\n",
        "if nterms <= 0:\n",
        "   print(\"Please enter a positive integer\")\n",
        "elif nterms == 1:\n",
        "   print(\"Fibonacci sequence:\",first_term)\n",
        "else:\n",
        "   print(\"Fibonacci sequence:\")\n",
        "   while count < nterms:\n",
        "       print(first_term)\n",
        "       total = first_term + second_term\n",
        "       first_term = second_term\n",
        "       second_term = total\n",
        "       count += 1"
      ],
      "metadata": {
        "colab": {
          "base_uri": "https://localhost:8080/"
        },
        "id": "GbF0e3ZH7vT0",
        "outputId": "ed229fcd-7c8a-4c64-ee76-a82a460c1495"
      },
      "execution_count": null,
      "outputs": [
        {
          "output_type": "stream",
          "name": "stdout",
          "text": [
            "How many terms? 5\n",
            "Fibonacci sequence:\n",
            "0\n",
            "1\n",
            "1\n",
            "2\n",
            "3\n"
          ]
        }
      ]
    },
    {
      "cell_type": "markdown",
      "source": [
        "# **6. Write a program to find Factorial of a number.**"
      ],
      "metadata": {
        "id": "R1NsU0UT7vrv"
      }
    },
    {
      "cell_type": "code",
      "source": [
        "number = int(input(\"Enter a number:\"))\n",
        "fact = 1\n",
        "\n",
        "if number < 0:\n",
        "  print(\"Please enter a positive no!\")\n",
        "elif number == 0:\n",
        "  print(\"Facotrial:1\")\n",
        "else:\n",
        "  for i in range(1, number+1):\n",
        "    fact = fact*i\n",
        "  print(\"Factorial:\",fact)\n"
      ],
      "metadata": {
        "colab": {
          "base_uri": "https://localhost:8080/"
        },
        "id": "PGrTQDMT70L3",
        "outputId": "3a5a3b1c-1f97-40c7-f2e5-4ed5eda748eb"
      },
      "execution_count": null,
      "outputs": [
        {
          "output_type": "stream",
          "name": "stdout",
          "text": [
            "Enter a number:4\n",
            "Factorial: 24\n"
          ]
        }
      ]
    }
  ]
}