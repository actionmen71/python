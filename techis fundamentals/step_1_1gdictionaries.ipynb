{
  "nbformat": 4,
  "nbformat_minor": 0,
  "metadata": {
    "colab": {
      "provenance": []
    },
    "kernelspec": {
      "name": "python3",
      "display_name": "Python 3"
    },
    "language_info": {
      "name": "python"
    }
  },
  "cells": [
    {
      "cell_type": "code",
      "execution_count": null,
      "metadata": {
        "colab": {
          "base_uri": "https://localhost:8080/"
        },
        "id": "j-KdIpYaHJ3q",
        "outputId": "2b464b51-2e41-4c31-a9fc-1953d884f326"
      },
      "outputs": [
        {
          "output_type": "stream",
          "name": "stdout",
          "text": [
            "{'brand': 'ford', 'model': 'mustang', 'year': 1964}\n"
          ]
        },
        {
          "output_type": "execute_result",
          "data": {
            "text/plain": [
              "dict"
            ]
          },
          "metadata": {},
          "execution_count": 2
        }
      ],
      "source": [
        "car_info_dict = {\"brand\":\"ford\",\"model\":\"mustang\",\"year\":1964}\n",
        "\n",
        "print(car_info_dict)\n",
        "type(car_info_dict)"
      ]
    },
    {
      "cell_type": "markdown",
      "source": [
        "We are using dictionary constructor below"
      ],
      "metadata": {
        "id": "0WT32xzHIFTg"
      }
    },
    {
      "cell_type": "code",
      "source": [
        "car_mode_info = dict(brand = \"tesla\",model = \"model3\", year = 2017)\n",
        "print(car_info_dict)"
      ],
      "metadata": {
        "colab": {
          "base_uri": "https://localhost:8080/"
        },
        "id": "UjtXbPl3H5sQ",
        "outputId": "923ca37a-ba3d-4f3e-8eef-114f0cd3fb6f"
      },
      "execution_count": null,
      "outputs": [
        {
          "output_type": "stream",
          "name": "stdout",
          "text": [
            "{'brand': 'ford', 'model': 'mustang', 'year': 1964}\n"
          ]
        }
      ]
    },
    {
      "cell_type": "markdown",
      "source": [
        "accessing value with key name"
      ],
      "metadata": {
        "id": "gIvaoVqoJIky"
      }
    },
    {
      "cell_type": "code",
      "source": [
        "model_value = car_info_dict[\"model\"]\n",
        "\n",
        "print(model_value)\n",
        "new = car_info_dict[\"not available\"] #this key doesn't exist\n",
        "print(new)\n"
      ],
      "metadata": {
        "colab": {
          "base_uri": "https://localhost:8080/",
          "height": 240
        },
        "id": "0Uua1nEPI6jm",
        "outputId": "88d47618-6d01-4d17-e20b-422e18c5df01"
      },
      "execution_count": null,
      "outputs": [
        {
          "output_type": "stream",
          "name": "stdout",
          "text": [
            "mustang\n"
          ]
        },
        {
          "output_type": "error",
          "ename": "KeyError",
          "evalue": "ignored",
          "traceback": [
            "\u001b[0;31m---------------------------------------------------------------------------\u001b[0m",
            "\u001b[0;31mKeyError\u001b[0m                                  Traceback (most recent call last)",
            "\u001b[0;32m<ipython-input-4-6a22840ab1e1>\u001b[0m in \u001b[0;36m<module>\u001b[0;34m()\u001b[0m\n\u001b[1;32m      2\u001b[0m \u001b[0;34m\u001b[0m\u001b[0m\n\u001b[1;32m      3\u001b[0m \u001b[0mprint\u001b[0m\u001b[0;34m(\u001b[0m\u001b[0mmodel_value\u001b[0m\u001b[0;34m)\u001b[0m\u001b[0;34m\u001b[0m\u001b[0;34m\u001b[0m\u001b[0m\n\u001b[0;32m----> 4\u001b[0;31m \u001b[0mnew\u001b[0m \u001b[0;34m=\u001b[0m \u001b[0mcar_info_dict\u001b[0m\u001b[0;34m[\u001b[0m\u001b[0;34m\"not available\"\u001b[0m\u001b[0;34m]\u001b[0m \u001b[0;31m#this key doesn't exist\u001b[0m\u001b[0;34m\u001b[0m\u001b[0;34m\u001b[0m\u001b[0m\n\u001b[0m\u001b[1;32m      5\u001b[0m \u001b[0mprint\u001b[0m\u001b[0;34m(\u001b[0m\u001b[0mnew\u001b[0m\u001b[0;34m)\u001b[0m\u001b[0;34m\u001b[0m\u001b[0;34m\u001b[0m\u001b[0m\n",
            "\u001b[0;31mKeyError\u001b[0m: 'not available'"
          ]
        }
      ]
    },
    {
      "cell_type": "markdown",
      "source": [
        "by get() method to get values"
      ],
      "metadata": {
        "id": "LsbAfFOpKaTH"
      }
    },
    {
      "cell_type": "markdown",
      "source": [
        "# Why should we use get method instead of just normal method?\n",
        "Well when we access the dictinary values or items using normal method and if the value or item doesn't exit it will raise error.\n",
        "In case of accessing elements using get method, if the value or items doesn't exist it will just print None or nothing without raising error. So, the program will run without any interruption.   "
      ],
      "metadata": {
        "id": "vs86m4vI_Va_"
      }
    },
    {
      "cell_type": "code",
      "source": [
        "model_value = car_info_dict.get(\"model\")\n",
        "print(model_value)\n",
        "new = car_info_dict.get(\"not available\") #this key doesn't exist\n",
        "print(new)"
      ],
      "metadata": {
        "colab": {
          "base_uri": "https://localhost:8080/"
        },
        "id": "9bqoDUepJL40",
        "outputId": "2d0c59a3-5aba-4d0b-eb09-0e5bf3862209"
      },
      "execution_count": null,
      "outputs": [
        {
          "output_type": "stream",
          "name": "stdout",
          "text": [
            "mustang\n",
            "None\n"
          ]
        }
      ]
    },
    {
      "cell_type": "code",
      "source": [
        "car_info_dict = {\"brand\":\"ford\",\"model\":\"mustang\",\"year\":1964}\n",
        "\n",
        "print(car_info_dict)\n",
        "\n",
        "car_info_dict[\"year\"] = 2018\n",
        "\n",
        "print(car_info_dict)"
      ],
      "metadata": {
        "id": "23iqjDtIKct9"
      },
      "execution_count": null,
      "outputs": []
    },
    {
      "cell_type": "code",
      "source": [
        "for entry in car_info_dict:\n",
        "  print(entry)\n",
        "\n"
      ],
      "metadata": {
        "id": "UuFOn752Np9f"
      },
      "execution_count": null,
      "outputs": []
    },
    {
      "cell_type": "code",
      "source": [
        "for entry in car_info_dict:\n",
        "  print(car_info_dict[entry])"
      ],
      "metadata": {
        "id": "6BAkti8tODpg"
      },
      "execution_count": null,
      "outputs": []
    },
    {
      "cell_type": "code",
      "source": [
        "for entry in car_info_dict.values():\n",
        "  print(entry)"
      ],
      "metadata": {
        "id": "h6n4Dj4AvWId"
      },
      "execution_count": null,
      "outputs": []
    },
    {
      "cell_type": "code",
      "source": [
        "for key,value in car_info_dict.items():\n",
        "  print(key,value)"
      ],
      "metadata": {
        "id": "AkBCa1u4vjoX"
      },
      "execution_count": null,
      "outputs": []
    },
    {
      "cell_type": "code",
      "source": [
        "car_info_dict = {\n",
        "    \"brand\" : \"Ford\",\n",
        "    \"model\" : \"Mustang\",\n",
        "    \"year\" : 1964\n",
        "}\n",
        "\n",
        "if \"brand\" in car_info_dict:\n",
        "  print(\"Brand info is available.\")\n",
        "\n",
        "print(len(car_info_dict))"
      ],
      "metadata": {
        "id": "q0ofJezAv2VI"
      },
      "execution_count": null,
      "outputs": []
    },
    {
      "cell_type": "code",
      "source": [
        "car_info_dict [\"color\"] = \"green\"\n",
        "\n",
        "print(car_info_dict)"
      ],
      "metadata": {
        "id": "leDN2Parwyn3"
      },
      "execution_count": null,
      "outputs": []
    },
    {
      "cell_type": "code",
      "source": [
        "car_info_dict.pop(\"model\")\n",
        "\n",
        "print(car_info_dict)"
      ],
      "metadata": {
        "id": "CagCmbz4xTzX"
      },
      "execution_count": null,
      "outputs": []
    },
    {
      "cell_type": "code",
      "source": [
        " car_model_info = {\"brand\":\"tesla\",\"model\":\"model 3\", \"year\":\"2017\"}\n",
        "\n",
        " print(car_model_info)\n",
        "\n",
        " del car_model_info[\"model\"]\n",
        "\n",
        " print(car_model_info)"
      ],
      "metadata": {
        "id": "y0ZMkudlxvmE",
        "outputId": "b9ab5dd2-59e0-4928-cf95-b9d5de482741",
        "colab": {
          "base_uri": "https://localhost:8080/"
        }
      },
      "execution_count": null,
      "outputs": [
        {
          "output_type": "stream",
          "name": "stdout",
          "text": [
            "{'brand': 'tesla', 'model': 'model 3', 'year': '2017'}\n",
            "{'brand': 'tesla', 'year': '2017'}\n"
          ]
        }
      ]
    },
    {
      "cell_type": "markdown",
      "source": [
        "dict2 = dict1  doesnot make copy but only a reference to each other. changes made in one will be reflected in other."
      ],
      "metadata": {
        "id": "gZyHgkMBzpCe"
      }
    },
    {
      "cell_type": "code",
      "source": [
        "new_dict = car_model_info\n",
        "print(new_dict)\n",
        "print(car_model_info)\n",
        "\n",
        "new_dict[\"brand\"] = \"hyundai\"\n",
        "\n",
        "print(new_dict)\n",
        "print(car_model_info)\n"
      ],
      "metadata": {
        "id": "3Xtcs8Sex3qf",
        "outputId": "3720e517-efaa-4fbe-b7fa-d42e4687d70b",
        "colab": {
          "base_uri": "https://localhost:8080/"
        }
      },
      "execution_count": null,
      "outputs": [
        {
          "output_type": "stream",
          "name": "stdout",
          "text": [
            "{'brand': 'tesla', 'year': '2017'}\n",
            "{'brand': 'tesla', 'year': '2017'}\n",
            "{'brand': 'hyundai', 'year': '2017'}\n",
            "{'brand': 'hyundai', 'year': '2017'}\n"
          ]
        }
      ]
    },
    {
      "cell_type": "code",
      "source": [
        "# right way to copy a dictionary\n",
        "\n",
        "my_dict = dict(name = \"shubham\", age = 25, place = \"delhi\")\n",
        "print(my_dict)\n",
        "\n",
        "your_dict = my_dict.copy()\n",
        "print(your_dict)\n",
        "\n",
        "your_dict[\"name\"] = \"Akash\"\n",
        "print(my_dict)\n",
        "print(your_dict)\n",
        "\n",
        "\n"
      ],
      "metadata": {
        "id": "6NQhBIlm0Ac6",
        "outputId": "b1585182-4d43-40c0-8ed3-05ae0f11c44e",
        "colab": {
          "base_uri": "https://localhost:8080/"
        }
      },
      "execution_count": null,
      "outputs": [
        {
          "output_type": "stream",
          "name": "stdout",
          "text": [
            "{'name': 'shubham', 'age': 25, 'place': 'delhi'}\n",
            "{'name': 'shubham', 'age': 25, 'place': 'delhi'}\n",
            "{'name': 'shubham', 'age': 25, 'place': 'delhi'}\n",
            "{'name': 'Akash', 'age': 25, 'place': 'delhi'}\n"
          ]
        }
      ]
    },
    {
      "cell_type": "code",
      "source": [
        "my1_dict = dict(name = \"shubham\", age = 25, place = \"delhi\")\n",
        "print(my1_dict)\n",
        "\n",
        "\n",
        "my2_dict = dict(my1_dict)\n",
        "print(my2_dict)\n",
        "\n",
        "my2_dict[\"name\"]=\"pravin\"\n",
        "print(my1_dict)\n",
        "print(my2_dict)"
      ],
      "metadata": {
        "id": "TWvDAZkN1VtN"
      },
      "execution_count": null,
      "outputs": []
    },
    {
      "cell_type": "markdown",
      "source": [
        "# Nested dictionaries"
      ],
      "metadata": {
        "id": "0B2osKEN2UpV"
      }
    },
    {
      "cell_type": "code",
      "source": [
        "family = {\n",
        "    \"child1\":{\n",
        "        \"name\":\"Emil\",\n",
        "        \"year\":2004\n",
        "    },\n",
        "    \"child2\":{\n",
        "        \"name\":\"Tobia\",\n",
        "        \"year\":2007\n",
        "    },\n",
        "    \"child3\":{\n",
        "        \"name\":\"Linus\",\n",
        "        \"year\": 2011\n",
        "    }\n",
        "}\n",
        "\n",
        "print(family)"
      ],
      "metadata": {
        "id": "cR0QkW7e2UQM"
      },
      "execution_count": null,
      "outputs": []
    },
    {
      "cell_type": "code",
      "source": [
        "child1 = {\n",
        "    \"name\":\"Emil\",\n",
        "    \"year\": 2004\n",
        "}\n",
        "\n",
        "child2 = {\n",
        "    \"name\":\"Tobias\",\n",
        "    \"year\":2007\n",
        "}\n",
        "\n",
        "child3 = {\n",
        "    \"name\":\"Linus\",\n",
        "    \"year\":2011\n",
        "}\n",
        "\n",
        "family = {\n",
        "    \"child1\" : child1,\n",
        "    \"child2\" :child2,\n",
        "    \"child3\" :child3\n",
        "}\n",
        "\n",
        "print(family)"
      ],
      "metadata": {
        "id": "36XiNjoX3Om3"
      },
      "execution_count": null,
      "outputs": []
    },
    {
      "cell_type": "code",
      "source": [
        "abc = {input(\"key:\"):input(\"value:\")}\n",
        "print(abc)"
      ],
      "metadata": {
        "colab": {
          "base_uri": "https://localhost:8080/"
        },
        "id": "sZW6si-G7HzL",
        "outputId": "23d15d8d-30c3-4785-ea5c-279b1e882f8b"
      },
      "execution_count": null,
      "outputs": [
        {
          "output_type": "stream",
          "name": "stdout",
          "text": [
            "key:1\n",
            "value:5678\n",
            "{'1': '5678'}\n"
          ]
        }
      ]
    },
    {
      "cell_type": "code",
      "source": [
        "a=[1,2,3,4,5,6,7,8,9]\n",
        "b=[1,2,3,4,6,7,8,9]\n",
        "Asum =0\n",
        "Bsum=0\n",
        "for i in range(0,len(b)):\n",
        "  Asum += a[i]\n",
        "  Bsum += b[i]\n",
        "  if(i== len(b)-1):\n",
        "    Asum += a[i+1]\n",
        "print('missing number = ' , Asum-Bsum)\n",
        ""
      ],
      "metadata": {
        "colab": {
          "base_uri": "https://localhost:8080/"
        },
        "id": "fOkIwgqUjrNz",
        "outputId": "3417a3fa-d2d1-4dae-d44c-7b348b16a742"
      },
      "execution_count": null,
      "outputs": [
        {
          "output_type": "stream",
          "name": "stdout",
          "text": [
            "missing number =  5\n"
          ]
        }
      ]
    },
    {
      "cell_type": "code",
      "source": [
        "a={input(\"key:\"):input(\"value\")}\n",
        "print(a)"
      ],
      "metadata": {
        "colab": {
          "base_uri": "https://localhost:8080/"
        },
        "id": "MLoYQ-ySmR2i",
        "outputId": "4e52d8e8-389b-4e14-e1fa-dac82005371f"
      },
      "execution_count": null,
      "outputs": [
        {
          "output_type": "stream",
          "name": "stdout",
          "text": [
            "key:1\n",
            "valuemuthiya\n",
            "{'1': 'muthiya'}\n"
          ]
        }
      ]
    }
  ]
}