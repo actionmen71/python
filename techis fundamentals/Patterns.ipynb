{
  "nbformat": 4,
  "nbformat_minor": 0,
  "metadata": {
    "colab": {
      "provenance": []
    },
    "kernelspec": {
      "name": "python3",
      "display_name": "Python 3"
    },
    "language_info": {
      "name": "python"
    }
  },
  "cells": [
    {
      "cell_type": "code",
      "execution_count": null,
      "metadata": {
        "colab": {
          "base_uri": "https://localhost:8080/"
        },
        "id": "4FFer8Yp6JM8",
        "outputId": "518785cb-30d4-4490-d55d-0291bf7559b7"
      },
      "outputs": [
        {
          "output_type": "stream",
          "name": "stdout",
          "text": [
            "\n",
            "1 \n",
            "2 2 \n",
            "3 3 3 \n",
            "4 4 4 4 \n",
            "5 5 5 5 5 \n"
          ]
        }
      ],
      "source": [
        "\n",
        "for i in range(6):\n",
        "  for j in range(i):\n",
        "    print(i,end= \" \")\n",
        "\n",
        "  print()"
      ]
    },
    {
      "cell_type": "code",
      "source": [
        "for i in range(5,0,-1):\n",
        "  for j in range(i):\n",
        "    print(i,end= \" \")\n",
        "\n",
        "  print()"
      ],
      "metadata": {
        "colab": {
          "base_uri": "https://localhost:8080/"
        },
        "id": "yaNGIDH6SPzB",
        "outputId": "e84aaedd-7734-4224-d61a-f8eaafb9cbe4"
      },
      "execution_count": null,
      "outputs": [
        {
          "output_type": "stream",
          "name": "stdout",
          "text": [
            "5 5 5 5 5 \n",
            "4 4 4 4 \n",
            "3 3 3 \n",
            "2 2 \n",
            "1 \n"
          ]
        }
      ]
    },
    {
      "cell_type": "code",
      "source": [
        "for i in range(5,0,-1):\n",
        "  for j in range(i):\n",
        "    print(i,end= \" \")\n",
        "\n",
        "  print()"
      ],
      "metadata": {
        "colab": {
          "base_uri": "https://localhost:8080/"
        },
        "id": "5GXteEh2ThSX",
        "outputId": "7e75c540-03e9-4bb1-e8e1-63b2ab55f4d1"
      },
      "execution_count": null,
      "outputs": [
        {
          "output_type": "stream",
          "name": "stdout",
          "text": [
            "5 5 5 5 5 \n",
            "4 4 4 4 \n",
            "3 3 3 \n",
            "2 2 \n",
            "1 \n"
          ]
        }
      ]
    },
    {
      "cell_type": "code",
      "source": [
        "for i in range(5,0,-1):\n",
        "  for j in range(i):\n",
        "    print(5,end= \" \")\n",
        "\n",
        "  print()"
      ],
      "metadata": {
        "colab": {
          "base_uri": "https://localhost:8080/"
        },
        "id": "qrv1ytdwSY7s",
        "outputId": "65fd140a-819b-4484-cbc7-4cd0030f6e9c"
      },
      "execution_count": null,
      "outputs": [
        {
          "output_type": "stream",
          "name": "stdout",
          "text": [
            "5 5 5 5 5 \n",
            "5 5 5 5 \n",
            "5 5 5 \n",
            "5 5 \n",
            "5 \n"
          ]
        }
      ]
    },
    {
      "cell_type": "code",
      "source": [
        "\n",
        "for i in range(6):\n",
        "  a=1\n",
        "  for j in range(i):\n",
        "    print(a,end= \" \")\n",
        "    a+=1\n",
        "\n",
        "  print()"
      ],
      "metadata": {
        "colab": {
          "base_uri": "https://localhost:8080/"
        },
        "id": "oa_RvaRxRL8M",
        "outputId": "c0b77daa-82a1-4a64-8e6b-45cdc0fbb3dd"
      },
      "execution_count": null,
      "outputs": [
        {
          "output_type": "stream",
          "name": "stdout",
          "text": [
            "\n",
            "1 \n",
            "1 2 \n",
            "1 2 3 \n",
            "1 2 3 4 \n",
            "1 2 3 4 5 \n"
          ]
        }
      ]
    },
    {
      "cell_type": "code",
      "source": [
        "\n",
        "for i in range(6):\n",
        "\n",
        "  for j in range(1,i+1):\n",
        "    print(j,end= \" \")\n",
        "\n",
        "\n",
        "  print()"
      ],
      "metadata": {
        "colab": {
          "base_uri": "https://localhost:8080/"
        },
        "id": "lYI1BZQvRxW8",
        "outputId": "202cf261-7084-47a5-c165-f2270a3c8cc4"
      },
      "execution_count": null,
      "outputs": [
        {
          "output_type": "stream",
          "name": "stdout",
          "text": [
            "\n",
            "1 \n",
            "1 2 \n",
            "1 2 3 \n",
            "1 2 3 4 \n",
            "1 2 3 4 5 \n"
          ]
        }
      ]
    },
    {
      "cell_type": "code",
      "source": [
        " for i in range(6):\n",
        "\n",
        "  for j in range(i,0,-1):\n",
        "    print(j,end= \" \")\n",
        "\n",
        "\n",
        "  print()"
      ],
      "metadata": {
        "colab": {
          "base_uri": "https://localhost:8080/"
        },
        "id": "1Kibswc6QrPF",
        "outputId": "ec79fc31-65b6-4a44-df46-613b0e83f6ff"
      },
      "execution_count": null,
      "outputs": [
        {
          "output_type": "stream",
          "name": "stdout",
          "text": [
            "\n",
            "1 \n",
            "2 1 \n",
            "3 2 1 \n",
            "4 3 2 1 \n",
            "5 4 3 2 1 \n"
          ]
        }
      ]
    },
    {
      "cell_type": "code",
      "source": [
        "\n",
        "for i in range(5,0,-1):\n",
        "\n",
        "  for j in range(i):\n",
        "    print(j,end= \" \")\n",
        "\n",
        "\n",
        "  print()\n",
        ""
      ],
      "metadata": {
        "colab": {
          "base_uri": "https://localhost:8080/"
        },
        "id": "foQIokfGShkG",
        "outputId": "4ac806f7-6fb6-43f3-ee76-333d2af81785"
      },
      "execution_count": null,
      "outputs": [
        {
          "output_type": "stream",
          "name": "stdout",
          "text": [
            "0 1 2 3 4 \n",
            "0 1 2 3 \n",
            "0 1 2 \n",
            "0 1 \n",
            "0 \n"
          ]
        }
      ]
    },
    {
      "cell_type": "code",
      "source": [
        " for i in range(6):\n",
        "  for j in range(i):\n",
        "    print(j+1,end= \" \")\n",
        "\n",
        "  print()"
      ],
      "metadata": {
        "colab": {
          "base_uri": "https://localhost:8080/"
        },
        "id": "NsMbzT3a7Ur9",
        "outputId": "a8c44086-25d1-4a63-c12c-0c00ac886a3a"
      },
      "execution_count": null,
      "outputs": [
        {
          "output_type": "stream",
          "name": "stdout",
          "text": [
            "\n",
            "1 \n",
            "1 2 \n",
            "1 2 3 \n",
            "1 2 3 4 \n",
            "1 2 3 4 5 \n"
          ]
        }
      ]
    },
    {
      "cell_type": "code",
      "source": [
        " for i in range(6):\n",
        "  for j in range(i):\n",
        "    print(\"*\",end= \" \")\n",
        "\n",
        "  print()"
      ],
      "metadata": {
        "colab": {
          "base_uri": "https://localhost:8080/"
        },
        "id": "bZyFzTcr8HMV",
        "outputId": "8643ee8b-faf1-4436-e995-691d4dfb85fc"
      },
      "execution_count": null,
      "outputs": [
        {
          "output_type": "stream",
          "name": "stdout",
          "text": [
            "\n",
            "* \n",
            "* * \n",
            "* * * \n",
            "* * * * \n",
            "* * * * * \n"
          ]
        }
      ]
    },
    {
      "cell_type": "code",
      "source": [
        "for i in range(5,0,-1):\n",
        "  for j in range(0,i):\n",
        "    print(\"*\",end=\" \")\n",
        "\n",
        "  print()"
      ],
      "metadata": {
        "colab": {
          "base_uri": "https://localhost:8080/"
        },
        "id": "64E3ERDY8WgK",
        "outputId": "22d31792-265e-41ba-b14a-c2a7f4516998"
      },
      "execution_count": null,
      "outputs": [
        {
          "output_type": "stream",
          "name": "stdout",
          "text": [
            "* * * * * \n",
            "* * * * \n",
            "* * * \n",
            "* * \n",
            "* \n"
          ]
        }
      ]
    },
    {
      "cell_type": "markdown",
      "source": [
        "Equilateral triangles"
      ],
      "metadata": {
        "id": "ZpaD5Zwo-Qxe"
      }
    },
    {
      "cell_type": "code",
      "source": [
        " s = 6\n",
        "\n",
        " m=s\n",
        "\n",
        " for i in range(0,s):\n",
        "   for j in range(0,m):\n",
        "     print(end=\" \")\n",
        "    # pass\n",
        "   m -= 1\n",
        "   for k in range(0,i+1):\n",
        "     print(\"*\",end=\" \")\n",
        "\n",
        "   print(\" \")"
      ],
      "metadata": {
        "colab": {
          "base_uri": "https://localhost:8080/"
        },
        "id": "FLHiSDFX8WX3",
        "outputId": "bd7d3ab3-db7e-444e-9736-b6cab97a0e7d"
      },
      "execution_count": null,
      "outputs": [
        {
          "output_type": "stream",
          "name": "stdout",
          "text": [
            "      *  \n",
            "     * *  \n",
            "    * * *  \n",
            "   * * * *  \n",
            "  * * * * *  \n",
            " * * * * * *  \n"
          ]
        }
      ]
    },
    {
      "cell_type": "markdown",
      "source": [
        "# Downward Equilateral"
      ],
      "metadata": {
        "id": "6VTy9ePELHSC"
      }
    },
    {
      "cell_type": "code",
      "source": [
        "s = 6\n",
        "\n",
        "m=s\n",
        "\n",
        "for i in range(s,0,-1):\n",
        "  for j in range(0,m):\n",
        "    print(end=\" \")\n",
        "  m += 1\n",
        "  for k in range(0,i):\n",
        "    print(\"*\",end=\" \")\n",
        "\n",
        "  print(\" \")"
      ],
      "metadata": {
        "colab": {
          "base_uri": "https://localhost:8080/"
        },
        "id": "y0PDib4NAfKx",
        "outputId": "d8a5f9d4-94bf-4337-a986-1ac912127e6d"
      },
      "execution_count": null,
      "outputs": [
        {
          "output_type": "stream",
          "name": "stdout",
          "text": [
            "      * * * * * *  \n",
            "       * * * * *  \n",
            "        * * * *  \n",
            "         * * *  \n",
            "          * *  \n",
            "           *  \n"
          ]
        }
      ]
    },
    {
      "cell_type": "code",
      "source": [
        "n = 5\n",
        "for i in range(1,n+1):\n",
        "  print(\" \" *n,end =\"\")\n",
        "  print(\"* \"*(i))\n",
        "  n-=1\n",
        "\n",
        "\n"
      ],
      "metadata": {
        "colab": {
          "base_uri": "https://localhost:8080/"
        },
        "id": "as1Qmi6TNSj5",
        "outputId": "4828e927-f58b-41f0-e791-6722a88590e8"
      },
      "execution_count": null,
      "outputs": [
        {
          "output_type": "stream",
          "name": "stdout",
          "text": [
            "     * \n",
            "    * * \n",
            "   * * * \n",
            "  * * * * \n",
            " * * * * * \n"
          ]
        }
      ]
    },
    {
      "cell_type": "code",
      "source": [
        "n=5\n",
        "for i in range(n+1,0,-1):\n",
        "  print(\" \" *n,end =\"\")\n",
        "  print(\"* \"*(i))\n",
        "  n+=1\n",
        "\n"
      ],
      "metadata": {
        "colab": {
          "base_uri": "https://localhost:8080/"
        },
        "id": "7-caZRA_OQFa",
        "outputId": "f151880d-8895-4844-9a3c-930d55e7a8dd"
      },
      "execution_count": null,
      "outputs": [
        {
          "output_type": "stream",
          "name": "stdout",
          "text": [
            "     * * * * * * \n",
            "      * * * * * \n",
            "       * * * * \n",
            "        * * * \n",
            "         * * \n",
            "          * \n"
          ]
        }
      ]
    },
    {
      "cell_type": "code",
      "source": [
        "n = 5\n",
        "for i in range(1,n+1):\n",
        "  print(\" \" *n,end =\"\")\n",
        "  print(\"* \"*(i))\n",
        "  n-=1\n",
        "m =5\n",
        "k=1\n",
        "for j in range(m,0,-1):\n",
        "  print(\" \"*k,end =\"\")\n",
        "  print(\"* \"*(j))\n",
        "  m+=1\n",
        "  k+=1"
      ],
      "metadata": {
        "colab": {
          "base_uri": "https://localhost:8080/"
        },
        "id": "sNE1BhkqV4n8",
        "outputId": "fab4b064-832e-415b-f711-41a8d4186811"
      },
      "execution_count": null,
      "outputs": [
        {
          "output_type": "stream",
          "name": "stdout",
          "text": [
            "     * \n",
            "    * * \n",
            "   * * * \n",
            "  * * * * \n",
            " * * * * * \n",
            " * * * * * \n",
            "  * * * * \n",
            "   * * * \n",
            "    * * \n",
            "     * \n"
          ]
        }
      ]
    },
    {
      "cell_type": "code",
      "source": [
        "n = 4\n",
        "for i in range(1,n+1):\n",
        "  print(\" \" *n,end =\"\")\n",
        "  print(\"* \"*(i))\n",
        "  n-=1\n",
        "m =3\n",
        "k=2\n",
        "for j in range(m,0,-1):\n",
        "  print(\" \"*k,end =\"\")\n",
        "  print(\"* \"*(j))\n",
        "  m+=1\n",
        "  k+=1"
      ],
      "metadata": {
        "id": "7t_zV4LPXBjw"
      },
      "execution_count": null,
      "outputs": []
    },
    {
      "cell_type": "markdown",
      "source": [
        "# mirrored pyramid no"
      ],
      "metadata": {
        "id": "nBlHze2NPVea"
      }
    },
    {
      "cell_type": "code",
      "source": [
        "a=5\n",
        "for i in range(1,6):\n",
        "   print(\"\"*a,end=\"\")\n",
        "   a-=1\n",
        "\n",
        "   for j in range(i):\n",
        "     print(j+1,end= \" \")\n",
        "     a-=1\n",
        "\n",
        "   print()"
      ],
      "metadata": {
        "colab": {
          "base_uri": "https://localhost:8080/"
        },
        "id": "d9ww4JLePYT1",
        "outputId": "6720b2f9-2843-4380-83c4-d4e2675cfcff"
      },
      "execution_count": null,
      "outputs": [
        {
          "output_type": "stream",
          "name": "stdout",
          "text": [
            "1 \n",
            "1 2 \n",
            "1 2 3 \n",
            "1 2 3 4 \n",
            "1 2 3 4 5 \n"
          ]
        }
      ]
    },
    {
      "cell_type": "markdown",
      "source": [
        "# Mirrored Pyramid"
      ],
      "metadata": {
        "id": "Wh7xl_2rFiWi"
      }
    },
    {
      "cell_type": "code",
      "source": [
        "for i in range(1,6):\n",
        "  num=1 #this is golbal scope for the program so it will always initialize to 1\n",
        "  for j in range(6,0,-1):\n",
        "    if j>i:\n",
        "      # print(\"round\",j)\n",
        "      print(\" \",end=\"\")\n",
        "\n",
        "    else:\n",
        "      # print(\"num\",num)\n",
        "      print(num,end=\"\")\n",
        "      num+=1      #this num will increment until it is inside the else condition and loop\n",
        "\n",
        "  print(\"\")"
      ],
      "metadata": {
        "colab": {
          "base_uri": "https://localhost:8080/"
        },
        "id": "8ObfVG6qxV-U",
        "outputId": "5bd3f3b7-637c-4caf-a055-d2cc96c49b6f"
      },
      "execution_count": null,
      "outputs": [
        {
          "output_type": "stream",
          "name": "stdout",
          "text": [
            "     1\n",
            "    12\n",
            "   123\n",
            "  1234\n",
            " 12345\n"
          ]
        }
      ]
    },
    {
      "cell_type": "markdown",
      "source": [
        "# Unique pattern pyramids"
      ],
      "metadata": {
        "id": "_8SqLTBbjAVW"
      }
    },
    {
      "cell_type": "code",
      "source": [
        "for i in range(1,9): #for no of rows\n",
        "\n",
        "  for j in range(1,i): #forward value\n",
        "\n",
        "    print(j,end= \"\")\n",
        "\n",
        "  for j in range(i,0,-1):  #reverse value\n",
        "    print(j,end=\"\")\n",
        "\n",
        "\n",
        "  print()"
      ],
      "metadata": {
        "colab": {
          "base_uri": "https://localhost:8080/"
        },
        "id": "YvWCu6PCgFIy",
        "outputId": "7895019e-3a43-4a18-e2bc-7cefb9f45813"
      },
      "execution_count": null,
      "outputs": [
        {
          "output_type": "stream",
          "name": "stdout",
          "text": [
            "1\n",
            "121\n",
            "12321\n",
            "1234321\n",
            "123454321\n",
            "12345654321\n",
            "1234567654321\n",
            "123456787654321\n"
          ]
        }
      ]
    },
    {
      "cell_type": "markdown",
      "source": [
        "# Connected inverted pyramid"
      ],
      "metadata": {
        "id": "LyT_xX-aogNh"
      }
    },
    {
      "cell_type": "code",
      "source": [
        "r=5\n",
        "for i in range(0,r): #for no of rows\n",
        "\n",
        "  for j in range(r,i,-1):\n",
        "\n",
        "    print(j,\"\",end= \"\")\n",
        "\n",
        "  for k in range(i,r):\n",
        "    print(k+1,\"\",end=\"\")\n",
        "\n",
        "\n",
        "  print()"
      ],
      "metadata": {
        "colab": {
          "base_uri": "https://localhost:8080/"
        },
        "id": "sqYoze6SjgIb",
        "outputId": "e03afd7c-0064-42d2-adc9-f5af7fc5563d"
      },
      "execution_count": null,
      "outputs": [
        {
          "output_type": "stream",
          "name": "stdout",
          "text": [
            "5 4 3 2 1 1 2 3 4 5 \n",
            "5 4 3 2 2 3 4 5 \n",
            "5 4 3 3 4 5 \n",
            "5 4 4 5 \n",
            "5 5 \n"
          ]
        }
      ]
    },
    {
      "cell_type": "markdown",
      "source": [
        "# reverse pyramid of no"
      ],
      "metadata": {
        "id": "aibZWzDtX6kp"
      }
    },
    {
      "cell_type": "code",
      "source": [
        "for i in range(6):\n",
        "  for j in range(i):\n",
        "\n",
        "\n"
      ],
      "metadata": {
        "colab": {
          "base_uri": "https://localhost:8080/"
        },
        "id": "M13pGpStX-6n",
        "outputId": "ae1c614b-8b1d-40a6-8c3e-7ff5f8535349"
      },
      "execution_count": null,
      "outputs": [
        {
          "output_type": "stream",
          "name": "stdout",
          "text": [
            "1\n",
            "22\n",
            "333\n",
            "4444\n"
          ]
        }
      ]
    },
    {
      "cell_type": "markdown",
      "source": [
        "to make this program easy"
      ],
      "metadata": {
        "id": "UqVknUYEfeLE"
      }
    },
    {
      "cell_type": "code",
      "source": [
        "start = 1\n",
        "\n",
        "stop = 2\n",
        "\n",
        "currentNumber = stop\n",
        "\n",
        "for row in range(2, 6):\n",
        "    # print(\"row:\",row)\n",
        "\n",
        "    for col in range(start, stop):\n",
        "        # print(\"round:\",start)\n",
        "\n",
        "        currentNumber -= 1\n",
        "        # print(\"current no:\",currentNumber)\n",
        "\n",
        "        print(currentNumber, end='')\n",
        "\n",
        "    print('')\n",
        "\n",
        "    start = stop\n",
        "    # print(\"start\",start)\n",
        "\n",
        "    stop += row\n",
        "    # print(\"stop:\",stop)\n",
        "\n",
        "    currentNumber = stop\n",
        "    # print(\"currentno:\",currentNumber)"
      ],
      "metadata": {
        "colab": {
          "base_uri": "https://localhost:8080/"
        },
        "id": "a37W5w-Tchcn",
        "outputId": "9fe0b9c3-88e1-4822-f323-7eb7a8ec1ae0"
      },
      "execution_count": null,
      "outputs": [
        {
          "output_type": "stream",
          "name": "stdout",
          "text": [
            "1\n",
            "32\n",
            "654\n",
            "10987\n"
          ]
        }
      ]
    },
    {
      "cell_type": "markdown",
      "source": [
        "# pyramid of alternate no"
      ],
      "metadata": {
        "id": "SY8Y-qD8FxN8"
      }
    },
    {
      "cell_type": "code",
      "source": [
        "a=1\n",
        "for i in range(1,6):\n",
        "\n",
        "  for j in range(i):\n",
        "    if a % 2 ==0:\n",
        "      pass\n",
        "    else:\n",
        "      print(a,end = \"\")\n",
        "\n",
        "  a+=1\n",
        "  print()\n",
        "\n",
        "\n",
        "\n",
        "\n",
        "\n",
        "\n",
        "\n",
        ""
      ],
      "metadata": {
        "colab": {
          "base_uri": "https://localhost:8080/"
        },
        "id": "lOCeklRCp72I",
        "outputId": "1c83d16b-90c5-41fe-f59e-51e0dc8dfc5e"
      },
      "execution_count": null,
      "outputs": [
        {
          "output_type": "stream",
          "name": "stdout",
          "text": [
            "1\n",
            "\n",
            "333\n",
            "\n",
            "55555\n"
          ]
        }
      ]
    },
    {
      "cell_type": "code",
      "source": [
        "r = 5\n",
        "i = 1\n",
        "\n",
        "while i <= r:\n",
        "  j = 1\n",
        "  while j<=i:\n",
        "    print((i*2-1),end=\" \")\n",
        "    j=j+1\n",
        "\n",
        "  i=i+1\n",
        "\n",
        "  print()"
      ],
      "metadata": {
        "colab": {
          "base_uri": "https://localhost:8080/"
        },
        "id": "1O9izU6sIcJ-",
        "outputId": "17bb0ef0-e2ca-4096-d3f3-0cfec2874f1a"
      },
      "execution_count": null,
      "outputs": [
        {
          "output_type": "stream",
          "name": "stdout",
          "text": [
            "1 \n",
            "3 3 \n",
            "5 5 5 \n",
            "7 7 7 7 \n",
            "9 9 9 9 9 \n"
          ]
        }
      ]
    },
    {
      "cell_type": "markdown",
      "source": [
        "# even no pyramid"
      ],
      "metadata": {
        "id": "4Jg7TZiWJr9S"
      }
    },
    {
      "cell_type": "code",
      "source": [
        "for i in range(1,6):\n",
        "  a = 10\n",
        "  for j in range(i):\n",
        "    print(a,end = \" \")\n",
        "    a-=2\n",
        "\n",
        "  print()"
      ],
      "metadata": {
        "colab": {
          "base_uri": "https://localhost:8080/"
        },
        "id": "7GlN0bzUJupu",
        "outputId": "10ff1fea-bc5b-45e0-dd6f-cd3591849998"
      },
      "execution_count": null,
      "outputs": [
        {
          "output_type": "stream",
          "name": "stdout",
          "text": [
            "10 \n",
            "10 8 \n",
            "10 8 6 \n",
            "10 8 6 4 \n",
            "10 8 6 4 2 \n"
          ]
        }
      ]
    },
    {
      "cell_type": "markdown",
      "source": [
        "# Hollow rectangle"
      ],
      "metadata": {
        "id": "V5Sv0jFhMCa-"
      }
    },
    {
      "cell_type": "code",
      "source": [
        "for i in range(10): #actual 0 to 9\n",
        "  for j in range(10): #actual 0 to 9\n",
        "    if (i == 0 or j == 0 or i == 9 or j == 9 ):\n",
        "      print(\"*\",end = \" \")\n",
        "    else:\n",
        "      print(\" \",end = \" \")\n",
        "\n",
        "  print()"
      ],
      "metadata": {
        "colab": {
          "base_uri": "https://localhost:8080/"
        },
        "id": "7eaW-Gp3MCLw",
        "outputId": "3c4cb784-06fa-41a3-b959-da49b87be9db"
      },
      "execution_count": null,
      "outputs": [
        {
          "output_type": "stream",
          "name": "stdout",
          "text": [
            "* * * * * * * * * * \n",
            "*                 * \n",
            "*                 * \n",
            "*                 * \n",
            "*                 * \n",
            "*                 * \n",
            "*                 * \n",
            "*                 * \n",
            "*                 * \n",
            "* * * * * * * * * * \n"
          ]
        }
      ]
    },
    {
      "cell_type": "markdown",
      "source": [
        "# Hollow Triangle"
      ],
      "metadata": {
        "id": "ZAGw9beoVTzx"
      }
    },
    {
      "cell_type": "code",
      "source": [
        "n=5\n",
        "for i in range(1,n+1):\n",
        "  for j in range(1,2*n):\n",
        "    if (i == n or i+j == n+1 or j-i == n-1):\n",
        "      print(i,end=\" \")\n",
        "    else:\n",
        "      print(end=\"  \")\n",
        "  print()"
      ],
      "metadata": {
        "colab": {
          "base_uri": "https://localhost:8080/"
        },
        "id": "2hleiIi6VXTT",
        "outputId": "2a609b73-4ceb-4011-e684-396182eea2aa"
      },
      "execution_count": null,
      "outputs": [
        {
          "output_type": "stream",
          "name": "stdout",
          "text": [
            "        1         \n",
            "      2   2       \n",
            "    3       3     \n",
            "  4           4   \n",
            "5 5 5 5 5 5 5 5 5 \n"
          ]
        }
      ]
    },
    {
      "cell_type": "markdown",
      "source": [
        "# Printing Characters"
      ],
      "metadata": {
        "id": "oXq1SioV_IfB"
      }
    },
    {
      "cell_type": "code",
      "source": [
        "for i in range(65,91):\n",
        "  print(chr(i),end=\" \")"
      ],
      "metadata": {
        "colab": {
          "base_uri": "https://localhost:8080/"
        },
        "id": "qtVEfxPZ_Enm",
        "outputId": "f2fb43dd-ad4e-440a-aa69-53eaae0a34a2"
      },
      "execution_count": null,
      "outputs": [
        {
          "output_type": "stream",
          "name": "stdout",
          "text": [
            "A B C D E F G H I J K L M N O P Q R S T U V W X Y Z "
          ]
        }
      ]
    },
    {
      "cell_type": "code",
      "source": [
        "a=0\n",
        "for i in range(5):\n",
        "  for j in range(5):\n",
        "    print(chr(65+a),end=\" \")\n",
        "    a+=1                    #because a i global here so a will store the value\n",
        "  print()"
      ],
      "metadata": {
        "colab": {
          "base_uri": "https://localhost:8080/"
        },
        "id": "7vCCYtcB_Z1n",
        "outputId": "f5d3a6ab-690a-4a25-8d39-e3795fd5e921"
      },
      "execution_count": null,
      "outputs": [
        {
          "output_type": "stream",
          "name": "stdout",
          "text": [
            "A B C D E \n",
            "F G H I J \n",
            "K L M N O \n",
            "P Q R S T \n",
            "U V W X Y \n"
          ]
        }
      ]
    },
    {
      "cell_type": "code",
      "source": [
        "for i in range(5):\n",
        "  for j in range(5):\n",
        "    print(chr(65+i),end= \" \")\n",
        "  print()"
      ],
      "metadata": {
        "colab": {
          "base_uri": "https://localhost:8080/"
        },
        "id": "ZYKNyddoAHgh",
        "outputId": "e7027f60-554d-4c61-917c-42ef193ba143"
      },
      "execution_count": null,
      "outputs": [
        {
          "output_type": "stream",
          "name": "stdout",
          "text": [
            "A A A A A \n",
            "B B B B B \n",
            "C C C C C \n",
            "D D D D D \n",
            "E E E E E \n"
          ]
        }
      ]
    },
    {
      "cell_type": "code",
      "source": [
        "for i in range(5):\n",
        "  for j in range(5):\n",
        "    print(chr(65+j),end= \" \")\n",
        "  print()"
      ],
      "metadata": {
        "colab": {
          "base_uri": "https://localhost:8080/"
        },
        "id": "oijkC8YiBanY",
        "outputId": "6e2a09ea-638a-41aa-e416-e19cff6560d9"
      },
      "execution_count": null,
      "outputs": [
        {
          "output_type": "stream",
          "name": "stdout",
          "text": [
            "A B C D E \n",
            "A B C D E \n",
            "A B C D E \n",
            "A B C D E \n",
            "A B C D E \n"
          ]
        }
      ]
    },
    {
      "cell_type": "code",
      "source": [
        "for i in range(5):\n",
        "  for j in range(1+i):\n",
        "    print(chr(65+j),end= \" \")\n",
        "  print()"
      ],
      "metadata": {
        "colab": {
          "base_uri": "https://localhost:8080/"
        },
        "id": "vh8ZFnC6BidD",
        "outputId": "253c7f0c-0bfc-4944-9a08-4de6e5c3ada8"
      },
      "execution_count": null,
      "outputs": [
        {
          "output_type": "stream",
          "name": "stdout",
          "text": [
            "A \n",
            "A B \n",
            "A B C \n",
            "A B C D \n",
            "A B C D E \n"
          ]
        }
      ]
    },
    {
      "cell_type": "code",
      "source": [
        "a=5\n",
        "for i in range(a):\n",
        "  for j in range(1,a-i):\n",
        "    print(\" \",end=\"\")\n",
        "  for k in range(i+1):\n",
        "    print(chr(65+k), end=\"\")\n",
        "  print()\n",
        ""
      ],
      "metadata": {
        "colab": {
          "base_uri": "https://localhost:8080/"
        },
        "id": "erXFK-iIDMFH",
        "outputId": "1c32885d-ddc4-43a9-bd0c-f6c93a6db990"
      },
      "execution_count": null,
      "outputs": [
        {
          "output_type": "stream",
          "name": "stdout",
          "text": [
            "    A\n",
            "   AB\n",
            "  ABC\n",
            " ABCD\n",
            "ABCDE\n"
          ]
        }
      ]
    },
    {
      "cell_type": "code",
      "source": [
        "n = 6\n",
        "\n",
        "for i in range(1, n+1):\n",
        "  count=0\n",
        "  for j in range(i):\n",
        "\n",
        "    if j == 0 or j== i-1:\n",
        "      print(chr(65+count),end=\"\")\n",
        "      count+= 1\n",
        "\n",
        "    else:\n",
        "      if i != n:\n",
        "        print(\" \",end = \"\")\n",
        "\n",
        "      else:\n",
        "        print(chr(65+count),end=\"\")\n",
        "        count += 1\n",
        "\n",
        "  print()\n",
        "\n"
      ],
      "metadata": {
        "colab": {
          "base_uri": "https://localhost:8080/"
        },
        "id": "bmDGbiajDL7k",
        "outputId": "ab491206-134c-4fea-a5b8-3e84628e37ec"
      },
      "execution_count": null,
      "outputs": [
        {
          "output_type": "stream",
          "name": "stdout",
          "text": [
            "A\n",
            "AB\n",
            "A B\n",
            "A  B\n",
            "A   B\n",
            "ABCDEF\n"
          ]
        }
      ]
    },
    {
      "cell_type": "code",
      "source": [
        "n=5\n",
        "for i in range(n):\n",
        "  for j in range(n-i-1):\n",
        "    print(\" \",end=\"\")\n",
        "  for k in range(2*i+1):  #odd no using the general formula\n",
        "    print(chr(65+k),end=\"\")\n",
        "  print()"
      ],
      "metadata": {
        "colab": {
          "base_uri": "https://localhost:8080/"
        },
        "id": "eLbqV-47DL3T",
        "outputId": "ea983657-e8b7-4e2f-be53-34f953f5e741"
      },
      "execution_count": null,
      "outputs": [
        {
          "output_type": "stream",
          "name": "stdout",
          "text": [
            "    A\n",
            "   ABC\n",
            "  ABCDE\n",
            " ABCDEFG\n",
            "ABCDEFGHI\n"
          ]
        }
      ]
    },
    {
      "cell_type": "code",
      "source": [
        "# Python implementation to print the\n",
        "# pattern of alphabets A to Z using *\n",
        "\n",
        "# Below height and width variable can be used\n",
        "# to create a user-defined sized alphabet's pattern\n",
        "\n",
        "# Number of lines for the alphabet's pattern\n",
        "\n",
        "height = 5\n",
        "\n",
        "# Number of character width in each line\n",
        "\n",
        "width = (2 * height) - 1\n",
        "\n",
        "# Function to find the absolute value\n",
        "# of a number D\n",
        "def abs(d):\n",
        "    if d < 0:\n",
        "        return -1*d\n",
        "    else:\n",
        "        return d\n",
        "\n",
        "# Function to print the pattern of 'A'\n",
        "\n",
        "def printA():\n",
        "\n",
        "    n = width // 2\n",
        "    for i in range(0, height):\n",
        "        for j in range(0, width+1):\n",
        "            if (j == n or j == (width - n) or (i == (height // 2) and j > n and j < (width - n))):\n",
        "                print(\"*\", end=\"\")\n",
        "            else:\n",
        "                print(end=\" \")\n",
        "        print()\n",
        "        n = n-1\n",
        "\n",
        "\n",
        "\n",
        "\n",
        "# Function to print the pattern of 'B'\n",
        "def printB() :\n",
        "    half = height // 2\n",
        "\n",
        "    for i in range(0,height) :\n",
        "        print(\"*\",end=\"\")\n",
        "        for j in range(0,width) :\n",
        "            if ((i == 0 or i == height - 1 or i == half) and j < (width - 2)) :\n",
        "                print(\"*\",end=\"\")\n",
        "            elif (j == (width - 2) and not(i == 0 or i == height - 1 or i == half)) :\n",
        "                print(\"*\",end=\"\")\n",
        "            else :\n",
        "                print(end=\" \")\n",
        "        print()\n",
        "\n",
        "\n",
        "\n",
        "\n",
        "# Function to print the pattern of 'C'\n",
        "def printC() :\n",
        "\n",
        "    for i in range(0,height) :\n",
        "        print(\"*\",end=\"\")\n",
        "        for j in range(0,height - 1) :\n",
        "            if (i == 0 or i == height - 1 ) :\n",
        "                print(\"*\",end=\"\")\n",
        "            else :\n",
        "                continue\n",
        "        print()\n",
        "\n",
        "\n",
        "\n",
        "\n",
        "\n",
        "# Function to print the pattern of 'D'\n",
        "def printD() :\n",
        "\n",
        "    for i in range(0,height) :\n",
        "        print(\"*\",end=\"\")\n",
        "        for j in range(0,height) :\n",
        "            if ( (i == 0 or i == height - 1) and j < height - 1 ):\n",
        "                print(\"*\",end=\"\")\n",
        "            elif (j == height - 1 and i != 0 and i != height - 1) :\n",
        "                print(\"*\",end=\"\")\n",
        "            else :\n",
        "                print(end=\" \")\n",
        "        print()\n",
        "\n",
        "\n",
        "\n",
        "\n",
        "\n",
        "def printE() :\n",
        "\n",
        "    for i in range(0,height) :\n",
        "        print(\"*\",end=\"\")\n",
        "        for j in range(0,height) :\n",
        "            if ( (i == 0 or i == height - 1) or (i == height // 2 and j <= height // 2) ):\n",
        "                print(\"*\",end=\"\")\n",
        "            else :\n",
        "                continue\n",
        "        print()\n",
        "\n",
        "\n",
        "\n",
        "\n",
        "\n",
        "# Function to print the pattern of 'F'\n",
        "def printF() :\n",
        "\n",
        "    for i in range(0,height) :\n",
        "        print(\"*\",end=\"\")\n",
        "        for j in range(0,height) :\n",
        "            if ( (i == 0) or (i == height // 2 and j <= height // 2) ):\n",
        "                print(\"*\",end=\"\")\n",
        "            else :\n",
        "                continue\n",
        "        print()\n",
        "\n",
        "\n",
        "\n",
        "\n",
        "\n",
        "# Function to print the pattern of 'G'\n",
        "def printG() :\n",
        "\n",
        "    for i in range(0,height) :\n",
        "        for j in range(0,width-1) :\n",
        "            if ((i == 0 or i == height - 1) and (j == 0 or j == width - 2)) :\n",
        "                print(end=\" \")\n",
        "            elif (j == 0) :\n",
        "                print(\"*\",end=\"\")\n",
        "            elif (i == 0 and j <= height) :\n",
        "                print(\"*\",end=\"\")\n",
        "            elif (i == height // 2 and j > height // 2) :\n",
        "                print(\"*\",end=\"\")\n",
        "            elif (i > height // 2 and j == width - 2) :\n",
        "                print(\"*\",end=\"\")\n",
        "            elif (i == height - 1 and j < width - 1 ) :\n",
        "                print(\"*\",end=\"\")\n",
        "            else :\n",
        "                print(end=\" \")\n",
        "        print()\n",
        "\n",
        "\n",
        "\n",
        "\n",
        "# Function to print the pattern of 'H'\n",
        "def printH() :\n",
        "\n",
        "    for i in range(0,height) :\n",
        "        print(\"*\",end=\"\")\n",
        "        for j in range(0,height) :\n",
        "            if ( (j == height - 1) or (i == height // 2) ):\n",
        "                print(\"*\",end=\"\")\n",
        "            else :\n",
        "                print(end=\" \")\n",
        "        print()\n",
        "\n",
        "\n",
        "\n",
        "\n",
        "# Function to print the pattern of 'I'\n",
        "def printI() :\n",
        "\n",
        "    for i in range(0,height) :\n",
        "        for j in range(0,height) :\n",
        "            if ( i == 0 or i == height - 1 ):\n",
        "                print(\"*\",end=\"\")\n",
        "            elif ( j == height // 2 ) :\n",
        "                print(\"*\",end=\"\")\n",
        "            else :\n",
        "                print(end=\" \")\n",
        "        print()\n",
        "\n",
        "\n",
        "\n",
        "# Function to print the pattern of 'J'\n",
        "def printJ() :\n",
        "\n",
        "    for i in range(0,height) :\n",
        "        for j in range(0,height) :\n",
        "            if ( i == height - 1 and (j > 0 and j < height - 1) ):\n",
        "                print(\"*\",end=\"\")\n",
        "            elif ( (j == height - 1 and i != height - 1) or (i > (height // 2) - 1 and j == 0 and i != height - 1) ) :\n",
        "                print(\"*\",end=\"\")\n",
        "            else :\n",
        "                print(end=\" \")\n",
        "        print()\n",
        "\n",
        "\n",
        "\n",
        "\n",
        "# Function to print the pattern of 'K'\n",
        "def printK() :\n",
        "    half = height // 2\n",
        "    dummy = half\n",
        "    for i in range(0,height) :\n",
        "        print(\"*\",end=\"\")\n",
        "        for j in range(0,half+1) :\n",
        "            if ( j == abs(dummy) ):\n",
        "                print(\"*\",end=\"\")\n",
        "            else :\n",
        "                print(end=\" \")\n",
        "        print()\n",
        "        dummy = dummy -1\n",
        "\n",
        "\n",
        "\n",
        "# Function to print the pattern of 'L'\n",
        "def printL() :\n",
        "\n",
        "    for i in range(0,height) :\n",
        "        print(\"*\",end=\"\")\n",
        "        for j in range(0,height+1) :\n",
        "            if ( i == height - 1 ):\n",
        "                print(\"*\",end=\"\")\n",
        "            else :\n",
        "                print(end=\" \")\n",
        "        print()\n",
        "\n",
        "\n",
        "\n",
        "\n",
        "# Function to print the pattern of 'M'\n",
        "def printM() :\n",
        "    counter = 0\n",
        "    for i in range(0,height) :\n",
        "        print(\"*\",end=\"\")\n",
        "        for j in range(0,height+1) :\n",
        "            if ( j == height ):\n",
        "                print(\"*\",end=\"\")\n",
        "            elif ( j == counter or j == height - counter - 1 ) :\n",
        "                print(\"*\",end=\"\")\n",
        "            else :\n",
        "                print(end=\" \")\n",
        "        if(counter == height // 2) :\n",
        "            counter = -99999\n",
        "        else :\n",
        "            counter = counter + 1\n",
        "\n",
        "        print()\n",
        "\n",
        "\n",
        "\n",
        "\n",
        "# Function to print the pattern of 'N'\n",
        "def printN() :\n",
        "    counter = 0\n",
        "    for i in range(0,height) :\n",
        "        print(\"*\",end=\"\")\n",
        "        for j in range(0,height+1) :\n",
        "            if ( j == height ):\n",
        "                print(\"*\",end=\"\")\n",
        "            elif ( j == counter) :\n",
        "                print(\"*\",end=\"\")\n",
        "            else :\n",
        "                print(end=\" \")\n",
        "        counter = counter + 1\n",
        "        print()\n",
        "\n",
        "\n",
        "\n",
        "\n",
        "# Function to print the pattern of 'O'\n",
        "def printO() :\n",
        "    space = height // 3\n",
        "    width = height // 2 + height // 5 + space + space\n",
        "    for i in range(0,height) :\n",
        "        for j in range(0,width + 1) :\n",
        "            if ( j == width - abs(space) or j == abs(space)):\n",
        "                print(\"*\",end=\"\")\n",
        "            elif( (i == 0 or i == height - 1) and j > abs(space) and j < width - abs(space) ) :\n",
        "                print(\"*\",end=\"\")\n",
        "            else :\n",
        "                print(end=\" \")\n",
        "\n",
        "        if( space != 0 and i < height // 2) :\n",
        "            space = space -1\n",
        "        elif ( i >= (height // 2 + height // 5) ) :\n",
        "            space = space -1\n",
        "\n",
        "        print()\n",
        "\n",
        "\n",
        "\n",
        "# Function to print the pattern of 'P'\n",
        "def printP() :\n",
        "    for i in range(0,height) :\n",
        "        print(\"*\",end=\"\")\n",
        "        for j in range(0,height) :\n",
        "            if ( (i == 0 or i == height // 2) and j < height - 1 ):\n",
        "                print(\"*\",end=\"\")\n",
        "            elif ( i < height // 2 and j == height - 1 and i != 0 ) :\n",
        "                print(\"*\",end=\"\")\n",
        "            else :\n",
        "                print(end=\" \")\n",
        "        print()\n",
        "\n",
        "\n",
        "\n",
        " # Function to print the pattern of 'Q'\n",
        "def printQ() :\n",
        "    printO()\n",
        "    d = height\n",
        "    for i in range(0,height//2) :\n",
        "        for j in range(0,d+1) :\n",
        "            if ( j == d ):\n",
        "                print(\"*\",end=\"\")\n",
        "            else :\n",
        "                print(end=\" \")\n",
        "        print()\n",
        "        d = d+1\n",
        "\n",
        "\n",
        "\n",
        " # Function to print the pattern of 'R'\n",
        "def printR() :\n",
        "    half = (height // 2)\n",
        "    for i in range(0,height) :\n",
        "        print(\"*\",end=\"\")\n",
        "        for j in range(0,width) :\n",
        "            if ( (i == 0 or i == half) and j < (width - 2) ):\n",
        "                print(\"*\",end=\"\")\n",
        "            elif ( j == (width - 2) and not(i == 0 or i == half) ) :\n",
        "                print(\"*\",end=\"\")\n",
        "            else :\n",
        "                print(end=\" \")\n",
        "        print()\n",
        "\n",
        "\n",
        "\n",
        "# Function to print the pattern of 'S'\n",
        "def printS() :\n",
        "    for i in range(0,height) :\n",
        "        for j in range(0,height) :\n",
        "            if ( (i == 0 or i == height // 2 or i == height - 1) ):\n",
        "                print(\"*\",end=\"\")\n",
        "            elif ( i < height // 2 and j == 0 ) :\n",
        "                print(\"*\",end=\"\")\n",
        "            elif ( i > height // 2 and j == height - 1 ) :\n",
        "                print(\"*\",end=\"\")\n",
        "            else :\n",
        "                print(end=\" \")\n",
        "        print()\n",
        "\n",
        "\n",
        "\n",
        "\n",
        "# Function to print the pattern of 'T'\n",
        "def printT() :\n",
        "    for i in range(0,height) :\n",
        "        for j in range(0,height) :\n",
        "            if ( i == 0 ):\n",
        "                print(\"*\",end=\"\")\n",
        "            elif ( j == height // 2 ) :\n",
        "                print(\"*\",end=\"\")\n",
        "            else :\n",
        "                print(end=\" \")\n",
        "        print()\n",
        "\n",
        "\n",
        "\n",
        "\n",
        "# Function to print the pattern of 'U'\n",
        "def printU() :\n",
        "    for i in range(0,height) :\n",
        "        if (i != 0 and i != height - 1) :\n",
        "            print(\"*\",end=\"\")\n",
        "        else :\n",
        "            print(end = \" \")\n",
        "        for j in range(0,height) :\n",
        "            if ( ((i == height - 1) and j >= 0 and j < height - 1) ):\n",
        "                print(\"*\",end=\"\")\n",
        "            elif ( j == height - 1 and i != 0 and i != height - 1 ) :\n",
        "                print(\"*\",end=\"\")\n",
        "            else :\n",
        "                print(end=\" \")\n",
        "        print()\n",
        "\n",
        "\n",
        "\n",
        "\n",
        "# Function to print the pattern of 'V'\n",
        "def printV() :\n",
        "    counter = 0\n",
        "    for i in range(0,height) :\n",
        "        for j in range(0,width+1) :\n",
        "            if ( j == counter or j == width - counter - 1 ):\n",
        "                print(\"*\",end=\"\")\n",
        "            else :\n",
        "                print(end=\" \")\n",
        "\n",
        "        counter = counter + 1\n",
        "        print()\n",
        "\n",
        "\n",
        "\n",
        "\n",
        "# Function to print the pattern of 'W'\n",
        "def printW() :\n",
        "    counter = height // 2\n",
        "    for i in range(0,height) :\n",
        "        print(\"*\",end=\"\")\n",
        "        for j in range(0,height+1) :\n",
        "            if ( j == height ):\n",
        "                print(\"*\",end=\"\")\n",
        "            elif ( (i >= height // 2) and (j == counter or j == height - counter - 1) ) :\n",
        "                print(\"*\",end=\"\")\n",
        "            else :\n",
        "                print(end=\" \")\n",
        "        if( i >= height // 2) :\n",
        "            counter = counter + 1\n",
        "        print()\n",
        "\n",
        "\n",
        "\n",
        "\n",
        "# Function to print the pattern of 'X'\n",
        "def printX() :\n",
        "    counter = 0\n",
        "    for i in range(0,height+1) :\n",
        "        for j in range(0,height+1) :\n",
        "            if ( j == counter or j == height - counter ):\n",
        "                print(\"*\",end=\"\")\n",
        "            else :\n",
        "                print(end=\" \")\n",
        "        counter = counter + 1\n",
        "        print()\n",
        "\n",
        "\n",
        "\n",
        "\n",
        " # Function to print the pattern of 'Y'\n",
        "def printY() :\n",
        "    counter = 0\n",
        "    for i in range(0,height) :\n",
        "        for j in range(0,height+1) :\n",
        "            if ( j == counter or (j == height - counter and i <= height // 2 )):\n",
        "                print(\"*\",end=\"\")\n",
        "            else :\n",
        "                print(end=\" \")\n",
        "        print()\n",
        "        if (i < height // 2) :\n",
        "            counter = counter + 1\n",
        "\n",
        "\n",
        "\n",
        "\n",
        "# Function to print the pattern of 'Z'\n",
        "def printZ() :\n",
        "    counter = height - 1\n",
        "    for i in range(0,height) :\n",
        "        for j in range(0,height) :\n",
        "            if ( i == 0 or i == height - 1 or j == counter ):\n",
        "                print(\"*\",end=\"\")\n",
        "            else :\n",
        "                print(end=\" \")\n",
        "        counter = counter - 1\n",
        "        print()\n",
        "\n",
        "\n",
        "\n",
        "\n",
        "\n",
        "\n",
        "# Function print the pattern of the\n",
        "# alphabets from A to Z\n",
        "\n",
        "def printPattern(character) :\n",
        "\n",
        "    if character == 'A' : return  printA()\n",
        "    elif character == 'B': return printB()\n",
        "    elif character == 'C': return printC()\n",
        "    elif character == 'D': return printD()\n",
        "    elif character == 'E': return printE()\n",
        "    elif character == 'F': return printF(),\n",
        "    elif character == 'G': return printG(),\n",
        "    elif character == 'H': return printH(),\n",
        "    elif character == 'I': return printI(),\n",
        "    elif character == 'J': return printJ(),\n",
        "    elif character == 'K': return printK(),\n",
        "    elif character == 'L': return printL(),\n",
        "    elif character == 'M': return printM(),\n",
        "    elif character == 'N': return printN(),\n",
        "    elif character == 'O': return printO(),\n",
        "    elif character == 'P': return printP(),\n",
        "    elif character == 'Q': return printQ(),\n",
        "    elif character == 'R': return printR(),\n",
        "    elif character == 'S': return printS(),\n",
        "    elif character == 'T': return printT(),\n",
        "    elif character == 'U': return printU(),\n",
        "    elif character == 'V': return printV(),\n",
        "    elif character == 'W': return printW(),\n",
        "    elif character == 'X': return printX(),\n",
        "    elif character == 'Y': return printY(),\n",
        "    elif character == 'Z': return printZ(),\n",
        "    else:\n",
        "      print(\"Invalid Character! Try again!\")\n",
        "\n",
        "\n",
        "\n",
        "\n",
        "\n",
        "\n",
        "\n",
        "# Driver Code\n",
        "if __name__ == \"__main__\":\n",
        "    character ='Y'\n",
        "    printPattern(character)\n",
        ""
      ],
      "metadata": {
        "colab": {
          "base_uri": "https://localhost:8080/"
        },
        "id": "IH-whRoOPmDq",
        "outputId": "afee1a0c-f9d3-411b-f0f7-8cfecca742d2"
      },
      "execution_count": null,
      "outputs": [
        {
          "output_type": "stream",
          "name": "stdout",
          "text": [
            "*    *\n",
            " *  * \n",
            "  **  \n",
            "  *   \n",
            "  *   \n"
          ]
        }
      ]
    },
    {
      "cell_type": "code",
      "source": [
        "a = \"KRISHNA\"\n",
        "\n",
        "b= list(a)\n",
        "for i in b:\n",
        "  print(i,end=\"\")\n"
      ],
      "metadata": {
        "colab": {
          "base_uri": "https://localhost:8080/"
        },
        "id": "H8j-5IRBT62i",
        "outputId": "844fbc97-81f7-4adc-9bad-48afd448f4f5"
      },
      "execution_count": null,
      "outputs": [
        {
          "output_type": "stream",
          "name": "stdout",
          "text": [
            "KRISHNA"
          ]
        }
      ]
    }
  ]
}