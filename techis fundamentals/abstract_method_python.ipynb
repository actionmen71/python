{
  "nbformat": 4,
  "nbformat_minor": 0,
  "metadata": {
    "colab": {
      "provenance": []
    },
    "kernelspec": {
      "name": "python3",
      "display_name": "Python 3"
    },
    "language_info": {
      "name": "python"
    }
  },
  "cells": [
    {
      "cell_type": "code",
      "execution_count": null,
      "metadata": {
        "colab": {
          "base_uri": "https://localhost:8080/",
          "height": 36
        },
        "id": "wGHDQrpKTWO0",
        "outputId": "28f22075-9dd3-45b3-eb45-d25132267ab8"
      },
      "outputs": [
        {
          "output_type": "execute_result",
          "data": {
            "text/plain": [
              "'o '"
            ],
            "application/vnd.google.colaboratory.intrinsic+json": {
              "type": "string"
            }
          },
          "metadata": {},
          "execution_count": 1
        }
      ],
      "source": [
        "d = 'bl_d_ of dis_a_r'\n",
        "d[6:9:2]"
      ]
    },
    {
      "cell_type": "code",
      "source": [
        "b = [\"cut\",1,\"apple\",\"and distribute\", \"in\", 4,\"slices\"]\n",
        "\n",
        "b[3] = \"devide\"\n",
        "b[-3] = 9\n",
        "b[2] = \"appie\"\n",
        "print(b)"
      ],
      "metadata": {
        "colab": {
          "base_uri": "https://localhost:8080/"
        },
        "id": "NQ9pXX3RUcSO",
        "outputId": "6fbc5c29-8fd3-43e4-ca85-2f68f826e15b"
      },
      "execution_count": null,
      "outputs": [
        {
          "output_type": "stream",
          "name": "stdout",
          "text": [
            "['cut', 1, 'appie', 'devide', 9, 4, 'slices']\n"
          ]
        }
      ]
    },
    {
      "cell_type": "code",
      "source": [
        "class A():\n",
        "  def __init__(self,count=100):\n",
        "    self.count =count\n",
        "\n",
        "obj1 = A()\n",
        "obj2 = A(102)\n",
        "print(obj1.count)\n",
        "print(obj2.count)\n"
      ],
      "metadata": {
        "colab": {
          "base_uri": "https://localhost:8080/"
        },
        "id": "lXUv6bx9VpLg",
        "outputId": "a9990b99-cca8-4424-ea3b-a093e2730101"
      },
      "execution_count": null,
      "outputs": [
        {
          "output_type": "stream",
          "name": "stdout",
          "text": [
            "100\n",
            "102\n"
          ]
        }
      ]
    },
    {
      "cell_type": "code",
      "source": [
        "x = 587.343\n",
        "print(type(x))\n",
        "\n",
        "y = float(587.343)\n",
        "print(type(y))"
      ],
      "metadata": {
        "colab": {
          "base_uri": "https://localhost:8080/"
        },
        "id": "Mi-TDCJRWNtl",
        "outputId": "2e2fdf2c-67ca-4964-9849-16c09b350d6d"
      },
      "execution_count": null,
      "outputs": [
        {
          "output_type": "stream",
          "name": "stdout",
          "text": [
            "<class 'float'>\n",
            "<class 'float'>\n"
          ]
        }
      ]
    },
    {
      "cell_type": "code",
      "source": [
        "class Road:\n",
        "  def Highway(self):\n",
        "    pass\n",
        "  def Express(self):\n",
        "    pass"
      ],
      "metadata": {
        "id": "QQ6PWMn5Wahk"
      },
      "execution_count": null,
      "outputs": []
    },
    {
      "cell_type": "markdown",
      "source": [
        "armstrong   reverse tsring interface"
      ],
      "metadata": {
        "id": "szteXrIkZAVC"
      }
    },
    {
      "cell_type": "code",
      "source": [
        "#reverse string\n",
        "\n",
        "string1 = \"abcdef\"\n",
        "string2 = string1[::-1]\n",
        "print(string2)\n",
        "\n",
        "\n"
      ],
      "metadata": {
        "colab": {
          "base_uri": "https://localhost:8080/"
        },
        "id": "g4NuxtvhZTeI",
        "outputId": "e35fe286-abfe-4319-9a71-4003008232e0"
      },
      "execution_count": null,
      "outputs": [
        {
          "output_type": "stream",
          "name": "stdout",
          "text": [
            "fedcba\n"
          ]
        }
      ]
    },
    {
      "cell_type": "code",
      "source": [
        "#armstrong\n",
        "\n",
        "n = int(input(\"enter a no:\"))\n",
        "order = len(str(n))\n",
        "sum = 0\n",
        "temp = n\n",
        "\n",
        "while temp > 0 :\n",
        "  digit = temp % 10\n",
        "  sum = sum + digit ** order\n",
        "  temp = temp // 10\n",
        "\n",
        "if n == sum:\n",
        "  print(\"Armstrong no\")\n",
        "\n",
        "else:\n",
        "  print(\"not armstrong\")"
      ],
      "metadata": {
        "colab": {
          "base_uri": "https://localhost:8080/"
        },
        "id": "FyZIGSc6ZjEf",
        "outputId": "d452960a-7723-4623-f76c-5c143bcae6de"
      },
      "execution_count": null,
      "outputs": [
        {
          "output_type": "stream",
          "name": "stdout",
          "text": [
            "enter a no:153\n",
            "Armstrong no\n"
          ]
        }
      ]
    },
    {
      "cell_type": "code",
      "source": [
        "# interface\n",
        "# wrong program\n",
        "\n",
        "from abc import ABC, abstractmethod\n",
        "\n",
        "class PAM(ABC):\n",
        "  def __init__(self):\n",
        "    pass\n",
        "\n",
        "  @abstractmethod\n",
        "  def move(self):\n",
        "    pass\n",
        "\n",
        "class BB(PAM):\n",
        "  def __init__(self):\n",
        "    print(\"good\")\n",
        "\n",
        "  def move(self):\n",
        "    print(\"Hi\")\n",
        "\n",
        "class BD(PAM):\n",
        "  def __init__(self):\n",
        "    print(\"good1\")\n",
        "  def move(self):\n",
        "    print(\"How are you\")\n",
        "\n",
        "first = BB()\n",
        "second = BD()\n",
        "\n",
        "first.move()\n",
        "second.move()"
      ],
      "metadata": {
        "colab": {
          "base_uri": "https://localhost:8080/"
        },
        "id": "ld43lZOvaqoZ",
        "outputId": "68004cd8-479a-4167-e376-0ed107c3be38"
      },
      "execution_count": null,
      "outputs": [
        {
          "output_type": "stream",
          "name": "stdout",
          "text": [
            "good\n",
            "good1\n",
            "Hi\n",
            "How are you\n"
          ]
        }
      ]
    },
    {
      "cell_type": "code",
      "source": [
        "import abc\n",
        "\n",
        "class Father(abc.ABC):\n",
        "  @abc.abstractmethod\n",
        "  def first(self):\n",
        "    pass\n",
        "\n",
        "\n",
        "class Mother(abc.ABC):\n",
        "  @abc.abstractmethod\n",
        "  def second(self):\n",
        "    pass\n",
        "\n",
        "class Child1(Father,Mother):\n",
        "  def first(self):\n",
        "    print(\"run\")\n",
        "  def second(self):\n",
        "    print(\"fast\")\n",
        "\n",
        "\n",
        "\n",
        "f = Child1()\n",
        "f.first()\n",
        "f.second()\n",
        "\n",
        "\n",
        "\n",
        "\n",
        "\n"
      ],
      "metadata": {
        "colab": {
          "base_uri": "https://localhost:8080/"
        },
        "id": "CTd92JmFc3HE",
        "outputId": "85b980c8-c017-4c3a-9b60-515d824c68bb"
      },
      "execution_count": null,
      "outputs": [
        {
          "output_type": "stream",
          "name": "stdout",
          "text": [
            "run\n",
            "fast\n"
          ]
        }
      ]
    },
    {
      "cell_type": "code",
      "source": [
        "class Parent:\n",
        "  def __init__(self,name,age):\n",
        "    self.age = age\n",
        "    self.name = name\n",
        "\n",
        "  def print_name(self):\n",
        "    print(\"your name is:\",self.name)\n",
        "  def print_age(self):\n",
        "    print(\"your age is :\",self.age)\n",
        "\n",
        "child = Parent(\"Avi\",23)\n",
        "child.print_name()\n",
        "child.print_age()"
      ],
      "metadata": {
        "colab": {
          "base_uri": "https://localhost:8080/"
        },
        "id": "rPKtTuMhPmiT",
        "outputId": "18333037-405d-44b0-a3c8-a18c5c0ca198"
      },
      "execution_count": null,
      "outputs": [
        {
          "output_type": "stream",
          "name": "stdout",
          "text": [
            "your name is: Avi\n",
            "your age is : 23\n"
          ]
        }
      ]
    },
    {
      "cell_type": "code",
      "source": [
        "class Data:\n",
        "  def __init__(self,public,protected,private):\n",
        "    self.public  = public\n",
        "    self._protected = protected\n",
        "    self.__private = private\n",
        "\n",
        "\n",
        "\n",
        "\n",
        "  def get_private(self):\n",
        "    print(\"Private:\",self.__private)\n",
        "\n",
        "  def set_private(self,new):\n",
        "    self.__private = new\n",
        "    print(\"Private:\",new)\n",
        "\n",
        "\n",
        "d = Data(12,14,15)\n",
        "# print(d.public)\n",
        "# print(d._protected)\n",
        "# print(d.__private)\n",
        "d.get_private()\n",
        "d.set_private(16)\n",
        "d.get_private()\n",
        "\n",
        "\n"
      ],
      "metadata": {
        "colab": {
          "base_uri": "https://localhost:8080/"
        },
        "id": "CF5suFkxrDud",
        "outputId": "9918ecea-2a40-43ee-8487-c5f5426279e6"
      },
      "execution_count": null,
      "outputs": [
        {
          "output_type": "stream",
          "name": "stdout",
          "text": [
            "Private: 15\n",
            "Private: 16\n",
            "Private: 16\n"
          ]
        }
      ]
    },
    {
      "cell_type": "code",
      "source": [
        "from abc import ABC, abstractmethod\n",
        "\n",
        "class Animal(ABC):\n",
        "  @abstractmethod\n",
        "  def feed(self):\n",
        "    pass\n",
        "\n",
        "class Panda(Animal):\n",
        "  def feed(self):\n",
        "    print(\"feed panda\")\n",
        "  def wronganimal(self):\n",
        "    print(\"Feeding a panda with tasty bamboo!\")\n",
        "\n",
        "class Snake(Animal):\n",
        "  def feed(self):\n",
        "    print(\"feed Snake\")\n",
        "\n",
        "class Lion(Animal):\n",
        "  def feed(self):\n",
        "    print(\"feed Lion\")\n",
        "\n",
        "\n",
        "\n",
        "# a = Panda()\n",
        "# b= Snake()\n",
        "# c= Lion()\n",
        "\n",
        "# a.feed()\n",
        "# b.feed()\n",
        "# c.feed()\n",
        "\n",
        "# zoo = [Lion(), Snake(), Panda()]\n",
        "\n",
        "# for animal in zoo:\n",
        "#   animal.feed()\n",
        "\n",
        "a = Panda()\n",
        "a.feed()\n"
      ],
      "metadata": {
        "colab": {
          "base_uri": "https://localhost:8080/"
        },
        "id": "Z1g4wUctuDej",
        "outputId": "1ceb9bb9-cc71-423e-b408-20e57759748c"
      },
      "execution_count": null,
      "outputs": [
        {
          "output_type": "stream",
          "name": "stdout",
          "text": [
            "feed panda\n"
          ]
        }
      ]
    },
    {
      "cell_type": "code",
      "source": [
        "from abc import ABC,abstractmethod\n",
        "\n",
        "class Animal(ABC):\n",
        "  @abstractmethod\n",
        "  def do(self, action,time):\n",
        "    a=10\n",
        "    print(a)\n",
        "    return \"wow\"\n",
        "\n",
        "class Panda(Animal):\n",
        "  def do(self,action,time):\n",
        "    print(f\"{action} a Panda at {time}\" )\n",
        "\n",
        "class Lion(Animal):\n",
        "  def do(self,action,time):\n",
        "    print(f\"{action} a Lion at {time}\")\n",
        "\n",
        "class Snake(Animal):\n",
        "  def do(self,action,time):\n",
        "    print(f\"{action} a Snake at {time}\" )\n",
        "\n",
        "zoo = [ Panda(),Lion(),Snake()]\n",
        "\n",
        "for animal in zoo:\n",
        "\n",
        "  animal.do(action = \"feeding\",time = \"4.00am\")\n",
        "  # animal.do()\n",
        "\n"
      ],
      "metadata": {
        "colab": {
          "base_uri": "https://localhost:8080/"
        },
        "id": "r5NEjW7J14PQ",
        "outputId": "fb37f7f1-63f3-4443-fcb2-73ad89fcf3e0"
      },
      "execution_count": null,
      "outputs": [
        {
          "output_type": "stream",
          "name": "stdout",
          "text": [
            "feeding a Panda at 4.00am\n",
            "feeding a Lion at 4.00am\n",
            "feeding a Snake at 4.00am\n"
          ]
        }
      ]
    },
    {
      "cell_type": "code",
      "source": [
        "from abc import ABC,abstractmethod\n",
        "\n",
        "class Animal(ABC):\n",
        "  @property\n",
        "  def food_eaten(self):\n",
        "    return self._foodyo\n",
        "\n",
        "  @food_eaten.setter\n",
        "  def food_eaten(self,food):\n",
        "\n",
        "    if food in self.diet:\n",
        "      self._food = food\n",
        "    else:\n",
        "      raise ValueError(f\"You can't feed this animal with {food}.\")\n",
        "\n",
        "\n",
        "  @property\n",
        "  @abstractmethod\n",
        "  def diet(self):\n",
        "    pass\n",
        "\n",
        "  @abstractmethod\n",
        "  def feed(self,time):\n",
        "    pass\n",
        "\n",
        "class Lion(Animal):\n",
        "  @property\n",
        "  def diet(self):\n",
        "    return [\"antelope\", \"cheetah\",\"buffalo\"]\n",
        "\n",
        "  def feed(self,time):\n",
        "    print(f\"Feeding a lion with {self._food} meat! At {time}\")\n",
        "\n",
        "class Snake(Animal):\n",
        "  @property\n",
        "  def diet(self):\n",
        "    return[\"frog\", \"rabbit\"]\n",
        "\n",
        "  def feed(self,time):\n",
        "    print(f\"Feeding a snake with {self._food} meat! At {time}\")\n",
        "\n",
        "\n",
        "leo =Lion()\n",
        "leo.food_eaten = \"antelope\"\n",
        "leo.feed(\"10.10\")\n",
        "\n",
        "adam = Snake()\n",
        "adam.food_eaten = \"frog\"\n",
        "adam.feed(\"10.20\")\n",
        "\n"
      ],
      "metadata": {
        "colab": {
          "base_uri": "https://localhost:8080/"
        },
        "id": "Tag2tB0TX3nW",
        "outputId": "422855a2-48ed-43dc-fe24-685647865688"
      },
      "execution_count": null,
      "outputs": [
        {
          "output_type": "stream",
          "name": "stdout",
          "text": [
            "Feeding a lion with antelope meat! At 10.10\n",
            "Feeding a snake with frog meat! At 10.20\n"
          ]
        }
      ]
    },
    {
      "cell_type": "code",
      "source": [
        "from abc import ABC, abstractmethod\n",
        "\n",
        "class Parent(ABC):\n",
        "\n",
        "  def rk(self):\n",
        "    print(\"ABS\")\n",
        "\n",
        "class Child(Parent):\n",
        "  def rk(self):\n",
        "    super().rk()\n",
        "    print(\"subclass\")\n",
        "\n",
        "\n",
        "new = Child()\n",
        "new.rk()"
      ],
      "metadata": {
        "colab": {
          "base_uri": "https://localhost:8080/"
        },
        "id": "PPQoz77smEY5",
        "outputId": "98b33866-5289-42a0-e1f0-ec3e898e7c59"
      },
      "execution_count": null,
      "outputs": [
        {
          "output_type": "stream",
          "name": "stdout",
          "text": [
            "ABS\n",
            "subclass\n"
          ]
        }
      ]
    },
    {
      "cell_type": "code",
      "source": [
        "import abc\n",
        "class Parent(ABC):\n",
        "  @abc.abstractproperty\n",
        "  def geeks(self):\n",
        "    return \"parent class\"\n",
        "\n",
        "class Child(Parent):\n",
        "  @property\n",
        "  def geeks(self):\n",
        "    return \"child class\"\n",
        "\n",
        "\n",
        "try:\n",
        "  new_object = Parent()\n",
        "  print(new_object.geeks)\n",
        "\n",
        "except Exception as err:\n",
        "  print(err)\n",
        "\n",
        "new_object = Child()\n",
        "print(new_object.geeks)\n",
        "\n",
        "\n",
        "\n",
        "\n",
        "\n"
      ],
      "metadata": {
        "colab": {
          "base_uri": "https://localhost:8080/"
        },
        "id": "d353iZc1bjTq",
        "outputId": "5e981089-0ba4-4fb5-bc0c-4ff5b3567594"
      },
      "execution_count": null,
      "outputs": [
        {
          "output_type": "stream",
          "name": "stdout",
          "text": [
            "Can't instantiate abstract class Parent with abstract methods geeks\n",
            "child class\n"
          ]
        }
      ]
    },
    {
      "cell_type": "markdown",
      "source": [
        "## How property decorator actually works"
      ],
      "metadata": {
        "id": "y-oXSBCc80Rh"
      }
    },
    {
      "cell_type": "code",
      "source": [
        "# using property class\n",
        "class Celsius:\n",
        "    def __init__(self, temperature=0):        #2\n",
        "        self.temperature = temperature\n",
        "\n",
        "    def to_fahrenheit(self):                 #9\n",
        "        return (self.temperature * 1.8) + 32            #10\n",
        "\n",
        "    # getter\n",
        "    def get_temperature(self):                                 #7       #12\n",
        "        print(\"Getting value...\")\n",
        "        return self._temperature\n",
        "\n",
        "    # setter\n",
        "    '''because this method has both self and value this\n",
        "       will be called  when we use human = Celcius(37). 37\n",
        "       is extra parameter which getter can't\n",
        "       execute so first setter will be executed'''\n",
        "    def set_temperature(self, value):                        #6       #11\n",
        "      print(\"Setting value...\")\n",
        "      if value < -273.15:\n",
        "            raise ValueError(\"Temperature below -273.15 is not possible\")     #15\n",
        "      self._temperature = value\n",
        "\n",
        "    # creating a property object\n",
        "    temperature = property(get_temperature, set_temperature)     #3  #5       #14\n",
        "\n",
        "\n",
        "human = Celsius(37)             #1\n",
        "\n",
        "print(human.temperature)        #4\n",
        "\n",
        "print(human.to_fahrenheit())     #8\n",
        "\n",
        "human.temperature = -300         #13"
      ],
      "metadata": {
        "colab": {
          "base_uri": "https://localhost:8080/",
          "height": 443
        },
        "id": "Q-owdhU38zls",
        "outputId": "f4e42607-64bc-4757-a700-6cb0c347cf1b"
      },
      "execution_count": null,
      "outputs": [
        {
          "output_type": "stream",
          "name": "stdout",
          "text": [
            "Setting value...\n",
            "Getting value...\n",
            "37\n",
            "Getting value...\n",
            "98.60000000000001\n",
            "Setting value...\n"
          ]
        },
        {
          "output_type": "error",
          "ename": "ValueError",
          "evalue": "ignored",
          "traceback": [
            "\u001b[0;31m---------------------------------------------------------------------------\u001b[0m",
            "\u001b[0;31mValueError\u001b[0m                                Traceback (most recent call last)",
            "\u001b[0;32m<ipython-input-56-c9da66700f56>\u001b[0m in \u001b[0;36m<module>\u001b[0;34m()\u001b[0m\n\u001b[1;32m     33\u001b[0m \u001b[0mprint\u001b[0m\u001b[0;34m(\u001b[0m\u001b[0mhuman\u001b[0m\u001b[0;34m.\u001b[0m\u001b[0mto_fahrenheit\u001b[0m\u001b[0;34m(\u001b[0m\u001b[0;34m)\u001b[0m\u001b[0;34m)\u001b[0m     \u001b[0;31m#8\u001b[0m\u001b[0;34m\u001b[0m\u001b[0;34m\u001b[0m\u001b[0m\n\u001b[1;32m     34\u001b[0m \u001b[0;34m\u001b[0m\u001b[0m\n\u001b[0;32m---> 35\u001b[0;31m \u001b[0mhuman\u001b[0m\u001b[0;34m.\u001b[0m\u001b[0mtemperature\u001b[0m \u001b[0;34m=\u001b[0m \u001b[0;34m-\u001b[0m\u001b[0;36m300\u001b[0m         \u001b[0;31m#13\u001b[0m\u001b[0;34m\u001b[0m\u001b[0;34m\u001b[0m\u001b[0m\n\u001b[0m",
            "\u001b[0;32m<ipython-input-56-c9da66700f56>\u001b[0m in \u001b[0;36mset_temperature\u001b[0;34m(self, value)\u001b[0m\n\u001b[1;32m     20\u001b[0m       \u001b[0mprint\u001b[0m\u001b[0;34m(\u001b[0m\u001b[0;34m\"Setting value...\"\u001b[0m\u001b[0;34m)\u001b[0m\u001b[0;34m\u001b[0m\u001b[0;34m\u001b[0m\u001b[0m\n\u001b[1;32m     21\u001b[0m       \u001b[0;32mif\u001b[0m \u001b[0mvalue\u001b[0m \u001b[0;34m<\u001b[0m \u001b[0;34m-\u001b[0m\u001b[0;36m273.15\u001b[0m\u001b[0;34m:\u001b[0m\u001b[0;34m\u001b[0m\u001b[0;34m\u001b[0m\u001b[0m\n\u001b[0;32m---> 22\u001b[0;31m             \u001b[0;32mraise\u001b[0m \u001b[0mValueError\u001b[0m\u001b[0;34m(\u001b[0m\u001b[0;34m\"Temperature below -273.15 is not possible\"\u001b[0m\u001b[0;34m)\u001b[0m     \u001b[0;31m#15\u001b[0m\u001b[0;34m\u001b[0m\u001b[0;34m\u001b[0m\u001b[0m\n\u001b[0m\u001b[1;32m     23\u001b[0m       \u001b[0mself\u001b[0m\u001b[0;34m.\u001b[0m\u001b[0m_temperature\u001b[0m \u001b[0;34m=\u001b[0m \u001b[0mvalue\u001b[0m\u001b[0;34m\u001b[0m\u001b[0;34m\u001b[0m\u001b[0m\n\u001b[1;32m     24\u001b[0m \u001b[0;34m\u001b[0m\u001b[0m\n",
            "\u001b[0;31mValueError\u001b[0m: Temperature below -273.15 is not possible"
          ]
        }
      ]
    },
    {
      "cell_type": "code",
      "source": [
        "# Using @property decorator\n",
        "class Celsius:\n",
        "    def __init__(self, temperature=0):\n",
        "        self.temperature = temperature\n",
        "\n",
        "    def to_fahrenheit(self):\n",
        "        return (self.temperature * 1.8) + 32\n",
        "\n",
        "    @property\n",
        "    def temperature(self):\n",
        "        print(\"Getting value...\")\n",
        "        return self._temperature\n",
        "\n",
        "    @temperature.setter\n",
        "    def temperature(self, value):\n",
        "        print(\"Setting value...\")\n",
        "        if value < -273.15:\n",
        "            raise ValueError(\"Temperature below -273 is not possible\")\n",
        "        self._temperature = value\n",
        "\n",
        "\n",
        "# create an object\n",
        "human = Celsius(37)\n",
        "\n",
        "print(human.temperature)\n",
        "\n",
        "print(human.to_fahrenheit())\n",
        "\n",
        "coldest_thing = Celsius(-300)"
      ],
      "metadata": {
        "colab": {
          "base_uri": "https://localhost:8080/",
          "height": 449
        },
        "id": "NK_aPdFMAKQH",
        "outputId": "793d9081-edd1-4cba-f5c2-48dd3e6d7d72"
      },
      "execution_count": null,
      "outputs": [
        {
          "output_type": "stream",
          "name": "stdout",
          "text": [
            "Setting value...\n",
            "Getting value...\n",
            "37\n",
            "Getting value...\n",
            "98.60000000000001\n",
            "Setting value...\n"
          ]
        },
        {
          "output_type": "error",
          "ename": "ValueError",
          "evalue": "ignored",
          "traceback": [
            "\u001b[0;31m---------------------------------------------------------------------------\u001b[0m",
            "\u001b[0;31mValueError\u001b[0m                                Traceback (most recent call last)",
            "\u001b[0;32m<ipython-input-54-aebf63a39376>\u001b[0m in \u001b[0;36m<module>\u001b[0;34m()\u001b[0m\n\u001b[1;32m     27\u001b[0m \u001b[0mprint\u001b[0m\u001b[0;34m(\u001b[0m\u001b[0mhuman\u001b[0m\u001b[0;34m.\u001b[0m\u001b[0mto_fahrenheit\u001b[0m\u001b[0;34m(\u001b[0m\u001b[0;34m)\u001b[0m\u001b[0;34m)\u001b[0m\u001b[0;34m\u001b[0m\u001b[0;34m\u001b[0m\u001b[0m\n\u001b[1;32m     28\u001b[0m \u001b[0;34m\u001b[0m\u001b[0m\n\u001b[0;32m---> 29\u001b[0;31m \u001b[0mcoldest_thing\u001b[0m \u001b[0;34m=\u001b[0m \u001b[0mCelsius\u001b[0m\u001b[0;34m(\u001b[0m\u001b[0;34m-\u001b[0m\u001b[0;36m300\u001b[0m\u001b[0;34m)\u001b[0m\u001b[0;34m\u001b[0m\u001b[0;34m\u001b[0m\u001b[0m\n\u001b[0m",
            "\u001b[0;32m<ipython-input-54-aebf63a39376>\u001b[0m in \u001b[0;36m__init__\u001b[0;34m(self, temperature)\u001b[0m\n\u001b[1;32m      2\u001b[0m \u001b[0;32mclass\u001b[0m \u001b[0mCelsius\u001b[0m\u001b[0;34m:\u001b[0m\u001b[0;34m\u001b[0m\u001b[0;34m\u001b[0m\u001b[0m\n\u001b[1;32m      3\u001b[0m     \u001b[0;32mdef\u001b[0m \u001b[0m__init__\u001b[0m\u001b[0;34m(\u001b[0m\u001b[0mself\u001b[0m\u001b[0;34m,\u001b[0m \u001b[0mtemperature\u001b[0m\u001b[0;34m=\u001b[0m\u001b[0;36m0\u001b[0m\u001b[0;34m)\u001b[0m\u001b[0;34m:\u001b[0m\u001b[0;34m\u001b[0m\u001b[0;34m\u001b[0m\u001b[0m\n\u001b[0;32m----> 4\u001b[0;31m         \u001b[0mself\u001b[0m\u001b[0;34m.\u001b[0m\u001b[0mtemperature\u001b[0m \u001b[0;34m=\u001b[0m \u001b[0mtemperature\u001b[0m\u001b[0;34m\u001b[0m\u001b[0;34m\u001b[0m\u001b[0m\n\u001b[0m\u001b[1;32m      5\u001b[0m \u001b[0;34m\u001b[0m\u001b[0m\n\u001b[1;32m      6\u001b[0m     \u001b[0;32mdef\u001b[0m \u001b[0mto_fahrenheit\u001b[0m\u001b[0;34m(\u001b[0m\u001b[0mself\u001b[0m\u001b[0;34m)\u001b[0m\u001b[0;34m:\u001b[0m\u001b[0;34m\u001b[0m\u001b[0;34m\u001b[0m\u001b[0m\n",
            "\u001b[0;32m<ipython-input-54-aebf63a39376>\u001b[0m in \u001b[0;36mtemperature\u001b[0;34m(self, value)\u001b[0m\n\u001b[1;32m     16\u001b[0m         \u001b[0mprint\u001b[0m\u001b[0;34m(\u001b[0m\u001b[0;34m\"Setting value...\"\u001b[0m\u001b[0;34m)\u001b[0m\u001b[0;34m\u001b[0m\u001b[0;34m\u001b[0m\u001b[0m\n\u001b[1;32m     17\u001b[0m         \u001b[0;32mif\u001b[0m \u001b[0mvalue\u001b[0m \u001b[0;34m<\u001b[0m \u001b[0;34m-\u001b[0m\u001b[0;36m273.15\u001b[0m\u001b[0;34m:\u001b[0m\u001b[0;34m\u001b[0m\u001b[0;34m\u001b[0m\u001b[0m\n\u001b[0;32m---> 18\u001b[0;31m             \u001b[0;32mraise\u001b[0m \u001b[0mValueError\u001b[0m\u001b[0;34m(\u001b[0m\u001b[0;34m\"Temperature below -273 is not possible\"\u001b[0m\u001b[0;34m)\u001b[0m\u001b[0;34m\u001b[0m\u001b[0;34m\u001b[0m\u001b[0m\n\u001b[0m\u001b[1;32m     19\u001b[0m         \u001b[0mself\u001b[0m\u001b[0;34m.\u001b[0m\u001b[0m_temperature\u001b[0m \u001b[0;34m=\u001b[0m \u001b[0mvalue\u001b[0m\u001b[0;34m\u001b[0m\u001b[0;34m\u001b[0m\u001b[0m\n\u001b[1;32m     20\u001b[0m \u001b[0;34m\u001b[0m\u001b[0m\n",
            "\u001b[0;31mValueError\u001b[0m: Temperature below -273 is not possible"
          ]
        }
      ]
    }
  ]
}